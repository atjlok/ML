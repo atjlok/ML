{
 "cells": [
  {
   "cell_type": "markdown",
   "id": "17b5756a",
   "metadata": {},
   "source": [
    " \n",
    "# 📌Topic 1: Introduction to Pandas\n",
    "\n",
    "## What is Pandas?\n",
    "Pandas is a powerful Python library for data manipulation and analysis. It provides flexible data structures such as Series and DataFrame that allow for efficient data handling.\n",
    "\n",
    "## Installing Pandas\n",
    "This page has Pandas installed and running in the background, \n",
    "\n",
    "The standard method to install pandas in your machine is ... \n",
    "\n",
    "```sh\n",
    "pip install pandas\n",
    "```"
   ]
  },
  {
   "cell_type": "markdown",
   "id": "2cdb3796",
   "metadata": {},
   "source": [
    "# Importing pandas\n",
    "\n",
    "import pandas as pd  (We need to import pandas to use it in our code blocks)"
   ]
  },
  {
   "cell_type": "markdown",
   "id": "238df559",
   "metadata": {},
   "source": [
    " \n",
    "## 📍 How to Create a Simple Series\n",
    "A Series is a one-dimensional labeled array capable of holding any data type.\n",
    " "
   ]
  },
  {
   "cell_type": "code",
   "execution_count": null,
   "id": "c0a89e29",
   "metadata": {},
   "outputs": [],
   "source": [
    "# Note: pd is an alias for pandas - \" it is a short name for quick reference \"\n",
    "\n",
    "import pandas as pd   \n",
    "\n",
    "# Creating a Series\n",
    "\n",
    "data = [10, 20, 30, 40, 50]\n",
    "\n",
    "series = pd.Series(data) # pd refers to pandas\n",
    "\n",
    "series"
   ]
  },
  {
   "cell_type": "markdown",
   "id": "94f08226",
   "metadata": {},
   "source": [
    " \n",
    "## 📍 How to Create a Simple DataFrame\n",
    "A DataFrame is a two-dimensional labeled data structure with columns of potentially different types.\n",
    " "
   ]
  },
  {
   "cell_type": "code",
   "execution_count": null,
   "id": "de8c70ca",
   "metadata": {},
   "outputs": [],
   "source": [
    "# Creating a DataFrame from a dictionary\n",
    "\n",
    "import pandas as pd \n",
    "\n",
    "data = {\n",
    "    'Name': ['Prasun', 'Neha', 'Rahul', 'Priya'],\n",
    "    'Age': [25, 30, 22, 28],\n",
    "    'City': ['Mumbai', 'Delhi', 'Bangalore', 'Chennai']\n",
    "}\n",
    "\n",
    "df = pd.DataFrame(data) # pd refers to pandas\n",
    "\n",
    "a = df"
   ]
  },
  {
   "cell_type": "markdown",
   "id": "3dabd554",
   "metadata": {},
   "source": [
    " \n",
    "# Topic 2: Pandas Data Structures\n",
    "\n",
    "## 📍 Pandas Series\n",
    "A Series is a one-dimensional array-like structure with labels (index). It can hold any data type.\n",
    " "
   ]
  },
  {
   "cell_type": "code",
   "execution_count": null,
   "id": "35ff9689",
   "metadata": {},
   "outputs": [],
   "source": [
    "import pandas as pd\n",
    "\n",
    "# Creating a Series from a list\n",
    "\n",
    "data = [100, 200, 300, 400, 500]\n",
    "series = pd.Series(data, index=['a', 'b', 'c', 'd', 'e'])\n",
    "\n",
    "series"
   ]
  },
  {
   "cell_type": "markdown",
   "id": "a8311048",
   "metadata": {},
   "source": [
    " \n",
    "## 📍 Pandas DataFrame\n",
    "A DataFrame is a two-dimensional labeled data structure with columns of potentially different types.\n",
    " "
   ]
  },
  {
   "cell_type": "code",
   "execution_count": null,
   "id": "20104ab1",
   "metadata": {},
   "outputs": [],
   "source": [
    "# Creating a DataFrame from a dictionary\n",
    "\n",
    "import pandas as pd \n",
    "\n",
    "data = {\n",
    "    'Employee': ['Prasun', 'Krish', 'Amit', 'Priya'],\n",
    "    'Salary': [50000, 60000, 55000, 52000],\n",
    "    'Department': ['IT', 'HR', 'Finance', 'Marketing']\n",
    "}\n",
    "df = pd.DataFrame(data)\n",
    "\n",
    "a = df "
   ]
  },
  {
   "cell_type": "markdown",
   "id": "e97aa2fc",
   "metadata": {},
   "source": [
    " \n",
    "# Topic 3: DataFrame Indexing and Selection\n",
    "\n",
    "## 📍 Selecting Columns in a DataFrame\n",
    "We can select a single column or multiple columns from a DataFrame.\n",
    " "
   ]
  },
  {
   "cell_type": "code",
   "execution_count": null,
   "id": "27d7af00",
   "metadata": {
    "scrolled": true
   },
   "outputs": [],
   "source": [
    "import pandas as pd\n",
    "\n",
    "# Creating a sample DataFrame\n",
    "\n",
    "data = {\n",
    "    'Employee': ['Prasun', 'Krish', 'Amit', 'Priya'],\n",
    "    'Salary': [50000, 60000, 55000, 52000],\n",
    "    'Department': ['IT', 'HR', 'Finance', 'Marketing']\n",
    "}\n",
    "\n",
    "df = pd.DataFrame(data)\n",
    "\n",
    "# Selecting a single column\n",
    "\n",
    "a = df[['Employee']]\n"
   ]
  },
  {
   "cell_type": "code",
   "execution_count": null,
   "id": "bc63451d",
   "metadata": {},
   "outputs": [],
   "source": [
    "import pandas as pd\n",
    "\n",
    "# Creating a sample DataFrame\n",
    "\n",
    "data = {\n",
    "    'Employee': ['Prasun', 'Krish', 'Amit', 'Priya'],\n",
    "    'Salary': [50000, 60000, 55000, 52000],\n",
    "    'Department': ['IT', 'HR', 'Finance', 'Marketing']\n",
    "}\n",
    "\n",
    "df = pd.DataFrame(data)\n",
    "\n",
    "# Selecting multiple columns\n",
    "\n",
    "a = df[['Employee', 'Salary']]"
   ]
  },
  {
   "cell_type": "markdown",
   "id": "bdfef7ad",
   "metadata": {},
   "source": [
    " \n",
    "## 📍 Selecting Rows in a DataFrame\n",
    "We can use `.loc[]` and `.iloc[]` to select rows based on labels or positions.\n",
    " "
   ]
  },
  {
   "cell_type": "code",
   "execution_count": null,
   "id": "a55c35e7",
   "metadata": {},
   "outputs": [],
   "source": [
    "# Creating a sample DataFrame\n",
    "\n",
    "import pandas as pd \n",
    "\n",
    "data = {\n",
    "    'Employee': ['Prasun', 'Krish', 'Amit', 'Priya'],\n",
    "    'Salary': [50000, 60000, 55000, 52000],\n",
    "    'Department': ['IT', 'HR', 'Finance', 'Marketing']\n",
    "}\n",
    "\n",
    "df = pd.DataFrame(data)\n",
    "\n",
    "# Selecting rows using loc\n",
    "\n",
    "a = df.loc[[1]]"
   ]
  },
  {
   "cell_type": "code",
   "execution_count": null,
   "id": "110deabd",
   "metadata": {},
   "outputs": [],
   "source": [
    "# Creating a sample DataFrame\n",
    "\n",
    "import pandas as pd\n",
    "\n",
    "data = {\n",
    "    'Employee': ['Prasun', 'Krish', 'Amit', 'Priya'],\n",
    "    'Salary': [50000, 60000, 55000, 52000],\n",
    "    'Department': ['IT', 'HR', 'Finance', 'Marketing']\n",
    "}\n",
    "\n",
    "df = pd.DataFrame(data)\n",
    "\n",
    "\n",
    "# Selecting rows using iloc\n",
    "\n",
    "a = df.iloc[[2]]"
   ]
  },
  {
   "cell_type": "markdown",
   "id": "31e5bf72",
   "metadata": {},
   "source": [
    " \n",
    "## 📍 Filtering Data based on Conditions\n",
    "We can filter data based on conditions applied to DataFrame columns.\n",
    " "
   ]
  },
  {
   "cell_type": "code",
   "execution_count": null,
   "id": "e0217819",
   "metadata": {},
   "outputs": [],
   "source": [
    "import pandas as pd\n",
    "\n",
    "# Creating a sample DataFrame\n",
    "\n",
    "data = {\n",
    "    'Employee': ['Prasun', 'Krish', 'Amit', 'Priya'],\n",
    "    'Salary': [50000, 60000, 55000, 52000],\n",
    "    'Department': ['IT', 'HR', 'Finance', 'Marketing']\n",
    "}\n",
    "\n",
    "df = pd.DataFrame(data)\n",
    "\n",
    "# Filtering employees with Salary greater than 55000\n",
    "\n",
    "filtered_df = df[df['Salary'] > 55000]\n",
    "\n",
    "a = filtered_df"
   ]
  },
  {
   "cell_type": "markdown",
   "id": "67966b05",
   "metadata": {},
   "source": [
    " \n",
    "# Topic 4: DataFrame Operations and Manipulations\n",
    "\n",
    "## 📍 Adding a New Column\n",
    "We can add a new column to a DataFrame by assigning values to it.\n",
    " "
   ]
  },
  {
   "cell_type": "code",
   "execution_count": 1,
   "id": "3dfe17c3",
   "metadata": {},
   "outputs": [
    {
     "data": {
      "text/html": [
       "<div>\n",
       "<style scoped>\n",
       "    .dataframe tbody tr th:only-of-type {\n",
       "        vertical-align: middle;\n",
       "    }\n",
       "\n",
       "    .dataframe tbody tr th {\n",
       "        vertical-align: top;\n",
       "    }\n",
       "\n",
       "    .dataframe thead th {\n",
       "        text-align: right;\n",
       "    }\n",
       "</style>\n",
       "<table border=\"1\" class=\"dataframe\">\n",
       "  <thead>\n",
       "    <tr style=\"text-align: right;\">\n",
       "      <th></th>\n",
       "      <th>Employee</th>\n",
       "      <th>Salary</th>\n",
       "      <th>Department</th>\n",
       "      <th>Bonus</th>\n",
       "    </tr>\n",
       "  </thead>\n",
       "  <tbody>\n",
       "    <tr>\n",
       "      <th>0</th>\n",
       "      <td>Prasun</td>\n",
       "      <td>50000</td>\n",
       "      <td>IT</td>\n",
       "      <td>5000.0</td>\n",
       "    </tr>\n",
       "    <tr>\n",
       "      <th>1</th>\n",
       "      <td>Krish</td>\n",
       "      <td>60000</td>\n",
       "      <td>HR</td>\n",
       "      <td>6000.0</td>\n",
       "    </tr>\n",
       "    <tr>\n",
       "      <th>2</th>\n",
       "      <td>Amit</td>\n",
       "      <td>55000</td>\n",
       "      <td>Finance</td>\n",
       "      <td>5500.0</td>\n",
       "    </tr>\n",
       "    <tr>\n",
       "      <th>3</th>\n",
       "      <td>Priya</td>\n",
       "      <td>52000</td>\n",
       "      <td>Marketing</td>\n",
       "      <td>5200.0</td>\n",
       "    </tr>\n",
       "  </tbody>\n",
       "</table>\n",
       "</div>"
      ],
      "text/plain": [
       "  Employee  Salary Department   Bonus\n",
       "0   Prasun   50000         IT  5000.0\n",
       "1    Krish   60000         HR  6000.0\n",
       "2     Amit   55000    Finance  5500.0\n",
       "3    Priya   52000  Marketing  5200.0"
      ]
     },
     "execution_count": 1,
     "metadata": {},
     "output_type": "execute_result"
    }
   ],
   "source": [
    "import pandas as pd\n",
    "\n",
    "# Creating a sample DataFrame\n",
    "\n",
    "data = {\n",
    "    'Employee': ['Prasun', 'Krish', 'Amit', 'Priya'],\n",
    "    'Salary': [50000, 60000, 55000, 52000],\n",
    "    'Department': ['IT', 'HR', 'Finance', 'Marketing']\n",
    "}\n",
    "\n",
    "df = pd.DataFrame(data)\n",
    "\n",
    "# Adding a new column\n",
    "\n",
    "df['Bonus'] = df['Salary'] * 0.1\n",
    "\n",
    "a = df \n"
   ]
  },
  {
   "cell_type": "markdown",
   "id": "19b94e02",
   "metadata": {},
   "source": [
    " \n",
    "## 📍 Modifying an Existing Column\n",
    "We can modify an existing column by reassigning values.\n",
    " "
   ]
  },
  {
   "cell_type": "code",
   "execution_count": null,
   "id": "b795528e",
   "metadata": {},
   "outputs": [],
   "source": [
    "import pandas as pd\n",
    "\n",
    "# Creating a sample DataFrame\n",
    "\n",
    "data = {\n",
    "    'Employee': ['Prasun', 'Krish', 'Amit', 'Priya'],\n",
    "    'Salary': [50000, 60000, 55000, 52000],\n",
    "    'Department': ['IT', 'HR', 'Finance', 'Marketing']\n",
    "}\n",
    "\n",
    "df = pd.DataFrame(data)\n",
    "\n",
    "\n",
    "# Increasing salary by 5%\n",
    "\n",
    "df['Salary'] = df['Salary'] * 1.05\n",
    "\n",
    "a = df"
   ]
  },
  {
   "cell_type": "markdown",
   "id": "5e4976e5",
   "metadata": {},
   "source": [
    " \n",
    "## 📍  Deleting a Column\n",
    "We can remove a column using `drop()`.\n",
    " "
   ]
  },
  {
   "cell_type": "code",
   "execution_count": null,
   "id": "0930ce4f",
   "metadata": {},
   "outputs": [],
   "source": [
    "import pandas as pd\n",
    "\n",
    "# Creating a sample DataFrame\n",
    "\n",
    "data = {\n",
    "    'Employee': ['Prasun', 'Krish', 'Amit', 'Priya'],\n",
    "    'Salary': [50000, 60000, 55000, 52000],\n",
    "    'Department': ['IT', 'HR', 'Finance', 'Marketing'],\n",
    "}\n",
    "\n",
    "df = pd.DataFrame(data)\n",
    "\n",
    "# Dropping the Salary column\n",
    "\n",
    "df = df.drop(columns=['Salary'])\n",
    "a = df"
   ]
  },
  {
   "cell_type": "markdown",
   "id": "bef1ce87",
   "metadata": {},
   "source": [
    " \n",
    "## 📍 Renaming Columns\n",
    "We can rename columns using `rename()`.\n",
    " "
   ]
  },
  {
   "cell_type": "code",
   "execution_count": null,
   "id": "f5d47de8",
   "metadata": {},
   "outputs": [],
   "source": [
    "import pandas as pd\n",
    "\n",
    "# Creating a sample DataFrame\n",
    "\n",
    "data = {\n",
    "    'Employee': ['Prasun', 'Krish', 'Amit', 'Priya'],\n",
    "    'Salary': [50000, 60000, 55000, 52000],\n",
    "    'Department': ['IT', 'HR', 'Finance', 'Marketing']\n",
    "}\n",
    "\n",
    "# Renaming columns\n",
    "\n",
    "df = df.rename(columns={'Employee': 'Emp Name', 'Salary': 'Monthly Salary'})\n",
    "a = df "
   ]
  },
  {
   "cell_type": "markdown",
   "id": "c57cbf57",
   "metadata": {},
   "source": [
    " \n",
    "# Topic 5: Handling Missing Data in Pandas\n",
    "\n",
    "## 📍  Identifying Missing Data\n",
    "We can check for missing values in a DataFrame using `isna()` or `isnull()`.\n",
    " "
   ]
  },
  {
   "cell_type": "code",
   "execution_count": null,
   "id": "8a781ca7",
   "metadata": {
    "scrolled": true
   },
   "outputs": [],
   "source": [
    "import pandas as pd\n",
    "import numpy as np\n",
    "\n",
    "# Creating a sample DataFrame with missing values\n",
    "data = {\n",
    "    'Employee': ['Prasun', 'Krish', 'Amit', 'Priya'],\n",
    "    'Salary': [50000, np.nan, 55000, 52000],\n",
    "    'Department': ['IT', 'HR', np.nan, 'Marketing']\n",
    "}\n",
    "df = pd.DataFrame(data)\n",
    "\n",
    "# Checking for missing values\n",
    "\n",
    "a = df.isna()"
   ]
  },
  {
   "cell_type": "code",
   "execution_count": null,
   "id": "e10236a7",
   "metadata": {},
   "outputs": [],
   "source": [
    "import pandas as pd\n",
    "import numpy as np\n",
    "\n",
    "# Creating a sample DataFrame with missing values\n",
    "data = {\n",
    "    'Employee': ['Prasun', 'Krish', 'Amit', 'Priya'],\n",
    "    'Salary': [50000, np.nan, 55000, 52000],\n",
    "    'Department': ['IT', 'HR', np.nan, 'Marketing']\n",
    "}\n",
    "df = pd.DataFrame(data)\n",
    "\n",
    "# Checking for missing values with sum.\n",
    "\n",
    "a =  df.isna().sum()"
   ]
  },
  {
   "cell_type": "markdown",
   "id": "d151b7dc",
   "metadata": {},
   "source": [
    " \n",
    "## 📍  Filling Missing Data\n",
    "We can fill missing values using `fillna()`.\n",
    " "
   ]
  },
  {
   "cell_type": "code",
   "execution_count": null,
   "id": "5b00ff14",
   "metadata": {},
   "outputs": [],
   "source": [
    "import pandas as pd\n",
    "import numpy as np\n",
    "\n",
    "# Creating a sample DataFrame with missing values\n",
    "data = {\n",
    "    'Employee': ['Prasun', 'Krish', 'Amit', 'Priya'],\n",
    "    'Salary': [50000, np.nan, 55000, 52000],\n",
    "    'Department': ['IT', 'HR', np.nan, 'Marketing']\n",
    "}\n",
    "df = pd.DataFrame(data)\n",
    "\n",
    "\n",
    "# Filling missing values with a default value\n",
    "\n",
    "df_filled = df.fillna({'Salary': df['Salary'].mean(), 'Department': 'Unknown'})\n",
    "\n",
    "a = df_filled"
   ]
  },
  {
   "cell_type": "markdown",
   "id": "0e80ae2b",
   "metadata": {},
   "source": [
    " \n",
    "## 📍 Dropping Missing Data\n",
    "We can drop rows or columns containing missing values using `dropna()`.\n",
    " "
   ]
  },
  {
   "cell_type": "code",
   "execution_count": null,
   "id": "a0db6a19",
   "metadata": {},
   "outputs": [],
   "source": [
    "import pandas as pd\n",
    "import numpy as np\n",
    "\n",
    "# Creating a sample DataFrame with missing values\n",
    "data = {\n",
    "    'Employee': ['Prasun', 'Krish', 'Amit', 'Priya'],\n",
    "    'Salary': [50000, np.nan, 55000, 52000],\n",
    "    'Department': ['IT', 'HR', np.nan, 'Marketing']\n",
    "}\n",
    "df = pd.DataFrame(data)\n",
    "\n",
    "# Dropping rows with missing values\n",
    "\n",
    "df_dropped = df.dropna()\n",
    "\n",
    "a =  df_dropped"
   ]
  },
  {
   "cell_type": "markdown",
   "id": "947d607f",
   "metadata": {},
   "source": [
    " \n",
    "# Topic 6 : Merging, Joining, and Concatenation in Pandas\n",
    "\n",
    "## 📍 Merging DataFrames\n",
    "We can merge DataFrames using `merge()`.\n",
    " "
   ]
  },
  {
   "cell_type": "code",
   "execution_count": null,
   "id": "9d5996a4",
   "metadata": {},
   "outputs": [],
   "source": [
    "import pandas as pd\n",
    "import matplotlib.pyplot as plt\n",
    "\n",
    "# Creating sample DataFrames\n",
    "\n",
    "df1 = pd.DataFrame({\n",
    "    'Employee': ['Prasun', 'Krish', 'Amit', 'Priya', 'Anjali'],\n",
    "    'Department': ['IT', 'HR', 'Finance', 'Marketing', 'Sales'],\n",
    "    'Salary': [50000, 60000, 55000, 52000, 45000]\n",
    "})\n",
    "\n",
    "df2 = pd.DataFrame({\n",
    "    'Employee': ['Prasun', 'Krish', 'Amit', 'Priya', 'Anjali'],\n",
    "    'Experience': [5, 7, 3, 4, 2]\n",
    "})\n",
    "\n",
    "# Merging DataFrames on 'Employee'\n",
    "\n",
    "merged_df = pd.merge(df1, df2, on='Employee')\n",
    "\n",
    "a = merged_df "
   ]
  },
  {
   "cell_type": "code",
   "execution_count": null,
   "id": "231c78f0",
   "metadata": {},
   "outputs": [],
   "source": [
    "import pandas as pd\n",
    "import matplotlib.pyplot as plt\n",
    "\n",
    "# Creating sample DataFrames\n",
    "df1 = pd.DataFrame({\n",
    "    'Employee': ['Prasun', 'Krish', 'Amit', 'Priya', 'Anjali'],\n",
    "    'Department': ['IT', 'HR', 'Finance', 'Marketing', 'Sales'],\n",
    "    'Salary': [50000, 60000, 55000, 52000, 45000]\n",
    "})\n",
    "\n",
    "df2 = pd.DataFrame({\n",
    "    'Employee': ['Prasun', 'Krish', 'Amit', 'Priya', 'Anjali'],\n",
    "    'Experience': [5, 7, 3, 4, 2]\n",
    "})\n",
    "\n",
    "merged_df = pd.merge(df1, df2, on='Employee')\n",
    "\n",
    "# Adding a calculated column for Salary per Year of Experience\n",
    "\n",
    "merged_df['Salary_per_Experience'] = merged_df['Salary'] / merged_df['Experience']\n",
    "\n",
    "a = merged_df"
   ]
  },
  {
   "cell_type": "code",
   "execution_count": null,
   "id": "0fb54633",
   "metadata": {},
   "outputs": [],
   "source": [
    "import pandas as pd\n",
    "\n",
    "# Creating sample DataFrames\n",
    "df1 = pd.DataFrame({\n",
    "    'Employee': ['Prasun', 'Krish', 'Amit', 'Priya', 'Anjali'],\n",
    "    'Department': ['IT', 'HR', 'Finance', 'Marketing', 'Sales'],\n",
    "    'Salary': [50000, 60000, 55000, 52000, 45000]\n",
    "})\n",
    "\n",
    "df2 = pd.DataFrame({\n",
    "    'Employee': ['Prasun', 'Krish', 'Amit', 'Priya', 'Anjali'],\n",
    "    'Experience': [5, 7, 3, 4, 2]\n",
    "})\n",
    "\n",
    "merged_df = pd.merge(df1, df2, on='Employee')\n",
    "\n",
    "merged_df['Salary_per_Experience'] = merged_df['Salary'] / merged_df['Experience']\n",
    "\n",
    "# Filtering for meaningful data: Employees earning above ₹40,000\n",
    "\n",
    "filtered_df = merged_df[merged_df['Salary'] > 40000]\n",
    "\n",
    "a = filtered_df"
   ]
  },
  {
   "cell_type": "code",
   "execution_count": null,
   "id": "ebd55b62",
   "metadata": {},
   "outputs": [],
   "source": [
    "import pandas as pd\n",
    "\n",
    "# Creating sample DataFrames\n",
    "\n",
    "df1 = pd.DataFrame({\n",
    "    'Employee': ['Prasun', 'Krish', 'Amit', 'Priya', 'Anjali'],\n",
    "    'Department': ['IT', 'HR', 'Finance', 'Marketing', 'Sales'],\n",
    "    'Salary': [50000, 60000, 55000, 52000, 45000]\n",
    "})\n",
    "\n",
    "df2 = pd.DataFrame({\n",
    "    'Employee': ['Prasun', 'Krish', 'Amit', 'Priya', 'Anjali'],\n",
    "    'Experience': [5, 7, 3, 4, 2]\n",
    "})\n",
    "\n",
    "merged_df = pd.merge(df1, df2, on='Employee')\n",
    "\n",
    "merged_df['Salary_per_Experience'] = merged_df['Salary'] / merged_df['Experience']\n",
    "\n",
    "# Filtering for meaningful data: Employees earning above ₹40,000\n",
    "\n",
    "filtered_df = merged_df[merged_df['Salary'] > 40000]\n",
    "\n",
    "# Sorting by Salary\n",
    "\n",
    "sorted_df = filtered_df.sort_values(by='Salary', ascending=False)\n",
    "\n",
    "a = sorted_df"
   ]
  },
  {
   "cell_type": "code",
   "execution_count": null,
   "id": "97d5e27b",
   "metadata": {},
   "outputs": [],
   "source": [
    "import pandas as pd\n",
    "\n",
    "\n",
    "# Creating sample DataFrames\n",
    "df1 = pd.DataFrame({\n",
    "    'Employee': ['Prasun', 'Krish', 'Amit', 'Priya', 'Anjali'],\n",
    "    'Department': ['IT', 'HR', 'Finance', 'Marketing', 'Sales'],\n",
    "    'Salary': [50000, 60000, 55000, 52000, 45000]\n",
    "})\n",
    "\n",
    "df2 = pd.DataFrame({\n",
    "    'Employee': ['Prasun', 'Krish', 'Amit', 'Priya', 'Anjali'],\n",
    "    'Experience': [5, 7, 3, 4, 2]\n",
    "})\n",
    "\n",
    "merged_df = pd.merge(df1, df2, on='Employee')\n",
    "\n",
    "merged_df['Salary_per_Experience'] = merged_df['Salary'] / merged_df['Experience']\n",
    "\n",
    "# Filtering for meaningful data: Employees earning above ₹40,000\n",
    "\n",
    "filtered_df = merged_df[merged_df['Salary'] > 40000]\n",
    "\n",
    "# Grouping data: Total salary by department\n",
    "\n",
    "grouped_df = merged_df.groupby('Department').agg({'Salary': 'sum'}).reset_index()\n",
    "\n",
    "a = grouped_df"
   ]
  },
  {
   "cell_type": "code",
   "execution_count": 5,
   "id": "b3447725",
   "metadata": {},
   "outputs": [
    {
     "data": {
      "image/png": "[encoded data removed]",
      "text/plain": [
       "<Figure size 800x500 with 1 Axes>"
      ]
     },
     "metadata": {},
     "output_type": "display_data"
    }
   ],
   "source": [
    "import pandas as pd\n",
    "import matplotlib.pyplot as plt\n",
    "\n",
    "# Creating sample DataFrames\n",
    "\n",
    "df1 = pd.DataFrame({\n",
    "    'Employee': ['Prasun', 'Krish', 'Amit', 'Priya', 'Anjali'],\n",
    "    'Department': ['IT', 'HR', 'Finance', 'Marketing', 'Sales'],\n",
    "    'Salary': [50000, 60000, 55000, 52000, 45000]\n",
    "})\n",
    "\n",
    "df2 = pd.DataFrame({\n",
    "    'Employee': ['Prasun', 'Krish', 'Amit', 'Priya', 'Anjali'],\n",
    "    'Experience': [5, 7, 3, 4, 2]\n",
    "})\n",
    "\n",
    "merged_df = pd.merge(df1, df2, on='Employee')\n",
    "\n",
    "# Visualizing Salary vs. Experience\n",
    "\n",
    "plt.figure(figsize=(8, 5))\n",
    "plt.bar(merged_df['Employee'], merged_df['Salary'], color='blue', alpha=0.7, label='Salary')\n",
    "plt.plot(merged_df['Employee'], merged_df['Experience'], marker='o', color='red', label='Experience')\n",
    "plt.xlabel('Employee')\n",
    "plt.ylabel('Salary / Experience')\n",
    "plt.title('Salary and Experience of Employees')\n",
    "plt.legend()\n",
    "plt.show()"
   ]
  },
  {
   "cell_type": "markdown",
   "id": "992e270a",
   "metadata": {},
   "source": [
    " \n",
    "## 📍 Joining DataFrames\n",
    "We can join DataFrames using `join()`.\n",
    " "
   ]
  },
  {
   "cell_type": "code",
   "execution_count": 6,
   "id": "a02f856e",
   "metadata": {},
   "outputs": [
    {
     "data": {
      "text/html": [
       "<div>\n",
       "<style scoped>\n",
       "    .dataframe tbody tr th:only-of-type {\n",
       "        vertical-align: middle;\n",
       "    }\n",
       "\n",
       "    .dataframe tbody tr th {\n",
       "        vertical-align: top;\n",
       "    }\n",
       "\n",
       "    .dataframe thead th {\n",
       "        text-align: right;\n",
       "    }\n",
       "</style>\n",
       "<table border=\"1\" class=\"dataframe\">\n",
       "  <thead>\n",
       "    <tr style=\"text-align: right;\">\n",
       "      <th></th>\n",
       "      <th>Employee</th>\n",
       "      <th>Salary</th>\n",
       "      <th>Location</th>\n",
       "    </tr>\n",
       "    <tr>\n",
       "      <th>Department</th>\n",
       "      <th></th>\n",
       "      <th></th>\n",
       "      <th></th>\n",
       "    </tr>\n",
       "  </thead>\n",
       "  <tbody>\n",
       "    <tr>\n",
       "      <th>IT</th>\n",
       "      <td>Prasun</td>\n",
       "      <td>50000</td>\n",
       "      <td>Bangalore</td>\n",
       "    </tr>\n",
       "    <tr>\n",
       "      <th>HR</th>\n",
       "      <td>Krish</td>\n",
       "      <td>60000</td>\n",
       "      <td>Mumbai</td>\n",
       "    </tr>\n",
       "    <tr>\n",
       "      <th>Finance</th>\n",
       "      <td>Amit</td>\n",
       "      <td>55000</td>\n",
       "      <td>Delhi</td>\n",
       "    </tr>\n",
       "    <tr>\n",
       "      <th>Marketing</th>\n",
       "      <td>Priya</td>\n",
       "      <td>52000</td>\n",
       "      <td>Pune</td>\n",
       "    </tr>\n",
       "  </tbody>\n",
       "</table>\n",
       "</div>"
      ],
      "text/plain": [
       "           Employee  Salary   Location\n",
       "Department                            \n",
       "IT           Prasun   50000  Bangalore\n",
       "HR            Krish   60000     Mumbai\n",
       "Finance        Amit   55000      Delhi\n",
       "Marketing     Priya   52000       Pune"
      ]
     },
     "execution_count": 6,
     "metadata": {},
     "output_type": "execute_result"
    }
   ],
   "source": [
    "import pandas as pd\n",
    "import numpy as np\n",
    "\n",
    "# Creating a sample DataFrame with missing values\n",
    "\n",
    "df1 = pd.DataFrame({\n",
    "    'Employee': ['Prasun', 'Krish', 'Amit', 'Priya'],\n",
    "    'Department': ['IT', 'HR', 'Finance', 'Marketing'],\n",
    "    'Salary': [50000, 60000, 55000, 52000]\n",
    "})\n",
    "\n",
    "\n",
    "# Creating sample DataFrames\n",
    "\n",
    "df3 = pd.DataFrame({\n",
    "    'Department': ['IT', 'HR', 'Finance', 'Marketing'],\n",
    "    'Location': ['Bangalore', 'Mumbai', 'Delhi', 'Pune']\n",
    "})\n",
    "\n",
    "# Creating sample DataFrame using join()\n",
    "\n",
    "df4 = df1.set_index('Department').join(df3.set_index('Department'))\n",
    "\n",
    "a = df4 "
   ]
  },
  {
   "cell_type": "code",
   "execution_count": 8,
   "id": "bb753430",
   "metadata": {},
   "outputs": [
    {
     "data": {
      "text/html": [
       "<div>\n",
       "<style scoped>\n",
       "    .dataframe tbody tr th:only-of-type {\n",
       "        vertical-align: middle;\n",
       "    }\n",
       "\n",
       "    .dataframe tbody tr th {\n",
       "        vertical-align: top;\n",
       "    }\n",
       "\n",
       "    .dataframe thead th {\n",
       "        text-align: right;\n",
       "    }\n",
       "</style>\n",
       "<table border=\"1\" class=\"dataframe\">\n",
       "  <thead>\n",
       "    <tr style=\"text-align: right;\">\n",
       "      <th></th>\n",
       "      <th>Employee</th>\n",
       "      <th>Department</th>\n",
       "      <th>Salary</th>\n",
       "    </tr>\n",
       "  </thead>\n",
       "  <tbody>\n",
       "    <tr>\n",
       "      <th>0</th>\n",
       "      <td>Prasun</td>\n",
       "      <td>IT</td>\n",
       "      <td>50000</td>\n",
       "    </tr>\n",
       "    <tr>\n",
       "      <th>1</th>\n",
       "      <td>Krish</td>\n",
       "      <td>HR</td>\n",
       "      <td>60000</td>\n",
       "    </tr>\n",
       "    <tr>\n",
       "      <th>2</th>\n",
       "      <td>Amit</td>\n",
       "      <td>Finance</td>\n",
       "      <td>55000</td>\n",
       "    </tr>\n",
       "    <tr>\n",
       "      <th>3</th>\n",
       "      <td>Priya</td>\n",
       "      <td>Marketing</td>\n",
       "      <td>52000</td>\n",
       "    </tr>\n",
       "    <tr>\n",
       "      <th>4</th>\n",
       "      <td>Vikas</td>\n",
       "      <td>IT</td>\n",
       "      <td>62000</td>\n",
       "    </tr>\n",
       "    <tr>\n",
       "      <th>5</th>\n",
       "      <td>Neha</td>\n",
       "      <td>HR</td>\n",
       "      <td>58000</td>\n",
       "    </tr>\n",
       "  </tbody>\n",
       "</table>\n",
       "</div>"
      ],
      "text/plain": [
       "  Employee Department  Salary\n",
       "0   Prasun         IT   50000\n",
       "1    Krish         HR   60000\n",
       "2     Amit    Finance   55000\n",
       "3    Priya  Marketing   52000\n",
       "4    Vikas         IT   62000\n",
       "5     Neha         HR   58000"
      ]
     },
     "execution_count": 8,
     "metadata": {},
     "output_type": "execute_result"
    }
   ],
   "source": [
    "import pandas as pd\n",
    "import numpy as np\n",
    "\n",
    "# Creating a sample DataFrame df1\n",
    "\n",
    "df1 = pd.DataFrame({\n",
    "    'Employee': ['Prasun', 'Krish', 'Amit', 'Priya'],\n",
    "    'Department': ['IT', 'HR', 'Finance', 'Marketing'],\n",
    "    'Salary': [50000, 60000, 55000, 52000]\n",
    "})\n",
    "\n",
    "# Creating another sample DataFrame df5\n",
    "\n",
    "df5 = pd.DataFrame({\n",
    "    'Employee': ['Vikas', 'Neha'],\n",
    "    'Department': ['IT', 'HR'],\n",
    "    'Salary': [62000, 58000]\n",
    "})\n",
    "\n",
    "# Concatenating DataFrames : We can concatenate DataFrames using `concat()`.\n",
    "\n",
    "concatenated_df = pd.concat([df1, df5], ignore_index=True)\n",
    "\n",
    "a = concatenated_df"
   ]
  },
  {
   "cell_type": "markdown",
   "id": "c5226b65",
   "metadata": {},
   "source": [
    " \n",
    "# Topic 7 : Pivot Tables and Crosstab in Pandas\n",
    "\n",
    "## 📍 Creating Pivot Tables\n",
    "We can summarize data using `pivot_table()`.\n",
    " "
   ]
  },
  {
   "cell_type": "code",
   "execution_count": null,
   "id": "cf4a62a2",
   "metadata": {},
   "outputs": [],
   "source": [
    "import pandas as pd\n",
    "\n",
    "# Creating a sample DataFrame\n",
    "\n",
    "data = {\n",
    "    'Employee': ['Prasun', 'Krish', 'Amit', 'Priya', 'Vikas', 'Neha'],\n",
    "    'Department': ['IT', 'HR', 'Finance', 'Marketing', 'IT', 'HR'],\n",
    "    'Salary': [50000, 60000, 55000, 52000, 62000, 58000],\n",
    "    'Experience': [5, 7, 3, 4, 6, 8]\n",
    "}\n",
    "\n",
    "df = pd.DataFrame(data)\n",
    "\n",
    "# Creating a pivot table\n",
    "\n",
    "pivot_table = pd.pivot_table(df, values='Salary', index='Department', columns='Experience', aggfunc='mean', fill_value=0)\n",
    "\n",
    "a = pivot_table"
   ]
  },
  {
   "cell_type": "markdown",
   "id": "2a72ffa6",
   "metadata": {},
   "source": [
    " \n",
    "## 📍 Creating a Crosstab\n",
    "We can use `crosstab()` to compute frequency tables.\n",
    " "
   ]
  },
  {
   "cell_type": "code",
   "execution_count": null,
   "id": "a93f5af5",
   "metadata": {},
   "outputs": [],
   "source": [
    "import pandas as pd \n",
    "\n",
    "data = {\n",
    "    'Employee': ['Prasun', 'Krish', 'Amit', 'Priya', 'Vikas', 'Neha'],\n",
    "    'Department': ['IT', 'HR', 'Finance', 'Marketing', 'IT', 'HR'],\n",
    "    'Salary': [50000, 60000, 55000, 52000, 62000, 58000],\n",
    "    'Experience': [5, 7, 3, 4, 6, 8]\n",
    "}\n",
    "\n",
    "df = pd.DataFrame(data)\n",
    "\n",
    "\n",
    "# Creating a crosstab for Department and Experience\n",
    "\n",
    "crosstab_result = pd.crosstab(df['Department'], df['Experience'])\n",
    "\n",
    "a = crosstab_result"
   ]
  },
  {
   "cell_type": "markdown",
   "id": "bcd9e416",
   "metadata": {},
   "source": [
    " \n",
    "# Topic 8 : Applying Functions and Lambda in Pandas\n",
    "\n",
    "## 📍 Using `apply()` Method\n",
    "We can apply functions to Series and DataFrames using `apply()`.\n",
    " "
   ]
  },
  {
   "cell_type": "code",
   "execution_count": null,
   "id": "b557cb5e",
   "metadata": {},
   "outputs": [],
   "source": [
    "import pandas as pd\n",
    "\n",
    "# Creating a sample DataFrame\n",
    "\n",
    "data = {\n",
    "    'Employee': ['Prasun', 'Krish', 'Amit', 'Priya', 'Vikas', 'Neha'],\n",
    "    'Salary': [50000, 60000, 55000, 52000, 62000, 58000],\n",
    "    'Experience': [5, 7, 3, 4, 6, 8]\n",
    "}\n",
    "\n",
    "df = pd.DataFrame(data)\n",
    "\n",
    "# Defining a function to categorize experience\n",
    "\n",
    "def experience_category(exp):\n",
    "    if exp < 5:\n",
    "        return 'Junior'\n",
    "    elif exp <= 7:\n",
    "        return 'Mid-Level'\n",
    "    else:\n",
    "        return 'Senior'\n",
    "\n",
    "# Applying the function to the Experience column\n",
    "\n",
    "df['Experience Level'] = df['Experience'].apply(experience_category)\n",
    "\n",
    "a = df"
   ]
  },
  {
   "cell_type": "markdown",
   "id": "02fcdc88",
   "metadata": {},
   "source": [
    " \n",
    "## 📍 Using Lambda Functions\n",
    "We can use `lambda` inside `apply()` to perform quick operations.\n",
    " "
   ]
  },
  {
   "cell_type": "code",
   "execution_count": null,
   "id": "ea051a25",
   "metadata": {},
   "outputs": [],
   "source": [
    "import pandas as pd\n",
    "\n",
    "data = {\n",
    "    'Employee': ['Prasun', 'Krish', 'Amit', 'Priya', 'Vikas', 'Neha'],\n",
    "    'Salary': [50000, 60000, 55000, 52000, 62000, 58000],\n",
    "    'Experience': [5, 7, 3, 4, 6, 8]\n",
    "}\n",
    "\n",
    "df = pd.DataFrame(data)\n",
    "\n",
    "# Increasing salary by 10% using lambda\n",
    "\n",
    "df['Updated Salary'] = df['Salary'].apply(lambda x: x * 1.10)\n",
    "\n",
    "a = df"
   ]
  },
  {
   "cell_type": "markdown",
   "id": "c29954b9",
   "metadata": {},
   "source": [
    " \n",
    "# Topic 9 : GroupBy Operations in Pandas\n",
    "\n",
    "## 📍 Using `groupby()` to Aggregate Data\n",
    "The `groupby()` function helps in grouping data based on specific columns.\n",
    " "
   ]
  },
  {
   "cell_type": "code",
   "execution_count": null,
   "id": "6128f0e2",
   "metadata": {},
   "outputs": [],
   "source": [
    "import pandas as pd\n",
    "\n",
    "# Creating a sample DataFrame\n",
    "\n",
    "data = {\n",
    "    'Employee': ['Prasun', 'Krish', 'Amit', 'Priya', 'Vikas', 'Neha', 'Ankit', 'Meera'],\n",
    "    'Department': ['IT', 'HR', 'Finance', 'Marketing', 'IT', 'HR', 'Finance', 'Marketing'],\n",
    "    'Salary': [50000, 60000, 55000, 52000, 62000, 58000, 53000, 51000],\n",
    "    'Experience': [5, 7, 3, 4, 6, 8, 2, 5]\n",
    "}\n",
    "\n",
    "df = pd.DataFrame(data)\n",
    "\n",
    "# Grouping by Department and calculating mean salary\n",
    "\n",
    "grouped_salary = df.groupby('Department')['Salary'].mean()\n",
    "\n",
    "a = grouped_salary"
   ]
  },
  {
   "cell_type": "markdown",
   "id": "2ddac84c",
   "metadata": {},
   "source": [
    " \n",
    "## 📍 Using Multiple Aggregations\n",
    "We can use multiple aggregation functions at once.\n",
    " "
   ]
  },
  {
   "cell_type": "code",
   "execution_count": null,
   "id": "66e5c88d",
   "metadata": {},
   "outputs": [],
   "source": [
    "import pandas as pd\n",
    "\n",
    "data = {\n",
    "    'Employee': ['Prasun', 'Krish', 'Amit', 'Priya', 'Vikas', 'Neha', 'Ankit', 'Meera'],\n",
    "    'Department': ['IT', 'HR', 'Finance', 'Marketing', 'IT', 'HR', 'Finance', 'Marketing'],\n",
    "    'Salary': [50000, 60000, 55000, 52000, 62000, 58000, 53000, 51000],\n",
    "    'Experience': [5, 7, 3, 4, 6, 8, 2, 5]\n",
    "}\n",
    "\n",
    "df = pd.DataFrame(data)\n",
    "\n",
    "# Grouping by Department and applying multiple aggregations\n",
    "\n",
    "grouped_agg = df.groupby('Department').agg({'Salary': ['mean', 'max', 'min'], 'Experience': 'mean'})\n",
    "\n",
    "a = grouped_agg"
   ]
  },
  {
   "cell_type": "markdown",
   "id": "3f69246c",
   "metadata": {},
   "source": [
    " \n",
    "# Topic 10 : Time Series Analysis in Pandas\n",
    "\n",
    "## 📍 Creating and Handling Time Series Data\n",
    "Pandas provides powerful tools for working with time series data.\n",
    " "
   ]
  },
  {
   "cell_type": "code",
   "execution_count": null,
   "id": "4de218e3",
   "metadata": {},
   "outputs": [],
   "source": [
    "import pandas as pd\n",
    "\n",
    "# Creating a date range\n",
    "\n",
    "date_rng = pd.date_range(start='2024-01-01', end='2024-01-10', freq='D')\n",
    "\n",
    "# Creating a DataFrame with time series data\n",
    "\n",
    "ts_df = pd.DataFrame({'Date': date_rng, 'Sales': [200, 220, 250, 210, 190, 230, 240, 280, 300, 310]})\n",
    "ts_df.set_index('Date', inplace=True)\n",
    "\n",
    "a = ts_df "
   ]
  },
  {
   "cell_type": "markdown",
   "id": "d445d4ea",
   "metadata": {},
   "source": [
    " \n",
    "## 📍 Resampling Time Series Data\n",
    "The `resample()` function helps in aggregating data over different time periods.\n",
    " "
   ]
  },
  {
   "cell_type": "code",
   "execution_count": null,
   "id": "53cb189c",
   "metadata": {},
   "outputs": [],
   "source": [
    "import pandas as pd\n",
    "\n",
    "# Creating a date range\n",
    "\n",
    "date_rng = pd.date_range(start='2024-01-01', end='2024-01-10', freq='D')\n",
    "\n",
    "# Creating a DataFrame with time series data\n",
    "\n",
    "ts_df = pd.DataFrame({'Date': date_rng, 'Sales': [200, 220, 250, 210, 190, 230, 240, 280, 300, 310]})\n",
    "ts_df.set_index('Date', inplace=True)\n",
    "\n",
    "# Resampling to weekly frequency\n",
    "\n",
    "weekly_sales = ts_df.resample('W').sum()\n",
    "\n",
    "a = weekly_sales"
   ]
  },
  {
   "cell_type": "markdown",
   "id": "c17771bb",
   "metadata": {},
   "source": [
    " \n",
    "## 📍 Rolling Window Analysis\n",
    "Rolling operations help in calculating moving averages and trends.\n",
    " "
   ]
  },
  {
   "cell_type": "code",
   "execution_count": null,
   "id": "efc1f28d",
   "metadata": {},
   "outputs": [],
   "source": [
    "import pandas as pd\n",
    "\n",
    "# Creating a date range\n",
    "\n",
    "date_rng = pd.date_range(start='2024-01-01', end='2024-01-10', freq='D')\n",
    "\n",
    "# Creating a DataFrame with time series data\n",
    "\n",
    "ts_df = pd.DataFrame({'Date': date_rng, 'Sales': [200, 220, 250, 210, 190, 230, 240, 280, 300, 310]})\n",
    "ts_df.set_index('Date', inplace=True)\n",
    "\n",
    "\n",
    "# Calculating a 3-day moving average\n",
    "\n",
    "ts_df['Moving_Avg'] = ts_df['Sales'].rolling(window=3).mean()\n",
    "\n",
    "a = ts_df"
   ]
  },
  {
   "cell_type": "markdown",
   "id": "81f9e6d5",
   "metadata": {},
   "source": [
    " \n",
    "## 📍 Creating a DataFrame from a CSV file"
   ]
  },
  {
   "cell_type": "markdown",
   "id": "ef386406",
   "metadata": {},
   "source": [
    "#### Reading a CSV file into a DataFrame\n",
    "#### df_csv = pd.read_csv(\"employees.csv\")"
   ]
  },
  {
   "cell_type": "markdown",
   "id": "55dbaf9d",
   "metadata": {},
   "source": [
    " \n",
    "## 📍 Creating a DataFrame from an Excel file "
   ]
  },
  {
   "cell_type": "markdown",
   "id": "2d0a407f",
   "metadata": {},
   "source": [
    "#### Reading an Excel file into a DataFrame\n",
    "#### df_excel = pd.read_excel(\"sales.xlsx\")"
   ]
  }
 ],
 "metadata": {
  "kernelspec": {
   "display_name": "Python 3 (ipykernel)",
   "language": "python",
   "name": "python3"
  },
  "language_info": {
   "codemirror_mode": {
    "name": "ipython",
    "version": 3
   },
   "file_extension": ".py",
   "mimetype": "text/x-python",
   "name": "python",
   "nbconvert_exporter": "python",
   "pygments_lexer": "ipython3",
   "version": "3.11.5"
  }
 },
 "nbformat": 4,
 "nbformat_minor": 5
}
