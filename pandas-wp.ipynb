{
 "cells": [
  {
   "cell_type": "markdown",
   "id": "17b5756a",
   "metadata": {},
   "source": [
    " \n",
    "# 📌Topic 1: Introduction to Pandas\n",
    "\n",
    "## What is Pandas?\n",
    "Pandas is a powerful Python library for data manipulation and analysis. It provides flexible data structures such as Series and DataFrame that allow for efficient data handling.\n",
    "\n",
    "## Installing Pandas\n",
    "Before using Pandas, you need to install it. Run the following command in your terminal or command prompt:\n",
    "```sh\n",
    "pip install pandas\n",
    "```\n",
    "\n",
    "## Importing Pandas\n",
    "Let's start by importing the Pandas library:\n",
    " "
   ]
  },
  {
   "cell_type": "code",
   "execution_count": 1,
   "id": "822f4d0a",
   "metadata": {},
   "outputs": [
    {
     "name": "stdout",
     "output_type": "stream",
     "text": [
      "Pandas Version: 2.2.3\n"
     ]
    }
   ],
   "source": [
    "# Importing pandas\n",
    "\n",
    "import pandas as pd\n",
    "\n",
    "# Checking the version of pandas\n",
    "print(\"Pandas Version:\", pd.__version__)"
   ]
  },
  {
   "cell_type": "markdown",
   "id": "238df559",
   "metadata": {},
   "source": [
    " \n",
    "## 📍 Creating a Simple Series\n",
    "A Series is a one-dimensional labeled array capable of holding any data type.\n",
    " "
   ]
  },
  {
   "cell_type": "code",
   "execution_count": 2,
   "id": "c0a89e29",
   "metadata": {},
   "outputs": [
    {
     "name": "stdout",
     "output_type": "stream",
     "text": [
      "0    10\n",
      "1    20\n",
      "2    30\n",
      "3    40\n",
      "4    50\n",
      "dtype: int64\n"
     ]
    }
   ],
   "source": [
    "# Creating a Series\n",
    "\n",
    "import pandas as pd\n",
    "\n",
    "data = [10, 20, 30, 40, 50]\n",
    "\n",
    "series = pd.Series(data)\n",
    "series"
   ]
  },
  {
   "cell_type": "markdown",
   "id": "94f08226",
   "metadata": {},
   "source": [
    " \n",
    "## 📍 Creating a Simple DataFrame\n",
    "A DataFrame is a two-dimensional labeled data structure with columns of potentially different types.\n",
    " "
   ]
  },
  {
   "cell_type": "code",
   "execution_count": 3,
   "id": "de8c70ca",
   "metadata": {},
   "outputs": [
    {
     "data": {
      "text/html": [
       "<div>\n",
       "<style scoped>\n",
       "    .dataframe tbody tr th:only-of-type {\n",
       "        vertical-align: middle;\n",
       "    }\n",
       "\n",
       "    .dataframe tbody tr th {\n",
       "        vertical-align: top;\n",
       "    }\n",
       "\n",
       "    .dataframe thead th {\n",
       "        text-align: right;\n",
       "    }\n",
       "</style>\n",
       "<table border=\"1\" class=\"dataframe\">\n",
       "  <thead>\n",
       "    <tr style=\"text-align: right;\">\n",
       "      <th></th>\n",
       "      <th>Name</th>\n",
       "      <th>Age</th>\n",
       "      <th>City</th>\n",
       "    </tr>\n",
       "  </thead>\n",
       "  <tbody>\n",
       "    <tr>\n",
       "      <th>0</th>\n",
       "      <td>Amit</td>\n",
       "      <td>25</td>\n",
       "      <td>Mumbai</td>\n",
       "    </tr>\n",
       "    <tr>\n",
       "      <th>1</th>\n",
       "      <td>Neha</td>\n",
       "      <td>30</td>\n",
       "      <td>Delhi</td>\n",
       "    </tr>\n",
       "    <tr>\n",
       "      <th>2</th>\n",
       "      <td>Rahul</td>\n",
       "      <td>22</td>\n",
       "      <td>Bangalore</td>\n",
       "    </tr>\n",
       "    <tr>\n",
       "      <th>3</th>\n",
       "      <td>Priya</td>\n",
       "      <td>28</td>\n",
       "      <td>Chennai</td>\n",
       "    </tr>\n",
       "  </tbody>\n",
       "</table>\n",
       "</div>"
      ],
      "text/plain": [
       "    Name  Age       City\n",
       "0   Amit   25     Mumbai\n",
       "1   Neha   30      Delhi\n",
       "2  Rahul   22  Bangalore\n",
       "3  Priya   28    Chennai"
      ]
     },
     "execution_count": 3,
     "metadata": {},
     "output_type": "execute_result"
    }
   ],
   "source": [
    "# Creating a DataFrame from a dictionary\n",
    "\n",
    "import pandas as pd \n",
    "\n",
    "data = {\n",
    "    'Name': ['Amit', 'Neha', 'Rahul', 'Priya'],\n",
    "    'Age': [25, 30, 22, 28],\n",
    "    'City': ['Mumbai', 'Delhi', 'Bangalore', 'Chennai']\n",
    "}\n",
    "\n",
    "df = pd.DataFrame(data)\n",
    "\n",
    "df"
   ]
  },
  {
   "cell_type": "markdown",
   "id": "3dabd554",
   "metadata": {},
   "source": [
    " \n",
    "# Topic 2: Pandas Data Structures\n",
    "\n",
    "## 📍 Pandas Series\n",
    "A Series is a one-dimensional array-like structure with labels (index). It can hold any data type.\n",
    " "
   ]
  },
  {
   "cell_type": "code",
   "execution_count": 4,
   "id": "35ff9689",
   "metadata": {},
   "outputs": [
    {
     "name": "stdout",
     "output_type": "stream",
     "text": [
      "Series:\n",
      " a    100\n",
      "b    200\n",
      "c    300\n",
      "d    400\n",
      "e    500\n",
      "dtype: int64\n"
     ]
    }
   ],
   "source": [
    "import pandas as pd\n",
    "\n",
    "# Creating a Series from a list\n",
    "\n",
    "data = [100, 200, 300, 400, 500]\n",
    "series = pd.Series(data, index=['a', 'b', 'c', 'd', 'e'])\n",
    "\n",
    "series"
   ]
  },
  {
   "cell_type": "markdown",
   "id": "a8311048",
   "metadata": {},
   "source": [
    " \n",
    "## 📍 Pandas DataFrame\n",
    "A DataFrame is a two-dimensional labeled data structure with columns of potentially different types.\n",
    " "
   ]
  },
  {
   "cell_type": "code",
   "execution_count": 5,
   "id": "20104ab1",
   "metadata": {},
   "outputs": [
    {
     "name": "stdout",
     "output_type": "stream",
     "text": [
      "DataFrame:\n",
      "\n"
     ]
    },
    {
     "data": {
      "text/html": [
       "<div>\n",
       "<style scoped>\n",
       "    .dataframe tbody tr th:only-of-type {\n",
       "        vertical-align: middle;\n",
       "    }\n",
       "\n",
       "    .dataframe tbody tr th {\n",
       "        vertical-align: top;\n",
       "    }\n",
       "\n",
       "    .dataframe thead th {\n",
       "        text-align: right;\n",
       "    }\n",
       "</style>\n",
       "<table border=\"1\" class=\"dataframe\">\n",
       "  <thead>\n",
       "    <tr style=\"text-align: right;\">\n",
       "      <th></th>\n",
       "      <th>Employee</th>\n",
       "      <th>Salary</th>\n",
       "      <th>Department</th>\n",
       "    </tr>\n",
       "  </thead>\n",
       "  <tbody>\n",
       "    <tr>\n",
       "      <th>0</th>\n",
       "      <td>Raj</td>\n",
       "      <td>50000</td>\n",
       "      <td>IT</td>\n",
       "    </tr>\n",
       "    <tr>\n",
       "      <th>1</th>\n",
       "      <td>Krish</td>\n",
       "      <td>60000</td>\n",
       "      <td>HR</td>\n",
       "    </tr>\n",
       "    <tr>\n",
       "      <th>2</th>\n",
       "      <td>Amit</td>\n",
       "      <td>55000</td>\n",
       "      <td>Finance</td>\n",
       "    </tr>\n",
       "    <tr>\n",
       "      <th>3</th>\n",
       "      <td>Priya</td>\n",
       "      <td>52000</td>\n",
       "      <td>Marketing</td>\n",
       "    </tr>\n",
       "  </tbody>\n",
       "</table>\n",
       "</div>"
      ],
      "text/plain": [
       "  Employee  Salary Department\n",
       "0      Raj   50000         IT\n",
       "1    Krish   60000         HR\n",
       "2     Amit   55000    Finance\n",
       "3    Priya   52000  Marketing"
      ]
     },
     "execution_count": 5,
     "metadata": {},
     "output_type": "execute_result"
    }
   ],
   "source": [
    "# Creating a DataFrame from a dictionary\n",
    "\n",
    "import pandas as pd \n",
    "\n",
    "data = {\n",
    "    'Employee': ['Raj', 'Krish', 'Amit', 'Priya'],\n",
    "    'Salary': [50000, 60000, 55000, 52000],\n",
    "    'Department': ['IT', 'HR', 'Finance', 'Marketing']\n",
    "}\n",
    "df = pd.DataFrame(data)\n",
    "\n",
    "df "
   ]
  },
  {
   "cell_type": "markdown",
   "id": "f5635eab",
   "metadata": {},
   "source": [
    " \n",
    "## Creating a DataFrame from a CSV file\n",
    "Let's assume we have an Indian employee dataset stored in 'employees.csv'.\n",
    " "
   ]
  },
  {
   "cell_type": "code",
   "execution_count": 6,
   "id": "a8bc9692",
   "metadata": {},
   "outputs": [],
   "source": [
    "# Reading a CSV file into a DataFrame\n",
    "# df_csv = pd.read_csv(\"employees.csv\")\n",
    "# print(\"CSV DataFrame:\\n\", df_csv)"
   ]
  },
  {
   "cell_type": "markdown",
   "id": "e9e11978",
   "metadata": {},
   "source": [
    " \n",
    "## Creating a DataFrame from an Excel file\n",
    "Let's assume we have an Indian sales dataset stored in 'sales.xlsx'.\n",
    " "
   ]
  },
  {
   "cell_type": "code",
   "execution_count": 7,
   "id": "5af1558f",
   "metadata": {},
   "outputs": [],
   "source": [
    "# Reading an Excel file into a DataFrame\n",
    "# df_excel = pd.read_excel(\"sales.xlsx\")\n",
    "# print(\"Excel DataFrame:\\n\", df_excel)"
   ]
  },
  {
   "cell_type": "markdown",
   "id": "e97aa2fc",
   "metadata": {},
   "source": [
    " \n",
    "# Topic 3: DataFrame Indexing and Selection\n",
    "\n",
    "## 📍 Selecting Columns in a DataFrame\n",
    "We can select a single column or multiple columns from a DataFrame.\n",
    " "
   ]
  },
  {
   "cell_type": "code",
   "execution_count": 8,
   "id": "27d7af00",
   "metadata": {
    "scrolled": true
   },
   "outputs": [
    {
     "name": "stdout",
     "output_type": "stream",
     "text": [
      "Single Column Selection:\n",
      " 0      Raj\n",
      "1    Krish\n",
      "2     Amit\n",
      "3    Priya\n",
      "Name: Employee, dtype: object\n",
      "\n",
      " Multiple Columns Selection:\n"
     ]
    },
    {
     "data": {
      "text/html": [
       "<div>\n",
       "<style scoped>\n",
       "    .dataframe tbody tr th:only-of-type {\n",
       "        vertical-align: middle;\n",
       "    }\n",
       "\n",
       "    .dataframe tbody tr th {\n",
       "        vertical-align: top;\n",
       "    }\n",
       "\n",
       "    .dataframe thead th {\n",
       "        text-align: right;\n",
       "    }\n",
       "</style>\n",
       "<table border=\"1\" class=\"dataframe\">\n",
       "  <thead>\n",
       "    <tr style=\"text-align: right;\">\n",
       "      <th></th>\n",
       "      <th>Employee</th>\n",
       "      <th>Salary</th>\n",
       "    </tr>\n",
       "  </thead>\n",
       "  <tbody>\n",
       "    <tr>\n",
       "      <th>0</th>\n",
       "      <td>Raj</td>\n",
       "      <td>50000</td>\n",
       "    </tr>\n",
       "    <tr>\n",
       "      <th>1</th>\n",
       "      <td>Krish</td>\n",
       "      <td>60000</td>\n",
       "    </tr>\n",
       "    <tr>\n",
       "      <th>2</th>\n",
       "      <td>Amit</td>\n",
       "      <td>55000</td>\n",
       "    </tr>\n",
       "    <tr>\n",
       "      <th>3</th>\n",
       "      <td>Priya</td>\n",
       "      <td>52000</td>\n",
       "    </tr>\n",
       "  </tbody>\n",
       "</table>\n",
       "</div>"
      ],
      "text/plain": [
       "  Employee  Salary\n",
       "0      Raj   50000\n",
       "1    Krish   60000\n",
       "2     Amit   55000\n",
       "3    Priya   52000"
      ]
     },
     "execution_count": 8,
     "metadata": {},
     "output_type": "execute_result"
    }
   ],
   "source": [
    "import pandas as pd\n",
    "\n",
    "# Creating a sample DataFrame\n",
    "\n",
    "data = {\n",
    "    'Employee': ['Raj', 'Krish', 'Amit', 'Priya'],\n",
    "    'Salary': [50000, 60000, 55000, 52000],\n",
    "    'Department': ['IT', 'HR', 'Finance', 'Marketing']\n",
    "}\n",
    "\n",
    "df = pd.DataFrame(data)\n",
    "\n",
    "# Selecting a single column\n",
    "\n",
    "a = df['Employee'])\n",
    "\n",
    "# Selecting multiple columns\n",
    "print(\"\\n Multiple Columns Selection:\")\n",
    "df[['Employee', 'Salary']]"
   ]
  },
  {
   "cell_type": "code",
   "execution_count": null,
   "id": "bc63451d",
   "metadata": {},
   "outputs": [],
   "source": [
    "import pandas as pd\n",
    "\n",
    "# Creating a sample DataFrame\n",
    "\n",
    "data = {\n",
    "    'Employee': ['Raj', 'Krish', 'Amit', 'Priya'],\n",
    "    'Salary': [50000, 60000, 55000, 52000],\n",
    "    'Department': ['IT', 'HR', 'Finance', 'Marketing']\n",
    "}\n",
    "\n",
    "df = pd.DataFrame(data)\n",
    "\n",
    "# Selecting multiple columns\n",
    "\n",
    "a = df[['Employee', 'Salary']]"
   ]
  },
  {
   "cell_type": "markdown",
   "id": "bdfef7ad",
   "metadata": {},
   "source": [
    " \n",
    "## 📍 Selecting Rows in a DataFrame\n",
    "We can use `.loc[]` and `.iloc[]` to select rows based on labels or positions.\n",
    " "
   ]
  },
  {
   "cell_type": "code",
   "execution_count": 9,
   "id": "a55c35e7",
   "metadata": {},
   "outputs": [
    {
     "name": "stdout",
     "output_type": "stream",
     "text": [
      "Row Selection using loc:\n",
      " Employee      Krish\n",
      "Salary        60000\n",
      "Department       HR\n",
      "Name: 1, dtype: object\n"
     ]
    }
   ],
   "source": [
    "# Creating a sample DataFrame\n",
    "\n",
    "import pandas as pd \n",
    "\n",
    "data = {\n",
    "    'Employee': ['Raj', 'Krish', 'Amit', 'Priya'],\n",
    "    'Salary': [50000, 60000, 55000, 52000],\n",
    "    'Department': ['IT', 'HR', 'Finance', 'Marketing']\n",
    "}\n",
    "\n",
    "df = pd.DataFrame(data)\n",
    "\n",
    "# Selecting rows using loc\n",
    "\n",
    "a = df.loc[1]"
   ]
  },
  {
   "cell_type": "code",
   "execution_count": 10,
   "id": "110deabd",
   "metadata": {},
   "outputs": [
    {
     "name": "stdout",
     "output_type": "stream",
     "text": [
      "Row Selection using iloc:\n",
      " Employee         Amit\n",
      "Salary          55000\n",
      "Department    Finance\n",
      "Name: 2, dtype: object\n"
     ]
    }
   ],
   "source": [
    "# Creating a sample DataFrame\n",
    "\n",
    "import pandas as pd\n",
    "\n",
    "data = {\n",
    "    'Employee': ['Raj', 'Krish', 'Amit', 'Priya'],\n",
    "    'Salary': [50000, 60000, 55000, 52000],\n",
    "    'Department': ['IT', 'HR', 'Finance', 'Marketing']\n",
    "}\n",
    "\n",
    "df = pd.DataFrame(data)\n",
    "\n",
    "\n",
    "# Selecting rows using iloc\n",
    "\n",
    "a = df.iloc[2]"
   ]
  },
  {
   "cell_type": "markdown",
   "id": "31e5bf72",
   "metadata": {},
   "source": [
    " \n",
    "## 📍 Filtering Data based on Conditions\n",
    "We can filter data based on conditions applied to DataFrame columns.\n",
    " "
   ]
  },
  {
   "cell_type": "code",
   "execution_count": 11,
   "id": "e0217819",
   "metadata": {},
   "outputs": [
    {
     "name": "stdout",
     "output_type": "stream",
     "text": [
      "Filtered Data:\n",
      "   Employee  Salary Department\n",
      "1    Krish   60000         HR\n"
     ]
    }
   ],
   "source": [
    "import pandas as pd\n",
    "\n",
    "# Creating a sample DataFrame\n",
    "\n",
    "data = {\n",
    "    'Employee': ['Raj', 'Krish', 'Amit', 'Priya'],\n",
    "    'Salary': [50000, 60000, 55000, 52000],\n",
    "    'Department': ['IT', 'HR', 'Finance', 'Marketing']\n",
    "}\n",
    "\n",
    "df = pd.DataFrame(data)\n",
    "\n",
    "# Filtering employees with Salary greater than 55000\n",
    "\n",
    "filtered_df = df[df['Salary'] > 55000]\n",
    "\n",
    "a = filtered_df"
   ]
  },
  {
   "cell_type": "markdown",
   "id": "67966b05",
   "metadata": {},
   "source": [
    " \n",
    "# Topic 4: DataFrame Operations and Manipulations\n",
    "\n",
    "## 📍 Adding a New Column\n",
    "We can add a new column to a DataFrame by assigning values to it.\n",
    " "
   ]
  },
  {
   "cell_type": "code",
   "execution_count": 12,
   "id": "091abdf4",
   "metadata": {},
   "outputs": [
    {
     "data": {
      "text/html": [
       "<div>\n",
       "<style scoped>\n",
       "    .dataframe tbody tr th:only-of-type {\n",
       "        vertical-align: middle;\n",
       "    }\n",
       "\n",
       "    .dataframe tbody tr th {\n",
       "        vertical-align: top;\n",
       "    }\n",
       "\n",
       "    .dataframe thead th {\n",
       "        text-align: right;\n",
       "    }\n",
       "</style>\n",
       "<table border=\"1\" class=\"dataframe\">\n",
       "  <thead>\n",
       "    <tr style=\"text-align: right;\">\n",
       "      <th></th>\n",
       "      <th>Employee</th>\n",
       "      <th>Salary</th>\n",
       "      <th>Department</th>\n",
       "    </tr>\n",
       "  </thead>\n",
       "  <tbody>\n",
       "    <tr>\n",
       "      <th>0</th>\n",
       "      <td>Raj</td>\n",
       "      <td>50000</td>\n",
       "      <td>IT</td>\n",
       "    </tr>\n",
       "    <tr>\n",
       "      <th>1</th>\n",
       "      <td>Krish</td>\n",
       "      <td>60000</td>\n",
       "      <td>HR</td>\n",
       "    </tr>\n",
       "    <tr>\n",
       "      <th>2</th>\n",
       "      <td>Amit</td>\n",
       "      <td>55000</td>\n",
       "      <td>Finance</td>\n",
       "    </tr>\n",
       "    <tr>\n",
       "      <th>3</th>\n",
       "      <td>Priya</td>\n",
       "      <td>52000</td>\n",
       "      <td>Marketing</td>\n",
       "    </tr>\n",
       "  </tbody>\n",
       "</table>\n",
       "</div>"
      ],
      "text/plain": [
       "  Employee  Salary Department\n",
       "0      Raj   50000         IT\n",
       "1    Krish   60000         HR\n",
       "2     Amit   55000    Finance\n",
       "3    Priya   52000  Marketing"
      ]
     },
     "execution_count": 12,
     "metadata": {},
     "output_type": "execute_result"
    }
   ],
   "source": [
    "import pandas as pd\n",
    "\n",
    "# Creating a sample DataFrame\n",
    "\n",
    "data = {\n",
    "    'Employee': ['Raj', 'Krish', 'Amit', 'Priya'],\n",
    "    'Salary': [50000, 60000, 55000, 52000],\n",
    "    'Department': ['IT', 'HR', 'Finance', 'Marketing']\n",
    "}\n",
    "df = pd.DataFrame(data)\n",
    "\n",
    "a = df"
   ]
  },
  {
   "cell_type": "code",
   "execution_count": 13,
   "id": "3dfe17c3",
   "metadata": {},
   "outputs": [
    {
     "data": {
      "text/html": [
       "<div>\n",
       "<style scoped>\n",
       "    .dataframe tbody tr th:only-of-type {\n",
       "        vertical-align: middle;\n",
       "    }\n",
       "\n",
       "    .dataframe tbody tr th {\n",
       "        vertical-align: top;\n",
       "    }\n",
       "\n",
       "    .dataframe thead th {\n",
       "        text-align: right;\n",
       "    }\n",
       "</style>\n",
       "<table border=\"1\" class=\"dataframe\">\n",
       "  <thead>\n",
       "    <tr style=\"text-align: right;\">\n",
       "      <th></th>\n",
       "      <th>Employee</th>\n",
       "      <th>Salary</th>\n",
       "      <th>Department</th>\n",
       "      <th>Bonus</th>\n",
       "    </tr>\n",
       "  </thead>\n",
       "  <tbody>\n",
       "    <tr>\n",
       "      <th>0</th>\n",
       "      <td>Raj</td>\n",
       "      <td>50000</td>\n",
       "      <td>IT</td>\n",
       "      <td>5000.0</td>\n",
       "    </tr>\n",
       "    <tr>\n",
       "      <th>1</th>\n",
       "      <td>Krish</td>\n",
       "      <td>60000</td>\n",
       "      <td>HR</td>\n",
       "      <td>6000.0</td>\n",
       "    </tr>\n",
       "    <tr>\n",
       "      <th>2</th>\n",
       "      <td>Amit</td>\n",
       "      <td>55000</td>\n",
       "      <td>Finance</td>\n",
       "      <td>5500.0</td>\n",
       "    </tr>\n",
       "    <tr>\n",
       "      <th>3</th>\n",
       "      <td>Priya</td>\n",
       "      <td>52000</td>\n",
       "      <td>Marketing</td>\n",
       "      <td>5200.0</td>\n",
       "    </tr>\n",
       "  </tbody>\n",
       "</table>\n",
       "</div>"
      ],
      "text/plain": [
       "  Employee  Salary Department   Bonus\n",
       "0      Raj   50000         IT  5000.0\n",
       "1    Krish   60000         HR  6000.0\n",
       "2     Amit   55000    Finance  5500.0\n",
       "3    Priya   52000  Marketing  5200.0"
      ]
     },
     "execution_count": 13,
     "metadata": {},
     "output_type": "execute_result"
    }
   ],
   "source": [
    "import pandas as pd\n",
    "\n",
    "# Creating a sample DataFrame\n",
    "\n",
    "data = {\n",
    "    'Employee': ['Raj', 'Krish', 'Amit', 'Priya'],\n",
    "    'Salary': [50000, 60000, 55000, 52000],\n",
    "    'Department': ['IT', 'HR', 'Finance', 'Marketing']\n",
    "}\n",
    "\n",
    "df = pd.DataFrame(data)\n",
    "\n",
    "# Adding a new column\n",
    "\n",
    "df['Bonus'] = df['Salary'] * 0.1\n",
    "\n",
    "a = df \n"
   ]
  },
  {
   "cell_type": "markdown",
   "id": "19b94e02",
   "metadata": {},
   "source": [
    " \n",
    "## 📍 Modifying an Existing Column\n",
    "We can modify an existing column by reassigning values.\n",
    " "
   ]
  },
  {
   "cell_type": "code",
   "execution_count": 14,
   "id": "b795528e",
   "metadata": {},
   "outputs": [
    {
     "name": "stdout",
     "output_type": "stream",
     "text": [
      "DataFrame after salary increment:\n",
      "   Employee   Salary Department\n",
      "0      Raj  52500.0         IT\n",
      "1    Krish  63000.0         HR\n",
      "2     Amit  57750.0    Finance\n",
      "3    Priya  54600.0  Marketing\n"
     ]
    }
   ],
   "source": [
    "import pandas as pd\n",
    "\n",
    "# Creating a sample DataFrame\n",
    "\n",
    "data = {\n",
    "    'Employee': ['Raj', 'Krish', 'Amit', 'Priya'],\n",
    "    'Salary': [50000, 60000, 55000, 52000],\n",
    "    'Department': ['IT', 'HR', 'Finance', 'Marketing']\n",
    "}\n",
    "\n",
    "df = pd.DataFrame(data)\n",
    "\n",
    "\n",
    "# Increasing salary by 5%\n",
    "\n",
    "df['Salary'] = df['Salary'] * 1.05\n",
    "\n",
    "a = df"
   ]
  },
  {
   "cell_type": "markdown",
   "id": "5e4976e5",
   "metadata": {},
   "source": [
    " \n",
    "## 📍  Deleting a Column\n",
    "We can remove a column using `drop()`.\n",
    " "
   ]
  },
  {
   "cell_type": "code",
   "execution_count": 15,
   "id": "0930ce4f",
   "metadata": {},
   "outputs": [
    {
     "name": "stdout",
     "output_type": "stream",
     "text": [
      "DataFrame after dropping Bonus column:\n",
      "   Employee Department\n",
      "0      Raj         IT\n",
      "1    Krish         HR\n",
      "2     Amit    Finance\n",
      "3    Priya  Marketing\n"
     ]
    }
   ],
   "source": [
    "import pandas as pd\n",
    "\n",
    "# Creating a sample DataFrame\n",
    "\n",
    "data = {\n",
    "    'Employee': ['Raj', 'Krish', 'Amit', 'Priya'],\n",
    "    'Salary': [50000, 60000, 55000, 52000],\n",
    "    'Department': ['IT', 'HR', 'Finance', 'Marketing']\n",
    "}\n",
    "\n",
    "df = pd.DataFrame(data)\n",
    "\n",
    "# Dropping the Bonus column\n",
    "\n",
    "df = df.drop(columns=['Salary'])\n",
    "a = df"
   ]
  },
  {
   "cell_type": "markdown",
   "id": "bef1ce87",
   "metadata": {},
   "source": [
    " \n",
    "## 📍 Renaming Columns\n",
    "We can rename columns using `rename()`.\n",
    " "
   ]
  },
  {
   "cell_type": "code",
   "execution_count": 16,
   "id": "f5d47de8",
   "metadata": {},
   "outputs": [
    {
     "name": "stdout",
     "output_type": "stream",
     "text": [
      "DataFrame after renaming columns:\n",
      "   Emp Name  Monthly Salary Department\n",
      "0      Raj           50000         IT\n",
      "1    Krish           60000         HR\n",
      "2     Amit           55000    Finance\n",
      "3    Priya           52000  Marketing\n"
     ]
    }
   ],
   "source": [
    "import pandas as pd\n",
    "\n",
    "# Creating a sample DataFrame\n",
    "\n",
    "data = {\n",
    "    'Employee': ['Raj', 'Krish', 'Amit', 'Priya'],\n",
    "    'Salary': [50000, 60000, 55000, 52000],\n",
    "    'Department': ['IT', 'HR', 'Finance', 'Marketing']\n",
    "}\n",
    "\n",
    "# Renaming columns\n",
    "\n",
    "df = df.rename(columns={'Employee': 'Emp Name', 'Salary': 'Monthly Salary'})\n",
    "a = df "
   ]
  },
  {
   "cell_type": "markdown",
   "id": "c57cbf57",
   "metadata": {},
   "source": [
    " \n",
    "# Topic 5: Handling Missing Data in Pandas\n",
    "\n",
    "## 📍  Identifying Missing Data\n",
    "We can check for missing values in a DataFrame using `isna()` or `isnull()`.\n",
    " "
   ]
  },
  {
   "cell_type": "code",
   "execution_count": 17,
   "id": "8a781ca7",
   "metadata": {
    "scrolled": true
   },
   "outputs": [
    {
     "name": "stdout",
     "output_type": "stream",
     "text": [
      "Missing values in DataFrame:\n",
      "    Employee  Salary  Department\n",
      "0     False   False       False\n",
      "1     False    True       False\n",
      "2     False   False        True\n",
      "3     False   False       False\n",
      "Count of missing values:\n",
      " Employee      0\n",
      "Salary        1\n",
      "Department    1\n",
      "dtype: int64\n"
     ]
    }
   ],
   "source": [
    "import pandas as pd\n",
    "import numpy as np\n",
    "\n",
    "# Creating a sample DataFrame with missing values\n",
    "data = {\n",
    "    'Employee': ['Raj', 'Krish', 'Amit', 'Priya'],\n",
    "    'Salary': [50000, np.nan, 55000, 52000],\n",
    "    'Department': ['IT', 'HR', np.nan, 'Marketing']\n",
    "}\n",
    "df = pd.DataFrame(data)\n",
    "\n",
    "# Checking for missing values\n",
    "\n",
    "a = df.isna()\n",
    "\n",
    "print(\"Count of missing values:\\n\", df.isna().sum())"
   ]
  },
  {
   "cell_type": "code",
   "execution_count": null,
   "id": "e10236a7",
   "metadata": {},
   "outputs": [],
   "source": [
    "import pandas as pd\n",
    "import numpy as np\n",
    "\n",
    "# Creating a sample DataFrame with missing values\n",
    "data = {\n",
    "    'Employee': ['Raj', 'Krish', 'Amit', 'Priya'],\n",
    "    'Salary': [50000, np.nan, 55000, 52000],\n",
    "    'Department': ['IT', 'HR', np.nan, 'Marketing']\n",
    "}\n",
    "df = pd.DataFrame(data)\n",
    "\n",
    "# Checking for missing values\n",
    "\n",
    "a =  df.isna().sum()"
   ]
  },
  {
   "cell_type": "markdown",
   "id": "d151b7dc",
   "metadata": {},
   "source": [
    " \n",
    "## 📍  Filling Missing Data\n",
    "We can fill missing values using `fillna()`.\n",
    " "
   ]
  },
  {
   "cell_type": "code",
   "execution_count": 18,
   "id": "5b00ff14",
   "metadata": {},
   "outputs": [
    {
     "name": "stdout",
     "output_type": "stream",
     "text": [
      "DataFrame after filling missing values:\n",
      "   Employee        Salary Department\n",
      "0      Raj  50000.000000         IT\n",
      "1    Krish  52333.333333         HR\n",
      "2     Amit  55000.000000    Unknown\n",
      "3    Priya  52000.000000  Marketing\n"
     ]
    }
   ],
   "source": [
    "import pandas as pd\n",
    "import numpy as np\n",
    "\n",
    "# Creating a sample DataFrame with missing values\n",
    "data = {\n",
    "    'Employee': ['Raj', 'Krish', 'Amit', 'Priya'],\n",
    "    'Salary': [50000, np.nan, 55000, 52000],\n",
    "    'Department': ['IT', 'HR', np.nan, 'Marketing']\n",
    "}\n",
    "df = pd.DataFrame(data)\n",
    "\n",
    "\n",
    "# Filling missing values with a default value\n",
    "\n",
    "df_filled = df.fillna({'Salary': df['Salary'].mean(), 'Department': 'Unknown'})\n",
    "\n",
    "a = df_filled"
   ]
  },
  {
   "cell_type": "markdown",
   "id": "0e80ae2b",
   "metadata": {},
   "source": [
    " \n",
    "## 📍 Dropping Missing Data\n",
    "We can drop rows or columns containing missing values using `dropna()`.\n",
    " "
   ]
  },
  {
   "cell_type": "code",
   "execution_count": 19,
   "id": "a0db6a19",
   "metadata": {},
   "outputs": [
    {
     "name": "stdout",
     "output_type": "stream",
     "text": [
      "DataFrame after dropping missing values:\n",
      "   Employee   Salary Department\n",
      "0      Raj  50000.0         IT\n",
      "3    Priya  52000.0  Marketing\n"
     ]
    }
   ],
   "source": [
    "import pandas as pd\n",
    "import numpy as np\n",
    "\n",
    "# Creating a sample DataFrame with missing values\n",
    "data = {\n",
    "    'Employee': ['Raj', 'Krish', 'Amit', 'Priya'],\n",
    "    'Salary': [50000, np.nan, 55000, 52000],\n",
    "    'Department': ['IT', 'HR', np.nan, 'Marketing']\n",
    "}\n",
    "df = pd.DataFrame(data)\n",
    "\n",
    "# Dropping rows with missing values\n",
    "\n",
    "df_dropped = df.dropna()\n",
    "a =  df_dropped"
   ]
  },
  {
   "cell_type": "markdown",
   "id": "947d607f",
   "metadata": {},
   "source": [
    " \n",
    "# Topic 6 : Merging, Joining, and Concatenation in Pandas\n",
    "\n",
    "## 📍 Merging DataFrames\n",
    "We can merge DataFrames using `merge()`.\n",
    " "
   ]
  },
  {
   "cell_type": "code",
   "execution_count": 20,
   "id": "4b43a9e9",
   "metadata": {},
   "outputs": [
    {
     "name": "stdout",
     "output_type": "stream",
     "text": [
      "Merged DataFrame:\n",
      "   Employee Department  Salary  Experience\n",
      "0      Raj         IT   50000           5\n",
      "1    Krish         HR   60000           7\n",
      "2     Amit    Finance   55000           3\n",
      "3    Priya  Marketing   52000           4\n"
     ]
    }
   ],
   "source": [
    "import pandas as pd\n",
    "\n",
    "# Creating sample DataFrames\n",
    "df1 = pd.DataFrame({\n",
    "    'Employee': ['Raj', 'Krish', 'Amit', 'Priya'],\n",
    "    'Department': ['IT', 'HR', 'Finance', 'Marketing'],\n",
    "    'Salary': [50000, 60000, 55000, 52000]\n",
    "})\n",
    "\n",
    "df2 = pd.DataFrame({\n",
    "    'Employee': ['Raj', 'Krish', 'Amit', 'Priya'],\n",
    "    'Experience': [5, 7, 3, 4]\n",
    "})\n",
    "\n",
    "# Merging on Employee column\n",
    "\n",
    "merged_df = pd.merge(df1, df2, on='Employee')\n",
    "\n",
    "a = merged_df"
   ]
  },
  {
   "cell_type": "markdown",
   "id": "992e270a",
   "metadata": {},
   "source": [
    " \n",
    "## 📍 Joining DataFrames\n",
    "We can join DataFrames using `join()`.\n",
    " "
   ]
  },
  {
   "cell_type": "code",
   "execution_count": null,
   "id": "a02f856e",
   "metadata": {},
   "outputs": [],
   "source": [
    "import pandas as pd\n",
    "import numpy as np\n",
    "\n",
    "# Creating a sample DataFrame with missing values\n",
    "\n",
    "data = {\n",
    "    'Employee': ['Raj', 'Krish', 'Amit', 'Priya'],\n",
    "    'Salary': [50000, np.nan, 55000, 52000],\n",
    "    'Department': ['IT', 'HR', np.nan, 'Marketing']\n",
    "}\n",
    "df = pd.DataFrame(data)\n",
    "\n",
    "# Checking for missing values\n",
    "\n",
    "a = df.isna()\n",
    "\n",
    "print(\"Count of missing values:\\n\", df.isna().sum())\n",
    "\n",
    "df1 = pd.DataFrame({\n",
    "    'Employee': ['Raj', 'Krish', 'Amit', 'Priya'],\n",
    "    'Department': ['IT', 'HR', 'Finance', 'Marketing'],\n",
    "    'Salary': [50000, 60000, 55000, 52000]\n",
    "})\n",
    "\n",
    "df2 = pd.DataFrame({\n",
    "    'Employee': ['Raj', 'Krish', 'Amit', 'Priya'],\n",
    "    'Experience': [5, 7, 3, 4]\n",
    "})\n",
    "\n",
    "\n",
    "# Creating sample DataFrames\n",
    "\n",
    "df3 = pd.DataFrame({\n",
    "    'Department': ['IT', 'HR', 'Finance', 'Marketing'],\n",
    "    'Location': ['Bangalore', 'Mumbai', 'Delhi', 'Pune']\n",
    "})\n",
    "\n",
    "# Creating sample DataFrame using join()\n",
    "\n",
    "df4 = df1.set_index('Department').join(df3.set_index('Department'))\n",
    "\n",
    "a = df4 "
   ]
  },
  {
   "cell_type": "code",
   "execution_count": 21,
   "id": "bb753430",
   "metadata": {},
   "outputs": [
    {
     "name": "stdout",
     "output_type": "stream",
     "text": [
      "Joined DataFrame:\n",
      "            Employee  Salary   Location\n",
      "Department                            \n",
      "IT              Raj   50000  Bangalore\n",
      "HR            Krish   60000     Mumbai\n",
      "Finance        Amit   55000      Delhi\n",
      "Marketing     Priya   52000       Pune\n",
      "Concatenated DataFrame:\n",
      "\n"
     ]
    },
    {
     "data": {
      "text/html": [
       "<div>\n",
       "<style scoped>\n",
       "    .dataframe tbody tr th:only-of-type {\n",
       "        vertical-align: middle;\n",
       "    }\n",
       "\n",
       "    .dataframe tbody tr th {\n",
       "        vertical-align: top;\n",
       "    }\n",
       "\n",
       "    .dataframe thead th {\n",
       "        text-align: right;\n",
       "    }\n",
       "</style>\n",
       "<table border=\"1\" class=\"dataframe\">\n",
       "  <thead>\n",
       "    <tr style=\"text-align: right;\">\n",
       "      <th></th>\n",
       "      <th>Employee</th>\n",
       "      <th>Department</th>\n",
       "      <th>Salary</th>\n",
       "    </tr>\n",
       "  </thead>\n",
       "  <tbody>\n",
       "    <tr>\n",
       "      <th>0</th>\n",
       "      <td>Raj</td>\n",
       "      <td>IT</td>\n",
       "      <td>50000</td>\n",
       "    </tr>\n",
       "    <tr>\n",
       "      <th>1</th>\n",
       "      <td>Krish</td>\n",
       "      <td>HR</td>\n",
       "      <td>60000</td>\n",
       "    </tr>\n",
       "    <tr>\n",
       "      <th>2</th>\n",
       "      <td>Amit</td>\n",
       "      <td>Finance</td>\n",
       "      <td>55000</td>\n",
       "    </tr>\n",
       "    <tr>\n",
       "      <th>3</th>\n",
       "      <td>Priya</td>\n",
       "      <td>Marketing</td>\n",
       "      <td>52000</td>\n",
       "    </tr>\n",
       "    <tr>\n",
       "      <th>4</th>\n",
       "      <td>Vikas</td>\n",
       "      <td>IT</td>\n",
       "      <td>62000</td>\n",
       "    </tr>\n",
       "    <tr>\n",
       "      <th>5</th>\n",
       "      <td>Neha</td>\n",
       "      <td>HR</td>\n",
       "      <td>58000</td>\n",
       "    </tr>\n",
       "  </tbody>\n",
       "</table>\n",
       "</div>"
      ],
      "text/plain": [
       "  Employee Department  Salary\n",
       "0      Raj         IT   50000\n",
       "1    Krish         HR   60000\n",
       "2     Amit    Finance   55000\n",
       "3    Priya  Marketing   52000\n",
       "4    Vikas         IT   62000\n",
       "5     Neha         HR   58000"
      ]
     },
     "execution_count": 21,
     "metadata": {},
     "output_type": "execute_result"
    }
   ],
   "source": [
    "import pandas as pd\n",
    "import numpy as np\n",
    "\n",
    "# Creating a sample DataFrame df1\n",
    "\n",
    "df1 = pd.DataFrame({\n",
    "    'Employee': ['Raj', 'Krish', 'Amit', 'Priya'],\n",
    "    'Department': ['IT', 'HR', 'Finance', 'Marketing'],\n",
    "    'Salary': [50000, 60000, 55000, 52000]\n",
    "})\n",
    "\n",
    "\n",
    "# Creating sample DataFrame df3\n",
    "\n",
    "df3 = pd.DataFrame({\n",
    "    'Department': ['IT', 'HR', 'Finance', 'Marketing'],\n",
    "    'Location': ['Bangalore', 'Mumbai', 'Delhi', 'Pune']\n",
    "})\n",
    "\n",
    "df4 = df1.set_index('Department').join(df3.set_index('Department'))\n",
    "\n",
    "\n",
    "# Creating another sample DataFrame df5\n",
    "\n",
    "df5 = pd.DataFrame({\n",
    "    'Employee': ['Vikas', 'Neha'],\n",
    "    'Department': ['IT', 'HR'],\n",
    "    'Salary': [62000, 58000]\n",
    "})\n",
    "\n",
    "# Concatenating DataFrames : We can concatenate DataFrames using `concat()`.\n",
    "\n",
    "concatenated_df = pd.concat([df1, df5], ignore_index=True)\n",
    "\n",
    "a = concatenated_df"
   ]
  },
  {
   "cell_type": "markdown",
   "id": "c5226b65",
   "metadata": {},
   "source": [
    " \n",
    "# Topic 7 : Pivot Tables and Crosstab in Pandas\n",
    "\n",
    "## 📍 Creating Pivot Tables\n",
    "We can summarize data using `pivot_table()`.\n",
    " "
   ]
  },
  {
   "cell_type": "code",
   "execution_count": 22,
   "id": "cf4a62a2",
   "metadata": {},
   "outputs": [
    {
     "name": "stdout",
     "output_type": "stream",
     "text": [
      "Pivot Table:\n",
      "\n"
     ]
    },
    {
     "data": {
      "text/html": [
       "<div>\n",
       "<style scoped>\n",
       "    .dataframe tbody tr th:only-of-type {\n",
       "        vertical-align: middle;\n",
       "    }\n",
       "\n",
       "    .dataframe tbody tr th {\n",
       "        vertical-align: top;\n",
       "    }\n",
       "\n",
       "    .dataframe thead th {\n",
       "        text-align: right;\n",
       "    }\n",
       "</style>\n",
       "<table border=\"1\" class=\"dataframe\">\n",
       "  <thead>\n",
       "    <tr style=\"text-align: right;\">\n",
       "      <th>Experience</th>\n",
       "      <th>3</th>\n",
       "      <th>4</th>\n",
       "      <th>5</th>\n",
       "      <th>6</th>\n",
       "      <th>7</th>\n",
       "      <th>8</th>\n",
       "    </tr>\n",
       "    <tr>\n",
       "      <th>Department</th>\n",
       "      <th></th>\n",
       "      <th></th>\n",
       "      <th></th>\n",
       "      <th></th>\n",
       "      <th></th>\n",
       "      <th></th>\n",
       "    </tr>\n",
       "  </thead>\n",
       "  <tbody>\n",
       "    <tr>\n",
       "      <th>Finance</th>\n",
       "      <td>55000.0</td>\n",
       "      <td>0.0</td>\n",
       "      <td>0.0</td>\n",
       "      <td>0.0</td>\n",
       "      <td>0.0</td>\n",
       "      <td>0.0</td>\n",
       "    </tr>\n",
       "    <tr>\n",
       "      <th>HR</th>\n",
       "      <td>0.0</td>\n",
       "      <td>0.0</td>\n",
       "      <td>0.0</td>\n",
       "      <td>0.0</td>\n",
       "      <td>60000.0</td>\n",
       "      <td>58000.0</td>\n",
       "    </tr>\n",
       "    <tr>\n",
       "      <th>IT</th>\n",
       "      <td>0.0</td>\n",
       "      <td>0.0</td>\n",
       "      <td>50000.0</td>\n",
       "      <td>62000.0</td>\n",
       "      <td>0.0</td>\n",
       "      <td>0.0</td>\n",
       "    </tr>\n",
       "    <tr>\n",
       "      <th>Marketing</th>\n",
       "      <td>0.0</td>\n",
       "      <td>52000.0</td>\n",
       "      <td>0.0</td>\n",
       "      <td>0.0</td>\n",
       "      <td>0.0</td>\n",
       "      <td>0.0</td>\n",
       "    </tr>\n",
       "  </tbody>\n",
       "</table>\n",
       "</div>"
      ],
      "text/plain": [
       "Experience        3        4        5        6        7        8\n",
       "Department                                                      \n",
       "Finance     55000.0      0.0      0.0      0.0      0.0      0.0\n",
       "HR              0.0      0.0      0.0      0.0  60000.0  58000.0\n",
       "IT              0.0      0.0  50000.0  62000.0      0.0      0.0\n",
       "Marketing       0.0  52000.0      0.0      0.0      0.0      0.0"
      ]
     },
     "execution_count": 22,
     "metadata": {},
     "output_type": "execute_result"
    }
   ],
   "source": [
    "import pandas as pd\n",
    "\n",
    "# Creating a sample DataFrame\n",
    "\n",
    "data = {\n",
    "    'Employee': ['Raj', 'Krish', 'Amit', 'Priya', 'Vikas', 'Neha'],\n",
    "    'Department': ['IT', 'HR', 'Finance', 'Marketing', 'IT', 'HR'],\n",
    "    'Salary': [50000, 60000, 55000, 52000, 62000, 58000],\n",
    "    'Experience': [5, 7, 3, 4, 6, 8]\n",
    "}\n",
    "\n",
    "df = pd.DataFrame(data)\n",
    "\n",
    "# Creating a pivot table\n",
    "\n",
    "pivot_table = pd.pivot_table(df, values='Salary', index='Department', columns='Experience', aggfunc='mean', fill_value=0)\n",
    "\n",
    "a = pivot_table"
   ]
  },
  {
   "cell_type": "markdown",
   "id": "2a72ffa6",
   "metadata": {},
   "source": [
    " \n",
    "## 📍 Creating a Crosstab\n",
    "We can use `crosstab()` to compute frequency tables.\n",
    " "
   ]
  },
  {
   "cell_type": "code",
   "execution_count": 23,
   "id": "a93f5af5",
   "metadata": {},
   "outputs": [
    {
     "name": "stdout",
     "output_type": "stream",
     "text": [
      "Crosstab Result:\n",
      "\n"
     ]
    },
    {
     "data": {
      "text/html": [
       "<div>\n",
       "<style scoped>\n",
       "    .dataframe tbody tr th:only-of-type {\n",
       "        vertical-align: middle;\n",
       "    }\n",
       "\n",
       "    .dataframe tbody tr th {\n",
       "        vertical-align: top;\n",
       "    }\n",
       "\n",
       "    .dataframe thead th {\n",
       "        text-align: right;\n",
       "    }\n",
       "</style>\n",
       "<table border=\"1\" class=\"dataframe\">\n",
       "  <thead>\n",
       "    <tr style=\"text-align: right;\">\n",
       "      <th>Experience</th>\n",
       "      <th>3</th>\n",
       "      <th>4</th>\n",
       "      <th>5</th>\n",
       "      <th>6</th>\n",
       "      <th>7</th>\n",
       "      <th>8</th>\n",
       "    </tr>\n",
       "    <tr>\n",
       "      <th>Department</th>\n",
       "      <th></th>\n",
       "      <th></th>\n",
       "      <th></th>\n",
       "      <th></th>\n",
       "      <th></th>\n",
       "      <th></th>\n",
       "    </tr>\n",
       "  </thead>\n",
       "  <tbody>\n",
       "    <tr>\n",
       "      <th>Finance</th>\n",
       "      <td>1</td>\n",
       "      <td>0</td>\n",
       "      <td>0</td>\n",
       "      <td>0</td>\n",
       "      <td>0</td>\n",
       "      <td>0</td>\n",
       "    </tr>\n",
       "    <tr>\n",
       "      <th>HR</th>\n",
       "      <td>0</td>\n",
       "      <td>0</td>\n",
       "      <td>0</td>\n",
       "      <td>0</td>\n",
       "      <td>1</td>\n",
       "      <td>1</td>\n",
       "    </tr>\n",
       "    <tr>\n",
       "      <th>IT</th>\n",
       "      <td>0</td>\n",
       "      <td>0</td>\n",
       "      <td>1</td>\n",
       "      <td>1</td>\n",
       "      <td>0</td>\n",
       "      <td>0</td>\n",
       "    </tr>\n",
       "    <tr>\n",
       "      <th>Marketing</th>\n",
       "      <td>0</td>\n",
       "      <td>1</td>\n",
       "      <td>0</td>\n",
       "      <td>0</td>\n",
       "      <td>0</td>\n",
       "      <td>0</td>\n",
       "    </tr>\n",
       "  </tbody>\n",
       "</table>\n",
       "</div>"
      ],
      "text/plain": [
       "Experience  3  4  5  6  7  8\n",
       "Department                  \n",
       "Finance     1  0  0  0  0  0\n",
       "HR          0  0  0  0  1  1\n",
       "IT          0  0  1  1  0  0\n",
       "Marketing   0  1  0  0  0  0"
      ]
     },
     "execution_count": 23,
     "metadata": {},
     "output_type": "execute_result"
    }
   ],
   "source": [
    "import pandas as pd \n",
    "\n",
    "data = {\n",
    "    'Employee': ['Raj', 'Krish', 'Amit', 'Priya', 'Vikas', 'Neha'],\n",
    "    'Department': ['IT', 'HR', 'Finance', 'Marketing', 'IT', 'HR'],\n",
    "    'Salary': [50000, 60000, 55000, 52000, 62000, 58000],\n",
    "    'Experience': [5, 7, 3, 4, 6, 8]\n",
    "}\n",
    "\n",
    "df = pd.DataFrame(data)\n",
    "\n",
    "\n",
    "# Creating a crosstab for Department and Experience\n",
    "\n",
    "crosstab_result = pd.crosstab(df['Department'], df['Experience'])\n",
    "\n",
    "a = crosstab_result"
   ]
  },
  {
   "cell_type": "markdown",
   "id": "bcd9e416",
   "metadata": {},
   "source": [
    " \n",
    "# Topic 8 : Applying Functions and Lambda in Pandas\n",
    "\n",
    "## 📍 Using `apply()` Method\n",
    "We can apply functions to Series and DataFrames using `apply()`.\n",
    " "
   ]
  },
  {
   "cell_type": "code",
   "execution_count": 24,
   "id": "b557cb5e",
   "metadata": {},
   "outputs": [
    {
     "name": "stdout",
     "output_type": "stream",
     "text": [
      "DataFrame with Experience Category:\n",
      "\n"
     ]
    },
    {
     "data": {
      "text/html": [
       "<div>\n",
       "<style scoped>\n",
       "    .dataframe tbody tr th:only-of-type {\n",
       "        vertical-align: middle;\n",
       "    }\n",
       "\n",
       "    .dataframe tbody tr th {\n",
       "        vertical-align: top;\n",
       "    }\n",
       "\n",
       "    .dataframe thead th {\n",
       "        text-align: right;\n",
       "    }\n",
       "</style>\n",
       "<table border=\"1\" class=\"dataframe\">\n",
       "  <thead>\n",
       "    <tr style=\"text-align: right;\">\n",
       "      <th></th>\n",
       "      <th>Employee</th>\n",
       "      <th>Salary</th>\n",
       "      <th>Experience</th>\n",
       "      <th>Experience Level</th>\n",
       "    </tr>\n",
       "  </thead>\n",
       "  <tbody>\n",
       "    <tr>\n",
       "      <th>0</th>\n",
       "      <td>Raj</td>\n",
       "      <td>50000</td>\n",
       "      <td>5</td>\n",
       "      <td>Mid-Level</td>\n",
       "    </tr>\n",
       "    <tr>\n",
       "      <th>1</th>\n",
       "      <td>Krish</td>\n",
       "      <td>60000</td>\n",
       "      <td>7</td>\n",
       "      <td>Mid-Level</td>\n",
       "    </tr>\n",
       "    <tr>\n",
       "      <th>2</th>\n",
       "      <td>Amit</td>\n",
       "      <td>55000</td>\n",
       "      <td>3</td>\n",
       "      <td>Junior</td>\n",
       "    </tr>\n",
       "    <tr>\n",
       "      <th>3</th>\n",
       "      <td>Priya</td>\n",
       "      <td>52000</td>\n",
       "      <td>4</td>\n",
       "      <td>Junior</td>\n",
       "    </tr>\n",
       "    <tr>\n",
       "      <th>4</th>\n",
       "      <td>Vikas</td>\n",
       "      <td>62000</td>\n",
       "      <td>6</td>\n",
       "      <td>Mid-Level</td>\n",
       "    </tr>\n",
       "    <tr>\n",
       "      <th>5</th>\n",
       "      <td>Neha</td>\n",
       "      <td>58000</td>\n",
       "      <td>8</td>\n",
       "      <td>Senior</td>\n",
       "    </tr>\n",
       "  </tbody>\n",
       "</table>\n",
       "</div>"
      ],
      "text/plain": [
       "  Employee  Salary  Experience Experience Level\n",
       "0      Raj   50000           5        Mid-Level\n",
       "1    Krish   60000           7        Mid-Level\n",
       "2     Amit   55000           3           Junior\n",
       "3    Priya   52000           4           Junior\n",
       "4    Vikas   62000           6        Mid-Level\n",
       "5     Neha   58000           8           Senior"
      ]
     },
     "execution_count": 24,
     "metadata": {},
     "output_type": "execute_result"
    }
   ],
   "source": [
    "import pandas as pd\n",
    "\n",
    "# Creating a sample DataFrame\n",
    "\n",
    "data = {\n",
    "    'Employee': ['Raj', 'Krish', 'Amit', 'Priya', 'Vikas', 'Neha'],\n",
    "    'Salary': [50000, 60000, 55000, 52000, 62000, 58000],\n",
    "    'Experience': [5, 7, 3, 4, 6, 8]\n",
    "}\n",
    "\n",
    "df = pd.DataFrame(data)\n",
    "\n",
    "# Defining a function to categorize experience\n",
    "\n",
    "def experience_category(exp):\n",
    "    if exp < 5:\n",
    "        return 'Junior'\n",
    "    elif exp <= 7:\n",
    "        return 'Mid-Level'\n",
    "    else:\n",
    "        return 'Senior'\n",
    "\n",
    "# Applying the function to the Experience column\n",
    "\n",
    "df['Experience Level'] = df['Experience'].apply(experience_category)\n",
    "\n",
    "a = df"
   ]
  },
  {
   "cell_type": "markdown",
   "id": "02fcdc88",
   "metadata": {},
   "source": [
    " \n",
    "## 📍 Using Lambda Functions\n",
    "We can use `lambda` inside `apply()` to perform quick operations.\n",
    " "
   ]
  },
  {
   "cell_type": "code",
   "execution_count": 25,
   "id": "ea051a25",
   "metadata": {},
   "outputs": [
    {
     "name": "stdout",
     "output_type": "stream",
     "text": [
      "DataFrame with Updated Salary:\n",
      "   Employee  Salary  Experience  Updated Salary\n",
      "0      Raj   50000           5         55000.0\n",
      "1    Krish   60000           7         66000.0\n",
      "2     Amit   55000           3         60500.0\n",
      "3    Priya   52000           4         57200.0\n",
      "4    Vikas   62000           6         68200.0\n",
      "5     Neha   58000           8         63800.0\n"
     ]
    }
   ],
   "source": [
    "import pandas as %pdb\n",
    "\n",
    "data = {\n",
    "    'Employee': ['Raj', 'Krish', 'Amit', 'Priya', 'Vikas', 'Neha'],\n",
    "    'Salary': [50000, 60000, 55000, 52000, 62000, 58000],\n",
    "    'Experience': [5, 7, 3, 4, 6, 8]\n",
    "}\n",
    "\n",
    "df = pd.DataFrame(data)\n",
    "\n",
    "# Increasing salary by 10% using lambda\n",
    "\n",
    "df['Updated Salary'] = df['Salary'].apply(lambda x: x * 1.10)\n",
    "\n",
    "a = df"
   ]
  },
  {
   "cell_type": "markdown",
   "id": "c29954b9",
   "metadata": {},
   "source": [
    " \n",
    "# Topic 9 : GroupBy Operations in Pandas\n",
    "\n",
    "## 📍 Using `groupby()` to Aggregate Data\n",
    "The `groupby()` function helps in grouping data based on specific columns.\n",
    " "
   ]
  },
  {
   "cell_type": "code",
   "execution_count": 26,
   "id": "6128f0e2",
   "metadata": {},
   "outputs": [
    {
     "name": "stdout",
     "output_type": "stream",
     "text": [
      "Mean Salary by Department:\n",
      " Department\n",
      "Finance      54000.0\n",
      "HR           59000.0\n",
      "IT           56000.0\n",
      "Marketing    51500.0\n",
      "Name: Salary, dtype: float64\n"
     ]
    }
   ],
   "source": [
    "import pandas as pd\n",
    "\n",
    "# Creating a sample DataFrame\n",
    "\n",
    "data = {\n",
    "    'Employee': ['Raj', 'Krish', 'Amit', 'Priya', 'Vikas', 'Neha', 'Ankit', 'Meera'],\n",
    "    'Department': ['IT', 'HR', 'Finance', 'Marketing', 'IT', 'HR', 'Finance', 'Marketing'],\n",
    "    'Salary': [50000, 60000, 55000, 52000, 62000, 58000, 53000, 51000],\n",
    "    'Experience': [5, 7, 3, 4, 6, 8, 2, 5]\n",
    "}\n",
    "\n",
    "df = pd.DataFrame(data)\n",
    "\n",
    "# Grouping by Department and calculating mean salary\n",
    "\n",
    "grouped_salary = df.groupby('Department')['Salary'].mean()\n",
    "\n",
    "a = grouped_salary\n"
   ]
  },
  {
   "cell_type": "markdown",
   "id": "2ddac84c",
   "metadata": {},
   "source": [
    " \n",
    "## 📍 Using Multiple Aggregations\n",
    "We can use multiple aggregation functions at once.\n",
    " "
   ]
  },
  {
   "cell_type": "code",
   "execution_count": 27,
   "id": "66e5c88d",
   "metadata": {},
   "outputs": [
    {
     "name": "stdout",
     "output_type": "stream",
     "text": [
      "Aggregated Data by Department:\n",
      "              Salary               Experience\n",
      "               mean    max    min       mean\n",
      "Department                                  \n",
      "Finance     54000.0  55000  53000        2.5\n",
      "HR          59000.0  60000  58000        7.5\n",
      "IT          56000.0  62000  50000        5.5\n",
      "Marketing   51500.0  52000  51000        4.5\n"
     ]
    }
   ],
   "source": [
    "import pandas as %pdb\n",
    "\n",
    "data = {\n",
    "    'Employee': ['Raj', 'Krish', 'Amit', 'Priya', 'Vikas', 'Neha', 'Ankit', 'Meera'],\n",
    "    'Department': ['IT', 'HR', 'Finance', 'Marketing', 'IT', 'HR', 'Finance', 'Marketing'],\n",
    "    'Salary': [50000, 60000, 55000, 52000, 62000, 58000, 53000, 51000],\n",
    "    'Experience': [5, 7, 3, 4, 6, 8, 2, 5]\n",
    "}\n",
    "\n",
    "df = pd.DataFrame(data)\n",
    "\n",
    "# Grouping by Department and applying multiple aggregations\n",
    "\n",
    "grouped_agg = df.groupby('Department').agg({'Salary': ['mean', 'max', 'min'], 'Experience': 'mean'})\n",
    "\n",
    "a = grouped_agg"
   ]
  },
  {
   "cell_type": "markdown",
   "id": "ad5d18d4",
   "metadata": {},
   "source": [
    " \n",
    "# Topic 10: Merging, Joining, and Concatenation in Pandas\n",
    "\n",
    "## 📍 Merging DataFrames\n",
    "The `merge()` function allows combining DataFrames based on a common column.\n",
    " "
   ]
  },
  {
   "cell_type": "code",
   "execution_count": 28,
   "id": "27fffddf",
   "metadata": {},
   "outputs": [
    {
     "name": "stdout",
     "output_type": "stream",
     "text": [
      "Merged DataFrame:\n",
      "\n"
     ]
    },
    {
     "data": {
      "text/html": [
       "<div>\n",
       "<style scoped>\n",
       "    .dataframe tbody tr th:only-of-type {\n",
       "        vertical-align: middle;\n",
       "    }\n",
       "\n",
       "    .dataframe tbody tr th {\n",
       "        vertical-align: top;\n",
       "    }\n",
       "\n",
       "    .dataframe thead th {\n",
       "        text-align: right;\n",
       "    }\n",
       "</style>\n",
       "<table border=\"1\" class=\"dataframe\">\n",
       "  <thead>\n",
       "    <tr style=\"text-align: right;\">\n",
       "      <th></th>\n",
       "      <th>Employee</th>\n",
       "      <th>Department</th>\n",
       "      <th>Salary</th>\n",
       "      <th>Experience</th>\n",
       "    </tr>\n",
       "  </thead>\n",
       "  <tbody>\n",
       "    <tr>\n",
       "      <th>0</th>\n",
       "      <td>Raj</td>\n",
       "      <td>IT</td>\n",
       "      <td>50000</td>\n",
       "      <td>5</td>\n",
       "    </tr>\n",
       "    <tr>\n",
       "      <th>1</th>\n",
       "      <td>Krish</td>\n",
       "      <td>HR</td>\n",
       "      <td>60000</td>\n",
       "      <td>7</td>\n",
       "    </tr>\n",
       "    <tr>\n",
       "      <th>2</th>\n",
       "      <td>Amit</td>\n",
       "      <td>Finance</td>\n",
       "      <td>55000</td>\n",
       "      <td>3</td>\n",
       "    </tr>\n",
       "  </tbody>\n",
       "</table>\n",
       "</div>"
      ],
      "text/plain": [
       "  Employee Department  Salary  Experience\n",
       "0      Raj         IT   50000           5\n",
       "1    Krish         HR   60000           7\n",
       "2     Amit    Finance   55000           3"
      ]
     },
     "execution_count": 28,
     "metadata": {},
     "output_type": "execute_result"
    }
   ],
   "source": [
    "import pandas as pd\n",
    "\n",
    "# Creating sample DataFrames\n",
    "\n",
    "df1 = pd.DataFrame({\n",
    "    'Employee': ['Raj', 'Krish', 'Amit', 'Priya'],\n",
    "    'Department': ['IT', 'HR', 'Finance', 'Marketing'],\n",
    "    'Salary': [50000, 60000, 55000, 52000]\n",
    "})\n",
    "\n",
    "df2 = pd.DataFrame({\n",
    "    'Employee': ['Raj', 'Krish', 'Amit', 'Neha'],\n",
    "    'Experience': [5, 7, 3, 8]\n",
    "})\n",
    "\n",
    "# Merging DataFrames on Employee column\n",
    "\n",
    "merged_df = pd.merge(df1, df2, on='Employee', how='inner')\n",
    "\n",
    "\n",
    "a = merged_df\n"
   ]
  },
  {
   "cell_type": "markdown",
   "id": "eebd3852",
   "metadata": {},
   "source": [
    " \n",
    "## 📍 Concatenating DataFrames\n",
    "We can use `concat()` to stack DataFrames vertically or horizontally.\n",
    " "
   ]
  },
  {
   "cell_type": "code",
   "execution_count": 29,
   "id": "08601a28",
   "metadata": {},
   "outputs": [
    {
     "name": "stdout",
     "output_type": "stream",
     "text": [
      "Concatenated DataFrame:\n",
      "\n"
     ]
    },
    {
     "data": {
      "text/html": [
       "<div>\n",
       "<style scoped>\n",
       "    .dataframe tbody tr th:only-of-type {\n",
       "        vertical-align: middle;\n",
       "    }\n",
       "\n",
       "    .dataframe tbody tr th {\n",
       "        vertical-align: top;\n",
       "    }\n",
       "\n",
       "    .dataframe thead th {\n",
       "        text-align: right;\n",
       "    }\n",
       "</style>\n",
       "<table border=\"1\" class=\"dataframe\">\n",
       "  <thead>\n",
       "    <tr style=\"text-align: right;\">\n",
       "      <th></th>\n",
       "      <th>Employee</th>\n",
       "      <th>Department</th>\n",
       "      <th>Salary</th>\n",
       "    </tr>\n",
       "  </thead>\n",
       "  <tbody>\n",
       "    <tr>\n",
       "      <th>0</th>\n",
       "      <td>Raj</td>\n",
       "      <td>IT</td>\n",
       "      <td>50000</td>\n",
       "    </tr>\n",
       "    <tr>\n",
       "      <th>1</th>\n",
       "      <td>Krish</td>\n",
       "      <td>HR</td>\n",
       "      <td>60000</td>\n",
       "    </tr>\n",
       "    <tr>\n",
       "      <th>2</th>\n",
       "      <td>Amit</td>\n",
       "      <td>Finance</td>\n",
       "      <td>55000</td>\n",
       "    </tr>\n",
       "    <tr>\n",
       "      <th>3</th>\n",
       "      <td>Priya</td>\n",
       "      <td>Marketing</td>\n",
       "      <td>52000</td>\n",
       "    </tr>\n",
       "    <tr>\n",
       "      <th>4</th>\n",
       "      <td>Vikas</td>\n",
       "      <td>IT</td>\n",
       "      <td>62000</td>\n",
       "    </tr>\n",
       "    <tr>\n",
       "      <th>5</th>\n",
       "      <td>Meera</td>\n",
       "      <td>Marketing</td>\n",
       "      <td>51000</td>\n",
       "    </tr>\n",
       "  </tbody>\n",
       "</table>\n",
       "</div>"
      ],
      "text/plain": [
       "  Employee Department  Salary\n",
       "0      Raj         IT   50000\n",
       "1    Krish         HR   60000\n",
       "2     Amit    Finance   55000\n",
       "3    Priya  Marketing   52000\n",
       "4    Vikas         IT   62000\n",
       "5    Meera  Marketing   51000"
      ]
     },
     "execution_count": 29,
     "metadata": {},
     "output_type": "execute_result"
    }
   ],
   "source": [
    "import pandas as pd\n",
    "\n",
    "df1 = pd.DataFrame({\n",
    "    'Employee': ['Raj', 'Krish', 'Amit', 'Priya'],\n",
    "    'Department': ['IT', 'HR', 'Finance', 'Marketing'],\n",
    "    'Salary': [50000, 60000, 55000, 52000]\n",
    "})\n",
    "\n",
    "df3 = pd.DataFrame({\n",
    "    'Employee': ['Vikas', 'Meera'],\n",
    "    'Department': ['IT', 'Marketing'],\n",
    "    'Salary': [62000, 51000]\n",
    "})\n",
    "\n",
    "# Concatenating DataFrames vertically\n",
    "\n",
    "concat_df = pd.concat([df1, df3], ignore_index=True)\n",
    "\n",
    "a = concat_df"
   ]
  },
  {
   "cell_type": "markdown",
   "id": "149b893b",
   "metadata": {},
   "source": [
    " \n",
    "## 📍 Joining DataFrames\n",
    "The `join()` method is used to combine DataFrames using their index.\n",
    " "
   ]
  },
  {
   "cell_type": "code",
   "execution_count": 30,
   "id": "6ef8dbf5",
   "metadata": {},
   "outputs": [
    {
     "name": "stdout",
     "output_type": "stream",
     "text": [
      "Joined DataFrame:\n",
      "\n"
     ]
    },
    {
     "data": {
      "text/html": [
       "<div>\n",
       "<style scoped>\n",
       "    .dataframe tbody tr th:only-of-type {\n",
       "        vertical-align: middle;\n",
       "    }\n",
       "\n",
       "    .dataframe tbody tr th {\n",
       "        vertical-align: top;\n",
       "    }\n",
       "\n",
       "    .dataframe thead th {\n",
       "        text-align: right;\n",
       "    }\n",
       "</style>\n",
       "<table border=\"1\" class=\"dataframe\">\n",
       "  <thead>\n",
       "    <tr style=\"text-align: right;\">\n",
       "      <th></th>\n",
       "      <th>Department</th>\n",
       "      <th>Salary</th>\n",
       "      <th>Experience</th>\n",
       "    </tr>\n",
       "    <tr>\n",
       "      <th>Employee</th>\n",
       "      <th></th>\n",
       "      <th></th>\n",
       "      <th></th>\n",
       "    </tr>\n",
       "  </thead>\n",
       "  <tbody>\n",
       "    <tr>\n",
       "      <th>Raj</th>\n",
       "      <td>IT</td>\n",
       "      <td>50000</td>\n",
       "      <td>5.0</td>\n",
       "    </tr>\n",
       "    <tr>\n",
       "      <th>Krish</th>\n",
       "      <td>HR</td>\n",
       "      <td>60000</td>\n",
       "      <td>7.0</td>\n",
       "    </tr>\n",
       "    <tr>\n",
       "      <th>Amit</th>\n",
       "      <td>Finance</td>\n",
       "      <td>55000</td>\n",
       "      <td>3.0</td>\n",
       "    </tr>\n",
       "    <tr>\n",
       "      <th>Priya</th>\n",
       "      <td>Marketing</td>\n",
       "      <td>52000</td>\n",
       "      <td>NaN</td>\n",
       "    </tr>\n",
       "  </tbody>\n",
       "</table>\n",
       "</div>"
      ],
      "text/plain": [
       "         Department  Salary  Experience\n",
       "Employee                               \n",
       "Raj              IT   50000         5.0\n",
       "Krish            HR   60000         7.0\n",
       "Amit        Finance   55000         3.0\n",
       "Priya     Marketing   52000         NaN"
      ]
     },
     "execution_count": 30,
     "metadata": {},
     "output_type": "execute_result"
    }
   ],
   "source": [
    "import pandas as pd\n",
    "\n",
    "df1 = pd.DataFrame({\n",
    "    'Employee': ['Raj', 'Krish', 'Amit', 'Priya'],\n",
    "    'Department': ['IT', 'HR', 'Finance', 'Marketing'],\n",
    "    'Salary': [50000, 60000, 55000, 52000]\n",
    "})\n",
    "\n",
    "df2 = pd.DataFrame({\n",
    "    'Employee': ['Raj', 'Krish', 'Amit', 'Neha'],\n",
    "    'Experience': [5, 7, 3, 8]\n",
    "})\n",
    "\n",
    "# Setting Employee as index\n",
    "\n",
    "df1.set_index('Employee', inplace=True)\n",
    "df2.set_index('Employee', inplace=True)\n",
    "\n",
    "# Performing join operation\n",
    "\n",
    "joined_df = df1.join(df2, how='left')\n",
    "\n",
    "a = joined_df"
   ]
  },
  {
   "cell_type": "markdown",
   "id": "3f69246c",
   "metadata": {},
   "source": [
    " \n",
    "# Topic 11 : Time Series Analysis in Pandas\n",
    "\n",
    "## 📍 Creating and Handling Time Series Data\n",
    "Pandas provides powerful tools for working with time series data.\n",
    " "
   ]
  },
  {
   "cell_type": "code",
   "execution_count": 31,
   "id": "4de218e3",
   "metadata": {},
   "outputs": [
    {
     "name": "stdout",
     "output_type": "stream",
     "text": [
      "Time Series Data:\n",
      "\n"
     ]
    },
    {
     "data": {
      "text/html": [
       "<div>\n",
       "<style scoped>\n",
       "    .dataframe tbody tr th:only-of-type {\n",
       "        vertical-align: middle;\n",
       "    }\n",
       "\n",
       "    .dataframe tbody tr th {\n",
       "        vertical-align: top;\n",
       "    }\n",
       "\n",
       "    .dataframe thead th {\n",
       "        text-align: right;\n",
       "    }\n",
       "</style>\n",
       "<table border=\"1\" class=\"dataframe\">\n",
       "  <thead>\n",
       "    <tr style=\"text-align: right;\">\n",
       "      <th></th>\n",
       "      <th>Sales</th>\n",
       "    </tr>\n",
       "    <tr>\n",
       "      <th>Date</th>\n",
       "      <th></th>\n",
       "    </tr>\n",
       "  </thead>\n",
       "  <tbody>\n",
       "    <tr>\n",
       "      <th>2024-01-01</th>\n",
       "      <td>200</td>\n",
       "    </tr>\n",
       "    <tr>\n",
       "      <th>2024-01-02</th>\n",
       "      <td>220</td>\n",
       "    </tr>\n",
       "    <tr>\n",
       "      <th>2024-01-03</th>\n",
       "      <td>250</td>\n",
       "    </tr>\n",
       "    <tr>\n",
       "      <th>2024-01-04</th>\n",
       "      <td>210</td>\n",
       "    </tr>\n",
       "    <tr>\n",
       "      <th>2024-01-05</th>\n",
       "      <td>190</td>\n",
       "    </tr>\n",
       "    <tr>\n",
       "      <th>2024-01-06</th>\n",
       "      <td>230</td>\n",
       "    </tr>\n",
       "    <tr>\n",
       "      <th>2024-01-07</th>\n",
       "      <td>240</td>\n",
       "    </tr>\n",
       "    <tr>\n",
       "      <th>2024-01-08</th>\n",
       "      <td>280</td>\n",
       "    </tr>\n",
       "    <tr>\n",
       "      <th>2024-01-09</th>\n",
       "      <td>300</td>\n",
       "    </tr>\n",
       "    <tr>\n",
       "      <th>2024-01-10</th>\n",
       "      <td>310</td>\n",
       "    </tr>\n",
       "  </tbody>\n",
       "</table>\n",
       "</div>"
      ],
      "text/plain": [
       "            Sales\n",
       "Date             \n",
       "2024-01-01    200\n",
       "2024-01-02    220\n",
       "2024-01-03    250\n",
       "2024-01-04    210\n",
       "2024-01-05    190\n",
       "2024-01-06    230\n",
       "2024-01-07    240\n",
       "2024-01-08    280\n",
       "2024-01-09    300\n",
       "2024-01-10    310"
      ]
     },
     "execution_count": 31,
     "metadata": {},
     "output_type": "execute_result"
    }
   ],
   "source": [
    "import pandas as pd\n",
    "\n",
    "# Creating a date range\n",
    "\n",
    "date_rng = pd.date_range(start='2024-01-01', end='2024-01-10', freq='D')\n",
    "\n",
    "# Creating a DataFrame with time series data\n",
    "\n",
    "ts_df = pd.DataFrame({'Date': date_rng, 'Sales': [200, 220, 250, 210, 190, 230, 240, 280, 300, 310]})\n",
    "ts_df.set_index('Date', inplace=True)\n",
    "\n",
    "a = ts_df "
   ]
  },
  {
   "cell_type": "markdown",
   "id": "d445d4ea",
   "metadata": {},
   "source": [
    " \n",
    "## 📍 Resampling Time Series Data\n",
    "The `resample()` function helps in aggregating data over different time periods.\n",
    " "
   ]
  },
  {
   "cell_type": "code",
   "execution_count": 32,
   "id": "53cb189c",
   "metadata": {},
   "outputs": [
    {
     "name": "stdout",
     "output_type": "stream",
     "text": [
      "Weekly Resampled Sales Data:\n",
      "\n"
     ]
    },
    {
     "data": {
      "text/html": [
       "<div>\n",
       "<style scoped>\n",
       "    .dataframe tbody tr th:only-of-type {\n",
       "        vertical-align: middle;\n",
       "    }\n",
       "\n",
       "    .dataframe tbody tr th {\n",
       "        vertical-align: top;\n",
       "    }\n",
       "\n",
       "    .dataframe thead th {\n",
       "        text-align: right;\n",
       "    }\n",
       "</style>\n",
       "<table border=\"1\" class=\"dataframe\">\n",
       "  <thead>\n",
       "    <tr style=\"text-align: right;\">\n",
       "      <th></th>\n",
       "      <th>Sales</th>\n",
       "    </tr>\n",
       "    <tr>\n",
       "      <th>Date</th>\n",
       "      <th></th>\n",
       "    </tr>\n",
       "  </thead>\n",
       "  <tbody>\n",
       "    <tr>\n",
       "      <th>2024-01-07</th>\n",
       "      <td>1540</td>\n",
       "    </tr>\n",
       "    <tr>\n",
       "      <th>2024-01-14</th>\n",
       "      <td>890</td>\n",
       "    </tr>\n",
       "  </tbody>\n",
       "</table>\n",
       "</div>"
      ],
      "text/plain": [
       "            Sales\n",
       "Date             \n",
       "2024-01-07   1540\n",
       "2024-01-14    890"
      ]
     },
     "execution_count": 32,
     "metadata": {},
     "output_type": "execute_result"
    }
   ],
   "source": [
    "import pandas as pd\n",
    "\n",
    "# Creating a date range\n",
    "\n",
    "date_rng = pd.date_range(start='2024-01-01', end='2024-01-10', freq='D')\n",
    "\n",
    "# Creating a DataFrame with time series data\n",
    "\n",
    "ts_df = pd.DataFrame({'Date': date_rng, 'Sales': [200, 220, 250, 210, 190, 230, 240, 280, 300, 310]})\n",
    "ts_df.set_index('Date', inplace=True)\n",
    "\n",
    "# Resampling to weekly frequency\n",
    "\n",
    "weekly_sales = ts_df.resample('W').sum()\n",
    "\n",
    "a = weekly_sales"
   ]
  },
  {
   "cell_type": "markdown",
   "id": "c17771bb",
   "metadata": {},
   "source": [
    " \n",
    "## 📍 Rolling Window Analysis\n",
    "Rolling operations help in calculating moving averages and trends.\n",
    " "
   ]
  },
  {
   "cell_type": "code",
   "execution_count": 33,
   "id": "efc1f28d",
   "metadata": {},
   "outputs": [
    {
     "name": "stdout",
     "output_type": "stream",
     "text": [
      "Time Series Data with Moving Average:\n",
      "\n"
     ]
    },
    {
     "data": {
      "text/html": [
       "<div>\n",
       "<style scoped>\n",
       "    .dataframe tbody tr th:only-of-type {\n",
       "        vertical-align: middle;\n",
       "    }\n",
       "\n",
       "    .dataframe tbody tr th {\n",
       "        vertical-align: top;\n",
       "    }\n",
       "\n",
       "    .dataframe thead th {\n",
       "        text-align: right;\n",
       "    }\n",
       "</style>\n",
       "<table border=\"1\" class=\"dataframe\">\n",
       "  <thead>\n",
       "    <tr style=\"text-align: right;\">\n",
       "      <th></th>\n",
       "      <th>Sales</th>\n",
       "      <th>Moving_Avg</th>\n",
       "    </tr>\n",
       "    <tr>\n",
       "      <th>Date</th>\n",
       "      <th></th>\n",
       "      <th></th>\n",
       "    </tr>\n",
       "  </thead>\n",
       "  <tbody>\n",
       "    <tr>\n",
       "      <th>2024-01-01</th>\n",
       "      <td>200</td>\n",
       "      <td>NaN</td>\n",
       "    </tr>\n",
       "    <tr>\n",
       "      <th>2024-01-02</th>\n",
       "      <td>220</td>\n",
       "      <td>NaN</td>\n",
       "    </tr>\n",
       "    <tr>\n",
       "      <th>2024-01-03</th>\n",
       "      <td>250</td>\n",
       "      <td>223.333333</td>\n",
       "    </tr>\n",
       "    <tr>\n",
       "      <th>2024-01-04</th>\n",
       "      <td>210</td>\n",
       "      <td>226.666667</td>\n",
       "    </tr>\n",
       "    <tr>\n",
       "      <th>2024-01-05</th>\n",
       "      <td>190</td>\n",
       "      <td>216.666667</td>\n",
       "    </tr>\n",
       "    <tr>\n",
       "      <th>2024-01-06</th>\n",
       "      <td>230</td>\n",
       "      <td>210.000000</td>\n",
       "    </tr>\n",
       "    <tr>\n",
       "      <th>2024-01-07</th>\n",
       "      <td>240</td>\n",
       "      <td>220.000000</td>\n",
       "    </tr>\n",
       "    <tr>\n",
       "      <th>2024-01-08</th>\n",
       "      <td>280</td>\n",
       "      <td>250.000000</td>\n",
       "    </tr>\n",
       "    <tr>\n",
       "      <th>2024-01-09</th>\n",
       "      <td>300</td>\n",
       "      <td>273.333333</td>\n",
       "    </tr>\n",
       "    <tr>\n",
       "      <th>2024-01-10</th>\n",
       "      <td>310</td>\n",
       "      <td>296.666667</td>\n",
       "    </tr>\n",
       "  </tbody>\n",
       "</table>\n",
       "</div>"
      ],
      "text/plain": [
       "            Sales  Moving_Avg\n",
       "Date                         \n",
       "2024-01-01    200         NaN\n",
       "2024-01-02    220         NaN\n",
       "2024-01-03    250  223.333333\n",
       "2024-01-04    210  226.666667\n",
       "2024-01-05    190  216.666667\n",
       "2024-01-06    230  210.000000\n",
       "2024-01-07    240  220.000000\n",
       "2024-01-08    280  250.000000\n",
       "2024-01-09    300  273.333333\n",
       "2024-01-10    310  296.666667"
      ]
     },
     "execution_count": 33,
     "metadata": {},
     "output_type": "execute_result"
    }
   ],
   "source": [
    "import pandas as pd\n",
    "\n",
    "# Creating a date range\n",
    "\n",
    "date_rng = pd.date_range(start='2024-01-01', end='2024-01-10', freq='D')\n",
    "\n",
    "# Creating a DataFrame with time series data\n",
    "\n",
    "ts_df = pd.DataFrame({'Date': date_rng, 'Sales': [200, 220, 250, 210, 190, 230, 240, 280, 300, 310]})\n",
    "ts_df.set_index('Date', inplace=True)\n",
    "\n",
    "\n",
    "# Calculating a 3-day moving average\n",
    "\n",
    "ts_df['Moving_Avg'] = ts_df['Sales'].rolling(window=3).mean()\n",
    "\n",
    "a = ts_df\n"
   ]
  }
 ],
 "metadata": {
  "kernelspec": {
   "display_name": "Python 3 (ipykernel)",
   "language": "python",
   "name": "python3"
  },
  "language_info": {
   "codemirror_mode": {
    "name": "ipython",
    "version": 3
   },
   "file_extension": ".py",
   "mimetype": "text/x-python",
   "name": "python",
   "nbconvert_exporter": "python",
   "pygments_lexer": "ipython3",
   "version": "3.11.5"
  }
 },
 "nbformat": 4,
 "nbformat_minor": 5
}
