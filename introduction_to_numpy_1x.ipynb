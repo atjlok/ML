{
 "cells": [
  {
   "cell_type": "markdown",
   "metadata": {
    "id": "OAVIZKJhhTUf"
   },
   "source": [
    "<a target=\"_blank\" href=\"https://colab.research.google.com/github/mrdbourke/zero-to-mastery-ml/blob/master/section-2-data-science-and-ml-tools/introduction-to-numpy.ipynb\">\n",
    "  <img src=\"https://colab.research.google.com/assets/colab-badge.svg\" alt=\"Open In Colab\"/>\n",
    "</a>\n",
    "\n",
    "[View source code](https://github.com/mrdbourke/zero-to-mastery-ml/blob/master/section-2-data-science-and-ml-tools/introduction-to-numpy.ipynb) | [Read notebook in online book format](https://dev.mrdbourke.com/zero-to-mastery-ml/introduction-to-numpy/)\n",
    "\n",
    "# A Quick Introduction to Numerical Data Manipulation with Python and NumPy"
   ]
  },
  {
   "cell_type": "code",
   "execution_count": null,
   "metadata": {
    "id": "7cf_0d9qhTUh",
    "outputId": "dc31bb64-cadf-4f53-a4ad-e1ce77784c31",
    "tags": []
   },
   "outputs": [
    {
     "name": "stdout",
     "output_type": "stream",
     "text": [
      "Last updated: 2024-09-05 13:15:36.894029\n"
     ]
    }
   ],
   "source": [
    "import datetime\n",
    "print(f\"Last updated: {datetime.datetime.now()}\")"
   ]
  },
  {
   "cell_type": "markdown",
   "metadata": {
    "id": "r7ZuEJrUhTUj"
   },
   "source": [
    "## What is NumPy?\n",
    "\n",
    "[NumPy](https://numpy.org/doc/stable/index.html) stands for numerical Python. It's the backbone of all kinds of scientific and numerical computing in Python.\n",
    "\n",
    "And since machine learning is all about turning data into numbers and then figuring out the patterns, NumPy often comes into play.\n",
    "\n",
    "<img src=\"https://github.com/mrdbourke/zero-to-mastery-ml/blob/master/images/numpy-6-step-ml-framework-tools-numpy-highlight.png?raw=1\" alt=\"a 6 step machine learning framework along will tools you can use for each step\" width=\"700\"/>"
   ]
  },
  {
   "cell_type": "markdown",
   "metadata": {
    "id": "1aSK27G4hTUj"
   },
   "source": [
    "## Why NumPy?\n",
    "\n",
    "You can do numerical calculations using pure Python. In the beginning, you might think Python is fast but once your data gets large, you'll start to notice slow downs.\n",
    "\n",
    "One of the main reasons you use NumPy is because it's fast. Behind the scenes, the code has been optimized to run using C. Which is another programming language, which can do things much faster than Python.\n",
    "\n",
    "The benefit of this being behind the scenes is you don't need to know any C to take advantage of it. You can write your numerical computations in Python using NumPy and get the added speed benefits.\n",
    "\n",
    "If your curious as to what causes this speed benefit, it's a process called vectorization. [Vectorization](https://en.wikipedia.org/wiki/Vectorization) aims to do calculations by avoiding loops as loops can create potential bottlenecks.\n",
    "\n",
    "NumPy achieves vectorization through a process called [broadcasting](https://docs.scipy.org/doc/numpy/user/basics.broadcasting.html#module-numpy.doc.broadcasting)."
   ]
  },
  {
   "cell_type": "markdown",
   "metadata": {
    "id": "7TFzzbBhhTUk"
   },
   "source": [
    "## What does this notebook cover?\n",
    "\n",
    "The NumPy library is very capable. However, learning everything off by heart isn't necessary. Instead, this notebook focuses on the main concepts of NumPy and the `ndarray` datatype.\n",
    "\n",
    "You can think of the `ndarray` datatype as a very flexible array of numbers.\n",
    "\n",
    "More specifically, we'll look at:\n",
    "* NumPy datatypes & attributes\n",
    "* Creating arrays\n",
    "* Viewing arrays & matrices (indexing)\n",
    "* Manipulating & comparing arrays\n",
    "* Sorting arrays\n",
    "* Use cases (examples of turning things into numbers)\n",
    "\n",
    "After going through it, you'll have the base knolwedge of NumPy you need to keep moving forward."
   ]
  },
  {
   "cell_type": "markdown",
   "metadata": {
    "id": "HcTPMYFShTUk"
   },
   "source": [
    "## Where can I get help?\n",
    "If you get stuck or think of something you'd like to do which this notebook doesn't cover, don't fear!\n",
    "\n",
    "The recommended steps you take are:\n",
    "1. **Try it** - Since NumPy is very friendly, your first step should be to use what you know and try figure out the answer to your own question (getting it wrong is part of the process). If in doubt, run your code.\n",
    "2. **Search for it** - If trying it on your own doesn't work, since someone else has probably tried to do something similar, try searching for your problem in the following places (either via a search engine or direct):\n",
    "    * [NumPy documentation](https://numpy.org/doc/stable/index.html) - The ground truth for everything NumPy, this resource covers all of the NumPy functionality.\n",
    "    * [Stack Overflow](https://stackoverflow.com/) - This is the developers Q&A hub, it's full of questions and answers of different problems across a wide range of software development topics and chances are, there's one related to your problem.\n",
    "    * [ChatGPT](https://chat.openai.com/) - ChatGPT is very good at explaining code, however, it can make mistakes. Best to verify the code it writes first before using it. Try asking \"Can you explain the following code for me? {your code here}\" and then continue with follow up questions from there. Avoid straight copying and pasting and instead, only use things that you could yourself reproduce with adequate effort.\n",
    "    \n",
    "An example of searching for a NumPy function might be:\n",
    "\n",
    "> \"how to find unique elements in a numpy array\"\n",
    "\n",
    "Searching this on Google leads to the NumPy documentation for the `np.unique()` function: https://numpy.org/doc/stable/reference/generated/numpy.unique.html\n",
    "\n",
    "The next steps here are to read through the documentation, check the examples and see if they line up to the problem you're trying to solve.\n",
    "\n",
    "If they do, **rewrite the code** to suit your needs, run it, and see what the outcomes are.\n",
    "\n",
    "3. **Ask for help** - If you've been through the above 2 steps and you're still stuck, you might want to ask your question on [Stack Overflow](https://www.stackoverflow.com). Be as specific as possible and provide details on what you've tried.\n",
    "\n",
    "Remember, you don't have to learn all of the functions off by heart to begin with.\n",
    "\n",
    "What's most important is continually asking yourself, \"what am I trying to do with the data?\".\n",
    "\n",
    "Start by answering that question and then practicing finding the code which does it.\n",
    "\n",
    "Let's get started."
   ]
  },
  {
   "cell_type": "markdown",
   "metadata": {
    "id": "rXQUbVZAhTUl"
   },
   "source": [
    "## 0. Importing NumPy\n",
    "\n",
    "To get started using NumPy, the first step is to import it.\n",
    "\n",
    "The most common way (and method you should use) is to import NumPy as the abbreviation `np`.\n",
    "\n",
    "If you see the letters `np` used anywhere in machine learning or data science, it's probably referring to the NumPy library."
   ]
  },
  {
   "cell_type": "code",
   "execution_count": null,
   "metadata": {
    "id": "dyZAar6xhTUl",
    "outputId": "fdac755d-1b99-49d8-b638-eca66fd09f1e"
   },
   "outputs": [
    {
     "name": "stdout",
     "output_type": "stream",
     "text": [
      "2.1.1\n"
     ]
    }
   ],
   "source": [
    "import numpy as np\n",
    "\n",
    "# Check the version\n",
    "print(np.__version__)"
   ]
  },
  {
   "cell_type": "markdown",
   "metadata": {
    "id": "onHXU3v4hTUm"
   },
   "source": [
    "## 1. DataTypes and attributes\n",
    "\n",
    "> **Note:** Important to remember the main type in NumPy is `ndarray`, even seemingly different kinds of arrays are still `ndarray`'s. This means an operation you do on one array, will work on another."
   ]
  },
  {
   "cell_type": "code",
   "execution_count": null,
   "metadata": {
    "id": "DGLwP2rrhTUn"
   },
   "outputs": [],
   "source": [
    "# 1-dimensonal array, also referred to as a vector\n",
    "a1 = np.array([1, 2, 3])\n",
    "\n",
    "# 2-dimensional array, also referred to as matrix\n",
    "a2 = np.array([[1, 2.0, 3.3],\n",
    "               [4, 5, 6.5]])\n",
    "\n",
    "# 3-dimensional array, also referred to as a matrix\n",
    "a3 = np.array([[[1, 2, 3],\n",
    "                [4, 5, 6],\n",
    "                [7, 8, 9]],\n",
    "                [[10, 11, 12],\n",
    "                 [13, 14, 15],\n",
    "                 [16, 17, 18]]])"
   ]
  },
  {
   "cell_type": "code",
   "execution_count": null,
   "metadata": {
    "id": "aty6n7EBhTUn",
    "outputId": "1abda0e9-9440-4f83-eaf0-6139b710cdb1"
   },
   "outputs": [
    {
     "data": {
      "text/plain": [
       "((3,), 1, dtype('int64'), 3, numpy.ndarray)"
      ]
     },
     "execution_count": 4,
     "metadata": {},
     "output_type": "execute_result"
    }
   ],
   "source": [
    "a1.shape, a1.ndim, a1.dtype, a1.size, type(a1)"
   ]
  },
  {
   "cell_type": "code",
   "execution_count": null,
   "metadata": {
    "id": "1cy7oWP9hTUn",
    "outputId": "cd11e237-997a-4c98-b050-641d050ceb94"
   },
   "outputs": [
    {
     "data": {
      "text/plain": [
       "((2, 3), 2, dtype('float64'), 6, numpy.ndarray)"
      ]
     },
     "execution_count": 5,
     "metadata": {},
     "output_type": "execute_result"
    }
   ],
   "source": [
    "a2.shape, a2.ndim, a2.dtype, a2.size, type(a2)"
   ]
  },
  {
   "cell_type": "code",
   "execution_count": null,
   "metadata": {
    "id": "VTxE6qD3hTUo",
    "outputId": "89d3faca-889e-4091-e26c-c03065a112a4"
   },
   "outputs": [
    {
     "data": {
      "text/plain": [
       "((2, 3, 3), 3, dtype('int64'), 18, numpy.ndarray)"
      ]
     },
     "execution_count": 6,
     "metadata": {},
     "output_type": "execute_result"
    }
   ],
   "source": [
    "a3.shape, a3.ndim, a3.dtype, a3.size, type(a3)"
   ]
  },
  {
   "cell_type": "code",
   "execution_count": null,
   "metadata": {
    "id": "RX3yMCmlhTUo",
    "outputId": "706bcba8-6cc4-45b4-cf19-45fa308d04e3"
   },
   "outputs": [
    {
     "data": {
      "text/plain": [
       "array([1, 2, 3])"
      ]
     },
     "execution_count": 7,
     "metadata": {},
     "output_type": "execute_result"
    }
   ],
   "source": [
    "a1"
   ]
  },
  {
   "cell_type": "code",
   "execution_count": null,
   "metadata": {
    "id": "aKjJW2jFhTUo",
    "outputId": "7e819771-fcfd-4f9a-a25e-215f0521a122"
   },
   "outputs": [
    {
     "data": {
      "text/plain": [
       "array([[1. , 2. , 3.3],\n",
       "       [4. , 5. , 6.5]])"
      ]
     },
     "execution_count": 8,
     "metadata": {},
     "output_type": "execute_result"
    }
   ],
   "source": [
    "a2"
   ]
  },
  {
   "cell_type": "code",
   "execution_count": null,
   "metadata": {
    "id": "t-vb8kVChTUp",
    "outputId": "dc33816a-4bde-4a51-89d0-2ade9b4e53ff"
   },
   "outputs": [
    {
     "data": {
      "text/plain": [
       "array([[[ 1,  2,  3],\n",
       "        [ 4,  5,  6],\n",
       "        [ 7,  8,  9]],\n",
       "\n",
       "       [[10, 11, 12],\n",
       "        [13, 14, 15],\n",
       "        [16, 17, 18]]])"
      ]
     },
     "execution_count": 9,
     "metadata": {},
     "output_type": "execute_result"
    }
   ],
   "source": [
    "a3"
   ]
  },
  {
   "cell_type": "markdown",
   "metadata": {
    "id": "kJhtvruAhTUp"
   },
   "source": [
    "### Anatomy of an array\n",
    "\n",
    "<img src=\"https://github.com/mrdbourke/zero-to-mastery-ml/blob/master/images/numpy-anatomy-of-an-array-updated.png?raw=1\" alt=\"anatomy of a numpy array\"/>\n",
    "\n",
    "Key terms:\n",
    "* **Array** - A list of numbers, can be multi-dimensional.\n",
    "* **Scalar** - A single number (e.g. `7`).\n",
    "* **Vector** - A list of numbers with 1-dimension (e.g. `np.array([1, 2, 3])`).\n",
    "* **Matrix** - A (usually) multi-dimensional list of numbers (e.g. `np.array([[1, 2, 3], [4, 5, 6]])`)."
   ]
  },
  {
   "cell_type": "markdown",
   "metadata": {
    "id": "a0PQX7SxhTUp"
   },
   "source": [
    "### pandas DataFrame out of NumPy arrays\n",
    "\n",
    "This is to examplify how NumPy is the backbone of many other libraries."
   ]
  },
  {
   "cell_type": "code",
   "execution_count": null,
   "metadata": {
    "id": "66lTHZ6jhTUq",
    "outputId": "c8e4080d-323f-484e-d919-9554e5d883e2"
   },
   "outputs": [
    {
     "data": {
      "text/html": [
       "<div>\n",
       "<style scoped>\n",
       "    .dataframe tbody tr th:only-of-type {\n",
       "        vertical-align: middle;\n",
       "    }\n",
       "\n",
       "    .dataframe tbody tr th {\n",
       "        vertical-align: top;\n",
       "    }\n",
       "\n",
       "    .dataframe thead th {\n",
       "        text-align: right;\n",
       "    }\n",
       "</style>\n",
       "<table border=\"1\" class=\"dataframe\">\n",
       "  <thead>\n",
       "    <tr style=\"text-align: right;\">\n",
       "      <th></th>\n",
       "      <th>a</th>\n",
       "      <th>b</th>\n",
       "      <th>c</th>\n",
       "    </tr>\n",
       "  </thead>\n",
       "  <tbody>\n",
       "    <tr>\n",
       "      <th>0</th>\n",
       "      <td>5</td>\n",
       "      <td>8</td>\n",
       "      <td>0</td>\n",
       "    </tr>\n",
       "    <tr>\n",
       "      <th>1</th>\n",
       "      <td>3</td>\n",
       "      <td>3</td>\n",
       "      <td>2</td>\n",
       "    </tr>\n",
       "    <tr>\n",
       "      <th>2</th>\n",
       "      <td>1</td>\n",
       "      <td>6</td>\n",
       "      <td>7</td>\n",
       "    </tr>\n",
       "    <tr>\n",
       "      <th>3</th>\n",
       "      <td>7</td>\n",
       "      <td>3</td>\n",
       "      <td>9</td>\n",
       "    </tr>\n",
       "    <tr>\n",
       "      <th>4</th>\n",
       "      <td>6</td>\n",
       "      <td>6</td>\n",
       "      <td>7</td>\n",
       "    </tr>\n",
       "  </tbody>\n",
       "</table>\n",
       "</div>"
      ],
      "text/plain": [
       "   a  b  c\n",
       "0  5  8  0\n",
       "1  3  3  2\n",
       "2  1  6  7\n",
       "3  7  3  9\n",
       "4  6  6  7"
      ]
     },
     "execution_count": 10,
     "metadata": {},
     "output_type": "execute_result"
    }
   ],
   "source": [
    "import pandas as pd\n",
    "df = pd.DataFrame(np.random.randint(10, size=(5, 3)),\n",
    "                                    columns=['a', 'b', 'c'])\n",
    "df"
   ]
  },
  {
   "cell_type": "code",
   "execution_count": null,
   "metadata": {
    "id": "YO9B3ZKvhTUq",
    "outputId": "424dc9ad-8201-4a95-a8e1-31d110b4a13f"
   },
   "outputs": [
    {
     "data": {
      "text/plain": [
       "array([[1. , 2. , 3.3],\n",
       "       [4. , 5. , 6.5]])"
      ]
     },
     "execution_count": 11,
     "metadata": {},
     "output_type": "execute_result"
    }
   ],
   "source": [
    "a2"
   ]
  },
  {
   "cell_type": "code",
   "execution_count": null,
   "metadata": {
    "id": "pLJ1ZaIjhTUq",
    "outputId": "b922985c-ddb2-4a24-c4ad-ff169dc55876"
   },
   "outputs": [
    {
     "data": {
      "text/html": [
       "<div>\n",
       "<style scoped>\n",
       "    .dataframe tbody tr th:only-of-type {\n",
       "        vertical-align: middle;\n",
       "    }\n",
       "\n",
       "    .dataframe tbody tr th {\n",
       "        vertical-align: top;\n",
       "    }\n",
       "\n",
       "    .dataframe thead th {\n",
       "        text-align: right;\n",
       "    }\n",
       "</style>\n",
       "<table border=\"1\" class=\"dataframe\">\n",
       "  <thead>\n",
       "    <tr style=\"text-align: right;\">\n",
       "      <th></th>\n",
       "      <th>0</th>\n",
       "      <th>1</th>\n",
       "      <th>2</th>\n",
       "    </tr>\n",
       "  </thead>\n",
       "  <tbody>\n",
       "    <tr>\n",
       "      <th>0</th>\n",
       "      <td>1.0</td>\n",
       "      <td>2.0</td>\n",
       "      <td>3.3</td>\n",
       "    </tr>\n",
       "    <tr>\n",
       "      <th>1</th>\n",
       "      <td>4.0</td>\n",
       "      <td>5.0</td>\n",
       "      <td>6.5</td>\n",
       "    </tr>\n",
       "  </tbody>\n",
       "</table>\n",
       "</div>"
      ],
      "text/plain": [
       "     0    1    2\n",
       "0  1.0  2.0  3.3\n",
       "1  4.0  5.0  6.5"
      ]
     },
     "execution_count": 12,
     "metadata": {},
     "output_type": "execute_result"
    }
   ],
   "source": [
    "df2 = pd.DataFrame(a2)\n",
    "df2"
   ]
  },
  {
   "cell_type": "markdown",
   "metadata": {
    "id": "xLtmV1CbhTUr"
   },
   "source": [
    "## 2. Creating arrays\n",
    "\n",
    "* `np.array()`\n",
    "* `np.ones()`\n",
    "* `np.zeros()`\n",
    "* `np.random.rand(5, 3)`\n",
    "* `np.random.randint(10, size=5)`\n",
    "* `np.random.seed()` - pseudo random numbers\n",
    "* Searching the documentation example (finding `np.unique()` and using it)"
   ]
  },
  {
   "cell_type": "code",
   "execution_count": null,
   "metadata": {
    "id": "FitqReCihTUr",
    "outputId": "d8591629-7d3a-435f-e2da-a90a0bdeb71d"
   },
   "outputs": [
    {
     "data": {
      "text/plain": [
       "array([1, 2, 3])"
      ]
     },
     "execution_count": 13,
     "metadata": {},
     "output_type": "execute_result"
    }
   ],
   "source": [
    "# Create a simple array\n",
    "simple_array = np.array([1, 2, 3])\n",
    "simple_array"
   ]
  },
  {
   "cell_type": "code",
   "execution_count": null,
   "metadata": {
    "id": "5iMaV0hmhTUr",
    "outputId": "575fdf29-b4d2-4d24-c5ab-23ccccb2d8ee"
   },
   "outputs": [
    {
     "data": {
      "text/plain": [
       "(array([1, 2, 3]), dtype('int64'))"
      ]
     },
     "execution_count": 14,
     "metadata": {},
     "output_type": "execute_result"
    }
   ],
   "source": [
    "simple_array = np.array((1, 2, 3))\n",
    "simple_array, simple_array.dtype"
   ]
  },
  {
   "cell_type": "code",
   "execution_count": null,
   "metadata": {
    "id": "VgTjBM6zhTUr",
    "outputId": "d2416e98-1a75-47da-ff21-e99e1da6ca9f"
   },
   "outputs": [
    {
     "data": {
      "text/plain": [
       "array([[1., 1.],\n",
       "       [1., 1.],\n",
       "       [1., 1.],\n",
       "       [1., 1.],\n",
       "       [1., 1.],\n",
       "       [1., 1.],\n",
       "       [1., 1.],\n",
       "       [1., 1.],\n",
       "       [1., 1.],\n",
       "       [1., 1.]])"
      ]
     },
     "execution_count": 15,
     "metadata": {},
     "output_type": "execute_result"
    }
   ],
   "source": [
    "# Create an array of ones\n",
    "ones = np.ones((10, 2))\n",
    "ones"
   ]
  },
  {
   "cell_type": "code",
   "execution_count": null,
   "metadata": {
    "id": "A8U8DYF1hTUs",
    "outputId": "dc726517-0e62-4970-d438-a269dc360c42"
   },
   "outputs": [
    {
     "data": {
      "text/plain": [
       "dtype('float64')"
      ]
     },
     "execution_count": 16,
     "metadata": {},
     "output_type": "execute_result"
    }
   ],
   "source": [
    "# The default datatype is 'float64'\n",
    "ones.dtype"
   ]
  },
  {
   "cell_type": "code",
   "execution_count": null,
   "metadata": {
    "id": "uXne_WE0hTUs",
    "outputId": "c733c05a-961d-4426-e426-a28aebe6bf11"
   },
   "outputs": [
    {
     "data": {
      "text/plain": [
       "array([[1, 1],\n",
       "       [1, 1],\n",
       "       [1, 1],\n",
       "       [1, 1],\n",
       "       [1, 1],\n",
       "       [1, 1],\n",
       "       [1, 1],\n",
       "       [1, 1],\n",
       "       [1, 1],\n",
       "       [1, 1]])"
      ]
     },
     "execution_count": 17,
     "metadata": {},
     "output_type": "execute_result"
    }
   ],
   "source": [
    "# You can change the datatype with .astype()\n",
    "ones.astype(int)"
   ]
  },
  {
   "cell_type": "code",
   "execution_count": null,
   "metadata": {
    "id": "O8_2nIsPhTUs",
    "outputId": "af8b4b42-70d7-48f4-f258-10e21d8f12fb"
   },
   "outputs": [
    {
     "data": {
      "text/plain": [
       "array([[[0., 0., 0.],\n",
       "        [0., 0., 0.],\n",
       "        [0., 0., 0.]],\n",
       "\n",
       "       [[0., 0., 0.],\n",
       "        [0., 0., 0.],\n",
       "        [0., 0., 0.]],\n",
       "\n",
       "       [[0., 0., 0.],\n",
       "        [0., 0., 0.],\n",
       "        [0., 0., 0.]],\n",
       "\n",
       "       [[0., 0., 0.],\n",
       "        [0., 0., 0.],\n",
       "        [0., 0., 0.]],\n",
       "\n",
       "       [[0., 0., 0.],\n",
       "        [0., 0., 0.],\n",
       "        [0., 0., 0.]]])"
      ]
     },
     "execution_count": 18,
     "metadata": {},
     "output_type": "execute_result"
    }
   ],
   "source": [
    "# Create an array of zeros\n",
    "zeros = np.zeros((5, 3, 3))\n",
    "zeros"
   ]
  },
  {
   "cell_type": "code",
   "execution_count": null,
   "metadata": {
    "id": "7SRbWAXFhTUs",
    "outputId": "c869aaa8-4604-4c6e-9d7c-b6a2cc3ab93f"
   },
   "outputs": [
    {
     "data": {
      "text/plain": [
       "dtype('float64')"
      ]
     },
     "execution_count": 19,
     "metadata": {},
     "output_type": "execute_result"
    }
   ],
   "source": [
    "zeros.dtype"
   ]
  },
  {
   "cell_type": "code",
   "execution_count": null,
   "metadata": {
    "id": "LINfBqixhTUt",
    "outputId": "1ee90aa4-f2c9-40bf-fae5-f6eb1a437343"
   },
   "outputs": [
    {
     "data": {
      "text/plain": [
       "array([0, 2, 4, 6, 8])"
      ]
     },
     "execution_count": 20,
     "metadata": {},
     "output_type": "execute_result"
    }
   ],
   "source": [
    "# Create an array within a range of values\n",
    "range_array = np.arange(0, 10, 2)\n",
    "range_array"
   ]
  },
  {
   "cell_type": "code",
   "execution_count": null,
   "metadata": {
    "id": "OdOmCJJ_hTUt",
    "outputId": "a767fb92-a5f4-42e9-ca0b-80ea473c9030"
   },
   "outputs": [
    {
     "data": {
      "text/plain": [
       "array([[8, 7, 6],\n",
       "       [4, 2, 7],\n",
       "       [6, 0, 6],\n",
       "       [0, 8, 5],\n",
       "       [6, 2, 9]])"
      ]
     },
     "execution_count": 21,
     "metadata": {},
     "output_type": "execute_result"
    }
   ],
   "source": [
    "# Random array\n",
    "random_array = np.random.randint(10, size=(5, 3))\n",
    "random_array"
   ]
  },
  {
   "cell_type": "code",
   "execution_count": null,
   "metadata": {
    "id": "YlgIfnvkhTUt",
    "outputId": "2da10889-7e3f-4f42-9f01-57b127ef29ff"
   },
   "outputs": [
    {
     "data": {
      "text/plain": [
       "array([[0.47811645, 0.49437395, 0.09426995],\n",
       "       [0.80062461, 0.41609157, 0.45268566],\n",
       "       [0.24531914, 0.56982162, 0.36856519],\n",
       "       [0.32292926, 0.03760924, 0.13312765],\n",
       "       [0.66844485, 0.88781517, 0.21807957]])"
      ]
     },
     "execution_count": 22,
     "metadata": {},
     "output_type": "execute_result"
    }
   ],
   "source": [
    "# Random array of floats (between 0 & 1)\n",
    "np.random.random((5, 3))"
   ]
  },
  {
   "cell_type": "code",
   "execution_count": null,
   "metadata": {
    "id": "x0d9RSNHhTUt",
    "outputId": "b7de2ca3-39ae-4741-8b55-2818297c558e"
   },
   "outputs": [
    {
     "data": {
      "text/plain": [
       "array([[0.96868201, 0.87777028, 0.21900062],\n",
       "       [0.88225041, 0.73815918, 0.83321165],\n",
       "       [0.14038979, 0.79643185, 0.2741666 ],\n",
       "       [0.48166491, 0.74364069, 0.75385132],\n",
       "       [0.58920305, 0.43270563, 0.42922598]])"
      ]
     },
     "execution_count": 23,
     "metadata": {},
     "output_type": "execute_result"
    }
   ],
   "source": [
    "np.random.random((5, 3))"
   ]
  },
  {
   "cell_type": "code",
   "execution_count": null,
   "metadata": {
    "id": "ntSxFVlxhTUu",
    "outputId": "2d2e2535-b49a-4cfc-cfda-4b63c39873a7"
   },
   "outputs": [
    {
     "data": {
      "text/plain": [
       "array([[0.90225603, 0.76253433, 0.84856067],\n",
       "       [0.8961939 , 0.37019149, 0.00568981],\n",
       "       [0.78797133, 0.07953581, 0.99870521],\n",
       "       [0.07481087, 0.74846133, 0.0788899 ],\n",
       "       [0.40156115, 0.80716411, 0.37204142]])"
      ]
     },
     "execution_count": 24,
     "metadata": {},
     "output_type": "execute_result"
    }
   ],
   "source": [
    "# Random 5x3 array of floats (between 0 & 1), similar to above\n",
    "np.random.rand(5, 3)"
   ]
  },
  {
   "cell_type": "code",
   "execution_count": null,
   "metadata": {
    "id": "j3hxdmpLhTUu",
    "outputId": "095d9039-5e71-46da-c409-b3f82f3549de"
   },
   "outputs": [
    {
     "data": {
      "text/plain": [
       "array([[0.80767414, 0.62863218, 0.32492877],\n",
       "       [0.71402148, 0.06601142, 0.16626604],\n",
       "       [0.81986587, 0.75875945, 0.73266779],\n",
       "       [0.4233863 , 0.52077358, 0.21571921],\n",
       "       [0.75862881, 0.65817717, 0.74667541]])"
      ]
     },
     "execution_count": 25,
     "metadata": {},
     "output_type": "execute_result"
    }
   ],
   "source": [
    "np.random.rand(5, 3)"
   ]
  },
  {
   "cell_type": "markdown",
   "metadata": {
    "id": "lDhBzx2BhTUu"
   },
   "source": [
    "NumPy uses pseudo-random numbers, which means, the numbers look random but aren't really, they're predetermined.\n",
    "\n",
    "For consistency, you might want to keep the random numbers you generate similar throughout experiments.\n",
    "\n",
    "To do this, you can use [`np.random.seed()`](https://docs.scipy.org/doc/numpy-1.15.0/reference/generated/numpy.random.seed.html).\n",
    "\n",
    "What this does is it tells NumPy, \"Hey, I want you to create random numbers but keep them aligned with the seed.\"\n",
    "\n",
    "Let's see it."
   ]
  },
  {
   "cell_type": "code",
   "execution_count": null,
   "metadata": {
    "id": "mmwj5XB0hTUu",
    "outputId": "b13f5b43-50c8-4a01-f45b-ae0c6957d6de"
   },
   "outputs": [
    {
     "data": {
      "text/plain": [
       "array([[5, 0, 3],\n",
       "       [3, 7, 9],\n",
       "       [3, 5, 2],\n",
       "       [4, 7, 6],\n",
       "       [8, 8, 1]])"
      ]
     },
     "execution_count": 26,
     "metadata": {},
     "output_type": "execute_result"
    }
   ],
   "source": [
    "# Set random seed to 0\n",
    "np.random.seed(0)\n",
    "\n",
    "# Make 'random' numbers\n",
    "np.random.randint(10, size=(5, 3))"
   ]
  },
  {
   "cell_type": "markdown",
   "metadata": {
    "id": "HU5d9iMchTUu"
   },
   "source": [
    "With `np.random.seed()` set, every time you run the cell above, the same random numbers will be generated.\n",
    "\n",
    "What if `np.random.seed()` wasn't set?\n",
    "\n",
    "Every time you run the cell below, a new set of numbers will appear."
   ]
  },
  {
   "cell_type": "code",
   "execution_count": null,
   "metadata": {
    "id": "q9Adc8dnhTUv",
    "outputId": "4e04721c-0fbc-4464-b63d-b86a78de2cf7"
   },
   "outputs": [
    {
     "data": {
      "text/plain": [
       "array([[6, 7, 7],\n",
       "       [8, 1, 5],\n",
       "       [9, 8, 9],\n",
       "       [4, 3, 0],\n",
       "       [3, 5, 0]])"
      ]
     },
     "execution_count": 27,
     "metadata": {},
     "output_type": "execute_result"
    }
   ],
   "source": [
    "# Make more random numbers\n",
    "np.random.randint(10, size=(5, 3))"
   ]
  },
  {
   "cell_type": "markdown",
   "metadata": {
    "id": "dfCtnAFihTU0"
   },
   "source": [
    "Let's see it in action again, we'll stay consistent and set the random seed to 0."
   ]
  },
  {
   "cell_type": "code",
   "execution_count": null,
   "metadata": {
    "id": "v8gycpYFhTU1",
    "outputId": "4fa56828-d0d0-41ce-835e-d67f1529f579"
   },
   "outputs": [
    {
     "data": {
      "text/plain": [
       "array([[5, 0, 3],\n",
       "       [3, 7, 9],\n",
       "       [3, 5, 2],\n",
       "       [4, 7, 6],\n",
       "       [8, 8, 1]])"
      ]
     },
     "execution_count": 28,
     "metadata": {},
     "output_type": "execute_result"
    }
   ],
   "source": [
    "# Set random seed to same number as above\n",
    "np.random.seed(0)\n",
    "\n",
    "# The same random numbers come out\n",
    "np.random.randint(10, size=(5, 3))"
   ]
  },
  {
   "cell_type": "markdown",
   "metadata": {
    "id": "9XC1D-8XhTU1"
   },
   "source": [
    "Because `np.random.seed()` is set to 0, the random numbers are the same as the cell with `np.random.seed()` set to 0 as well.\n",
    "\n",
    "Setting `np.random.seed()` is not 100% necessary but it's helpful to keep numbers the same throughout your experiments.\n",
    "\n",
    "For example, say you wanted to split your data randomly into training and test sets.\n",
    "\n",
    "Every time you randomly split, you might get different rows in each set.\n",
    "\n",
    "If you shared your work with someone else, they'd get different rows in each set too.\n",
    "\n",
    "Setting `np.random.seed()` ensures there's still randomness, it just makes the randomness repeatable. Hence the 'pseudo-random' numbers."
   ]
  },
  {
   "cell_type": "code",
   "execution_count": null,
   "metadata": {
    "id": "UAOhBHuShTU1",
    "outputId": "e28cf1ba-c198-4dec-bf6b-a1bc1cbf1a98"
   },
   "outputs": [
    {
     "data": {
      "text/html": [
       "<div>\n",
       "<style scoped>\n",
       "    .dataframe tbody tr th:only-of-type {\n",
       "        vertical-align: middle;\n",
       "    }\n",
       "\n",
       "    .dataframe tbody tr th {\n",
       "        vertical-align: top;\n",
       "    }\n",
       "\n",
       "    .dataframe thead th {\n",
       "        text-align: right;\n",
       "    }\n",
       "</style>\n",
       "<table border=\"1\" class=\"dataframe\">\n",
       "  <thead>\n",
       "    <tr style=\"text-align: right;\">\n",
       "      <th></th>\n",
       "      <th>0</th>\n",
       "      <th>1</th>\n",
       "      <th>2</th>\n",
       "    </tr>\n",
       "  </thead>\n",
       "  <tbody>\n",
       "    <tr>\n",
       "      <th>0</th>\n",
       "      <td>5</td>\n",
       "      <td>0</td>\n",
       "      <td>3</td>\n",
       "    </tr>\n",
       "    <tr>\n",
       "      <th>1</th>\n",
       "      <td>3</td>\n",
       "      <td>7</td>\n",
       "      <td>9</td>\n",
       "    </tr>\n",
       "    <tr>\n",
       "      <th>2</th>\n",
       "      <td>3</td>\n",
       "      <td>5</td>\n",
       "      <td>2</td>\n",
       "    </tr>\n",
       "    <tr>\n",
       "      <th>3</th>\n",
       "      <td>4</td>\n",
       "      <td>7</td>\n",
       "      <td>6</td>\n",
       "    </tr>\n",
       "    <tr>\n",
       "      <th>4</th>\n",
       "      <td>8</td>\n",
       "      <td>8</td>\n",
       "      <td>1</td>\n",
       "    </tr>\n",
       "  </tbody>\n",
       "</table>\n",
       "</div>"
      ],
      "text/plain": [
       "   0  1  2\n",
       "0  5  0  3\n",
       "1  3  7  9\n",
       "2  3  5  2\n",
       "3  4  7  6\n",
       "4  8  8  1"
      ]
     },
     "execution_count": 29,
     "metadata": {},
     "output_type": "execute_result"
    }
   ],
   "source": [
    "np.random.seed(0)\n",
    "df = pd.DataFrame(np.random.randint(10, size=(5, 3)))\n",
    "df"
   ]
  },
  {
   "cell_type": "markdown",
   "metadata": {
    "id": "QNjCuRSjhTU1"
   },
   "source": [
    "### What unique values are in the array a3?\n",
    "\n",
    "Now you've seen a few different ways to create arrays, as an exercise, try find out what NumPy function you could use to find the unique values are within the `a3` array.\n",
    "\n",
    "You might want to search some like, \"how to find the unqiue values in a numpy array\"."
   ]
  },
  {
   "cell_type": "code",
   "execution_count": null,
   "metadata": {
    "id": "TKF2_4iMhTU2"
   },
   "outputs": [],
   "source": [
    "# Your code here"
   ]
  },
  {
   "cell_type": "markdown",
   "metadata": {
    "id": "nu-YB-LZhTU2"
   },
   "source": [
    "## 3. Viewing arrays and matrices (indexing)\n",
    "\n",
    "Remember, because arrays and matrices are both `ndarray`'s, they can be viewed in similar ways.\n",
    "\n",
    "Let's check out our 3 arrays again."
   ]
  },
  {
   "cell_type": "code",
   "execution_count": null,
   "metadata": {
    "id": "U892c7kghTU2",
    "outputId": "67120e5e-5029-495b-ef9e-53854b15fba3"
   },
   "outputs": [
    {
     "data": {
      "text/plain": [
       "array([1, 2, 3])"
      ]
     },
     "execution_count": 31,
     "metadata": {},
     "output_type": "execute_result"
    }
   ],
   "source": [
    "a1"
   ]
  },
  {
   "cell_type": "code",
   "execution_count": null,
   "metadata": {
    "id": "OPyMfJ2bhTU2",
    "outputId": "69df534a-266b-4a70-e778-11a55c6a561c"
   },
   "outputs": [
    {
     "data": {
      "text/plain": [
       "array([[1. , 2. , 3.3],\n",
       "       [4. , 5. , 6.5]])"
      ]
     },
     "execution_count": 32,
     "metadata": {},
     "output_type": "execute_result"
    }
   ],
   "source": [
    "a2"
   ]
  },
  {
   "cell_type": "code",
   "execution_count": null,
   "metadata": {
    "id": "gsSPufbqhTU3",
    "outputId": "87505112-722b-4e91-fd87-a74f4cc6d31c"
   },
   "outputs": [
    {
     "data": {
      "text/plain": [
       "array([[[ 1,  2,  3],\n",
       "        [ 4,  5,  6],\n",
       "        [ 7,  8,  9]],\n",
       "\n",
       "       [[10, 11, 12],\n",
       "        [13, 14, 15],\n",
       "        [16, 17, 18]]])"
      ]
     },
     "execution_count": 33,
     "metadata": {},
     "output_type": "execute_result"
    }
   ],
   "source": [
    "a3"
   ]
  },
  {
   "cell_type": "markdown",
   "metadata": {
    "id": "eJT5m3llhTU3"
   },
   "source": [
    "Array shapes are always listed in the format `(row, column, n, n, n...)` where `n` is optional extra dimensions."
   ]
  },
  {
   "cell_type": "code",
   "execution_count": null,
   "metadata": {
    "id": "Ixb9KygHhTU3",
    "outputId": "14e6bdd9-91a7-4b95-c7f9-d920fe1b68cc"
   },
   "outputs": [
    {
     "data": {
      "text/plain": [
       "np.int64(1)"
      ]
     },
     "execution_count": 34,
     "metadata": {},
     "output_type": "execute_result"
    }
   ],
   "source": [
    "a1[0]"
   ]
  },
  {
   "cell_type": "code",
   "execution_count": null,
   "metadata": {
    "id": "GN7nXtYnhTU4",
    "outputId": "ad4136f1-2597-4040-83fe-3895b400532a"
   },
   "outputs": [
    {
     "data": {
      "text/plain": [
       "array([1. , 2. , 3.3])"
      ]
     },
     "execution_count": 35,
     "metadata": {},
     "output_type": "execute_result"
    }
   ],
   "source": [
    "a2[0]"
   ]
  },
  {
   "cell_type": "code",
   "execution_count": null,
   "metadata": {
    "id": "Awast0-7hTU4",
    "outputId": "cc6668f4-dc37-40a4-b6b4-bff82cedd417"
   },
   "outputs": [
    {
     "data": {
      "text/plain": [
       "array([[1, 2, 3],\n",
       "       [4, 5, 6],\n",
       "       [7, 8, 9]])"
      ]
     },
     "execution_count": 36,
     "metadata": {},
     "output_type": "execute_result"
    }
   ],
   "source": [
    "a3[0]"
   ]
  },
  {
   "cell_type": "code",
   "execution_count": null,
   "metadata": {
    "id": "jfSyAkpBhTU5",
    "outputId": "564a03e1-35f1-45ef-b589-44c0f137b938"
   },
   "outputs": [
    {
     "data": {
      "text/plain": [
       "array([4. , 5. , 6.5])"
      ]
     },
     "execution_count": 37,
     "metadata": {},
     "output_type": "execute_result"
    }
   ],
   "source": [
    "# Get 2nd row (index 1) of a2\n",
    "a2[1]"
   ]
  },
  {
   "cell_type": "code",
   "execution_count": null,
   "metadata": {
    "id": "NdvVC2qihTU5",
    "outputId": "fd66e0f4-1dd1-4059-8ed9-faebfd545e9f"
   },
   "outputs": [
    {
     "data": {
      "text/plain": [
       "array([[[ 1,  2],\n",
       "        [ 4,  5]],\n",
       "\n",
       "       [[10, 11],\n",
       "        [13, 14]]])"
      ]
     },
     "execution_count": 38,
     "metadata": {},
     "output_type": "execute_result"
    }
   ],
   "source": [
    "# Get the first 2 values of the first 2 rows of both arrays\n",
    "a3[:2, :2, :2]"
   ]
  },
  {
   "cell_type": "markdown",
   "metadata": {
    "id": "3XJkgMgFhTU5"
   },
   "source": [
    "This takes a bit of practice, especially when the dimensions get higher. Usually, it takes me a little trial and error of trying to get certain values, viewing the output in the notebook and trying again.\n",
    "\n",
    "NumPy arrays get printed from outside to inside. This means the number at the end of the shape comes first, and the number at the start of the shape comes last."
   ]
  },
  {
   "cell_type": "code",
   "execution_count": null,
   "metadata": {
    "id": "t_DlQY1shTU5",
    "outputId": "8d6b8b62-928a-4de4-da34-8cd42150e3f4"
   },
   "outputs": [
    {
     "data": {
      "text/plain": [
       "array([[[[6, 7, 7, 8, 1],\n",
       "         [5, 9, 8, 9, 4],\n",
       "         [3, 0, 3, 5, 0],\n",
       "         [2, 3, 8, 1, 3]],\n",
       "\n",
       "        [[3, 3, 7, 0, 1],\n",
       "         [9, 9, 0, 4, 7],\n",
       "         [3, 2, 7, 2, 0],\n",
       "         [0, 4, 5, 5, 6]],\n",
       "\n",
       "        [[8, 4, 1, 4, 9],\n",
       "         [8, 1, 1, 7, 9],\n",
       "         [9, 3, 6, 7, 2],\n",
       "         [0, 3, 5, 9, 4]]],\n",
       "\n",
       "\n",
       "       [[[4, 6, 4, 4, 3],\n",
       "         [4, 4, 8, 4, 3],\n",
       "         [7, 5, 5, 0, 1],\n",
       "         [5, 9, 3, 0, 5]],\n",
       "\n",
       "        [[0, 1, 2, 4, 2],\n",
       "         [0, 3, 2, 0, 7],\n",
       "         [5, 9, 0, 2, 7],\n",
       "         [2, 9, 2, 3, 3]],\n",
       "\n",
       "        [[2, 3, 4, 1, 2],\n",
       "         [9, 1, 4, 6, 8],\n",
       "         [2, 3, 0, 0, 6],\n",
       "         [0, 6, 3, 3, 8]]]])"
      ]
     },
     "execution_count": 39,
     "metadata": {},
     "output_type": "execute_result"
    }
   ],
   "source": [
    "a4 = np.random.randint(10, size=(2, 3, 4, 5))\n",
    "a4"
   ]
  },
  {
   "cell_type": "code",
   "execution_count": null,
   "metadata": {
    "id": "RmfT-TOYhTU6",
    "outputId": "0386e854-3964-48fc-882d-17b855c3145e"
   },
   "outputs": [
    {
     "data": {
      "text/plain": [
       "(2, 3, 4, 5)"
      ]
     },
     "execution_count": 40,
     "metadata": {},
     "output_type": "execute_result"
    }
   ],
   "source": [
    "a4.shape"
   ]
  },
  {
   "cell_type": "code",
   "execution_count": null,
   "metadata": {
    "id": "DAYC1B7NhTU6",
    "outputId": "6d05eed8-c84d-447e-a38b-3fd683197378"
   },
   "outputs": [
    {
     "data": {
      "text/plain": [
       "array([[[[6, 7, 7, 8],\n",
       "         [5, 9, 8, 9],\n",
       "         [3, 0, 3, 5],\n",
       "         [2, 3, 8, 1]],\n",
       "\n",
       "        [[3, 3, 7, 0],\n",
       "         [9, 9, 0, 4],\n",
       "         [3, 2, 7, 2],\n",
       "         [0, 4, 5, 5]],\n",
       "\n",
       "        [[8, 4, 1, 4],\n",
       "         [8, 1, 1, 7],\n",
       "         [9, 3, 6, 7],\n",
       "         [0, 3, 5, 9]]],\n",
       "\n",
       "\n",
       "       [[[4, 6, 4, 4],\n",
       "         [4, 4, 8, 4],\n",
       "         [7, 5, 5, 0],\n",
       "         [5, 9, 3, 0]],\n",
       "\n",
       "        [[0, 1, 2, 4],\n",
       "         [0, 3, 2, 0],\n",
       "         [5, 9, 0, 2],\n",
       "         [2, 9, 2, 3]],\n",
       "\n",
       "        [[2, 3, 4, 1],\n",
       "         [9, 1, 4, 6],\n",
       "         [2, 3, 0, 0],\n",
       "         [0, 6, 3, 3]]]])"
      ]
     },
     "execution_count": 41,
     "metadata": {},
     "output_type": "execute_result"
    }
   ],
   "source": [
    "# Get only the first 4 numbers of each single vector\n",
    "a4[:, :, :, :4]"
   ]
  },
  {
   "cell_type": "markdown",
   "metadata": {
    "id": "I5Hss_iIhTU6"
   },
   "source": [
    "`a4`'s shape is (2, 3, 4, 5), this means it gets displayed like so:\n",
    "* Inner most array = size 5\n",
    "* Next array = size 4\n",
    "* Next array = size 3\n",
    "* Outer most array = size 2"
   ]
  },
  {
   "cell_type": "markdown",
   "metadata": {
    "id": "WkFKUX-KhTU6"
   },
   "source": [
    "## 4. Manipulating and comparing arrays\n",
    "* Arithmetic\n",
    "    * `+`, `-`, `*`, `/`, `//`, `**`, `%`\n",
    "    * `np.exp()`\n",
    "    * `np.log()`\n",
    "    * [Dot product](https://www.mathsisfun.com/algebra/matrix-multiplying.html) - `np.dot()`\n",
    "    * Broadcasting\n",
    "* Aggregation\n",
    "    * `np.sum()` - faster than Python's `.sum()` for NumPy arrays\n",
    "    * `np.mean()`\n",
    "    * `np.std()`\n",
    "    * `np.var()`\n",
    "    * `np.min()`\n",
    "    * `np.max()`\n",
    "    * `np.argmin()` - find index of minimum value\n",
    "    * `np.argmax()` - find index of maximum value\n",
    "    * These work on all `ndarray`'s\n",
    "        * `a4.min(axis=0)` -- you can use axis as well\n",
    "* Reshaping\n",
    "    * `np.reshape()`\n",
    "* Transposing\n",
    "    * `a3.T`\n",
    "* Comparison operators\n",
    "    * `>`\n",
    "    * `<`\n",
    "    * `<=`\n",
    "    * `>=`\n",
    "    * `x != 3`\n",
    "    * `x == 3`\n",
    "    * `np.sum(x > 3)`"
   ]
  },
  {
   "cell_type": "markdown",
   "metadata": {
    "id": "M0OMp4k2hTU7"
   },
   "source": [
    "### Arithmetic"
   ]
  },
  {
   "cell_type": "code",
   "execution_count": null,
   "metadata": {
    "id": "GEhfX9xEhTU7",
    "outputId": "e8059e02-b2ca-49df-ae93-6916a5aa5a37"
   },
   "outputs": [
    {
     "data": {
      "text/plain": [
       "array([1, 2, 3])"
      ]
     },
     "execution_count": 42,
     "metadata": {},
     "output_type": "execute_result"
    }
   ],
   "source": [
    "a1"
   ]
  },
  {
   "cell_type": "code",
   "execution_count": null,
   "metadata": {
    "id": "6wVZa8TXhTU7",
    "outputId": "67e8e365-a815-4b82-ddd7-ed956d4a87c1"
   },
   "outputs": [
    {
     "data": {
      "text/plain": [
       "array([1., 1., 1.])"
      ]
     },
     "execution_count": 43,
     "metadata": {},
     "output_type": "execute_result"
    }
   ],
   "source": [
    "ones = np.ones(3)\n",
    "ones"
   ]
  },
  {
   "cell_type": "code",
   "execution_count": null,
   "metadata": {
    "id": "8CY23rMihTU7",
    "outputId": "7a021a0a-0d55-4b9c-b533-334736e59cd1"
   },
   "outputs": [
    {
     "data": {
      "text/plain": [
       "array([2., 3., 4.])"
      ]
     },
     "execution_count": 44,
     "metadata": {},
     "output_type": "execute_result"
    }
   ],
   "source": [
    "# Add two arrays\n",
    "a1 + ones"
   ]
  },
  {
   "cell_type": "code",
   "execution_count": null,
   "metadata": {
    "id": "o2YsNyFfhTU8",
    "outputId": "7de48cab-3cb1-4560-c546-6bcc0a7863a9"
   },
   "outputs": [
    {
     "data": {
      "text/plain": [
       "array([0., 1., 2.])"
      ]
     },
     "execution_count": 45,
     "metadata": {},
     "output_type": "execute_result"
    }
   ],
   "source": [
    "# Subtract two arrays\n",
    "a1 - ones"
   ]
  },
  {
   "cell_type": "code",
   "execution_count": null,
   "metadata": {
    "id": "V3njz1zqhTU8",
    "outputId": "3e10ed1e-a00f-4e65-b41a-17aecfe135f0"
   },
   "outputs": [
    {
     "data": {
      "text/plain": [
       "array([1., 2., 3.])"
      ]
     },
     "execution_count": 46,
     "metadata": {},
     "output_type": "execute_result"
    }
   ],
   "source": [
    "# Multiply two arrays\n",
    "a1 * ones"
   ]
  },
  {
   "cell_type": "code",
   "execution_count": null,
   "metadata": {
    "id": "snHv39IEhTU8",
    "outputId": "74fce525-0696-47c5-8dbf-7dadbbc29292"
   },
   "outputs": [
    {
     "data": {
      "text/plain": [
       "array([[ 1. ,  4. ,  9.9],\n",
       "       [ 4. , 10. , 19.5]])"
      ]
     },
     "execution_count": 47,
     "metadata": {},
     "output_type": "execute_result"
    }
   ],
   "source": [
    "# Multiply two arrays\n",
    "a1 * a2"
   ]
  },
  {
   "cell_type": "code",
   "execution_count": null,
   "metadata": {
    "id": "EAkQC1xRhTU8",
    "outputId": "9ebea933-a94b-4714-f7d6-14a4669a84b3"
   },
   "outputs": [
    {
     "data": {
      "text/plain": [
       "((3,), (2, 3))"
      ]
     },
     "execution_count": 48,
     "metadata": {},
     "output_type": "execute_result"
    }
   ],
   "source": [
    "a1.shape, a2.shape"
   ]
  },
  {
   "cell_type": "code",
   "execution_count": null,
   "metadata": {
    "id": "-1BiNtgLhTU9",
    "outputId": "006146ee-e22a-4431-c18a-62ee93a2a2b4"
   },
   "outputs": [
    {
     "ename": "ValueError",
     "evalue": "operands could not be broadcast together with shapes (2,3) (2,3,3) ",
     "output_type": "error",
     "traceback": [
      "\u001b[0;31m---------------------------------------------------------------------------\u001b[0m",
      "\u001b[0;31mValueError\u001b[0m                                Traceback (most recent call last)",
      "Cell \u001b[0;32mIn[49], line 2\u001b[0m\n\u001b[1;32m      1\u001b[0m \u001b[38;5;66;03m# This will error as the arrays have a different number of dimensions (2, 3) vs. (2, 3, 3) \u001b[39;00m\n\u001b[0;32m----> 2\u001b[0m \u001b[43ma2\u001b[49m\u001b[43m \u001b[49m\u001b[38;5;241;43m*\u001b[39;49m\u001b[43m \u001b[49m\u001b[43ma3\u001b[49m\n",
      "\u001b[0;31mValueError\u001b[0m: operands could not be broadcast together with shapes (2,3) (2,3,3) "
     ]
    }
   ],
   "source": [
    "# This will error as the arrays have a different number of dimensions (2, 3) vs. (2, 3, 3)\n",
    "a2 * a3"
   ]
  },
  {
   "cell_type": "code",
   "execution_count": null,
   "metadata": {
    "id": "sNeyx6pHhTU9",
    "outputId": "05efe636-a209-4f22-ecdc-1a610cc5668a"
   },
   "outputs": [
    {
     "data": {
      "text/plain": [
       "array([[[ 1,  2,  3],\n",
       "        [ 4,  5,  6],\n",
       "        [ 7,  8,  9]],\n",
       "\n",
       "       [[10, 11, 12],\n",
       "        [13, 14, 15],\n",
       "        [16, 17, 18]]])"
      ]
     },
     "execution_count": 50,
     "metadata": {},
     "output_type": "execute_result"
    }
   ],
   "source": [
    "a3"
   ]
  },
  {
   "cell_type": "markdown",
   "metadata": {
    "id": "9KxInk3UhTU-"
   },
   "source": [
    "### Broadcasting\n",
    "\n",
    "- What is broadcasting?\n",
    "    - Broadcasting is a feature of NumPy which performs an operation across multiple dimensions of data without replicating the data. This saves time and space. For example, if you have a 3x3 array (A) and want to add a 1x3 array (B), NumPy will add the row of (B) to every row of (A).\n",
    "\n",
    "- Rules of Broadcasting\n",
    "    1. If the two arrays differ in their number of dimensions, the shape of the one with fewer dimensions is padded with ones on its leading (left) side.\n",
    "    2. If the shape of the two arrays does not match in any dimension, the array with shape equal to 1 in that dimension is stretched to match the other shape.\n",
    "    3. If in any dimension the sizes disagree and neither is equal to 1, an error is raised.\n",
    "    \n",
    "    \n",
    "**The broadcasting rule:**\n",
    "In order to broadcast, the size of the trailing axes for both arrays in an operation must be either the same size or one of them must be one."
   ]
  },
  {
   "cell_type": "code",
   "execution_count": null,
   "metadata": {
    "id": "iWIRkUJWhTU-",
    "outputId": "17c12189-8ae7-4670-eb26-a0d608793f2f"
   },
   "outputs": [
    {
     "data": {
      "text/plain": [
       "array([1, 2, 3])"
      ]
     },
     "execution_count": 51,
     "metadata": {},
     "output_type": "execute_result"
    }
   ],
   "source": [
    "a1"
   ]
  },
  {
   "cell_type": "code",
   "execution_count": null,
   "metadata": {
    "id": "ah_f3Zo4hTU-",
    "outputId": "0b537013-4958-458f-e23e-07f529a7acb3"
   },
   "outputs": [
    {
     "data": {
      "text/plain": [
       "(3,)"
      ]
     },
     "execution_count": 52,
     "metadata": {},
     "output_type": "execute_result"
    }
   ],
   "source": [
    "a1.shape"
   ]
  },
  {
   "cell_type": "code",
   "execution_count": null,
   "metadata": {
    "id": "x-Fv8kAMhTU_",
    "outputId": "104aef49-547e-4b75-91da-5d2592e57113"
   },
   "outputs": [
    {
     "data": {
      "text/plain": [
       "(2, 3)"
      ]
     },
     "execution_count": 53,
     "metadata": {},
     "output_type": "execute_result"
    }
   ],
   "source": [
    "a2.shape"
   ]
  },
  {
   "cell_type": "code",
   "execution_count": null,
   "metadata": {
    "id": "CPcirlGqhTU_",
    "outputId": "3c1333f0-b3b5-481d-e446-3f7c36aeb2f0"
   },
   "outputs": [
    {
     "data": {
      "text/plain": [
       "array([[1. , 2. , 3.3],\n",
       "       [4. , 5. , 6.5]])"
      ]
     },
     "execution_count": 54,
     "metadata": {},
     "output_type": "execute_result"
    }
   ],
   "source": [
    "a2"
   ]
  },
  {
   "cell_type": "code",
   "execution_count": null,
   "metadata": {
    "id": "owII5wn7hTU_",
    "outputId": "a92ca377-d97b-494f-ab84-094ef61b0c50"
   },
   "outputs": [
    {
     "data": {
      "text/plain": [
       "array([[2. , 4. , 6.3],\n",
       "       [5. , 7. , 9.5]])"
      ]
     },
     "execution_count": 55,
     "metadata": {},
     "output_type": "execute_result"
    }
   ],
   "source": [
    "a1 + a2"
   ]
  },
  {
   "cell_type": "code",
   "execution_count": null,
   "metadata": {
    "id": "qBRSjkvZhTU_",
    "outputId": "6e8fd434-eb9a-47f3-9ee1-971f3de17ef3"
   },
   "outputs": [
    {
     "data": {
      "text/plain": [
       "array([[3. , 4. , 5.3],\n",
       "       [6. , 7. , 8.5]])"
      ]
     },
     "execution_count": 56,
     "metadata": {},
     "output_type": "execute_result"
    }
   ],
   "source": [
    "a2 + 2"
   ]
  },
  {
   "cell_type": "code",
   "execution_count": null,
   "metadata": {
    "id": "nS8Fn-xHhTVA",
    "outputId": "ea63f42e-f187-4660-e866-ffdb9fca89f8"
   },
   "outputs": [
    {
     "ename": "ValueError",
     "evalue": "operands could not be broadcast together with shapes (2,3) (2,3,3) ",
     "output_type": "error",
     "traceback": [
      "\u001b[0;31m---------------------------------------------------------------------------\u001b[0m",
      "\u001b[0;31mValueError\u001b[0m                                Traceback (most recent call last)",
      "Cell \u001b[0;32mIn[57], line 2\u001b[0m\n\u001b[1;32m      1\u001b[0m \u001b[38;5;66;03m# Raises an error because there's a shape mismatch (2, 3) vs. (2, 3, 3)\u001b[39;00m\n\u001b[0;32m----> 2\u001b[0m \u001b[43ma2\u001b[49m\u001b[43m \u001b[49m\u001b[38;5;241;43m+\u001b[39;49m\u001b[43m \u001b[49m\u001b[43ma3\u001b[49m\n",
      "\u001b[0;31mValueError\u001b[0m: operands could not be broadcast together with shapes (2,3) (2,3,3) "
     ]
    }
   ],
   "source": [
    "# Raises an error because there's a shape mismatch (2, 3) vs. (2, 3, 3)\n",
    "a2 + a3"
   ]
  },
  {
   "cell_type": "code",
   "execution_count": null,
   "metadata": {
    "id": "k9oFbwmKhTVA",
    "outputId": "ec4a5b22-7dd8-46dd-8a82-1344bc8b07a1"
   },
   "outputs": [
    {
     "data": {
      "text/plain": [
       "array([1., 2., 3.])"
      ]
     },
     "execution_count": 58,
     "metadata": {},
     "output_type": "execute_result"
    }
   ],
   "source": [
    "# Divide two arrays\n",
    "a1 / ones"
   ]
  },
  {
   "cell_type": "code",
   "execution_count": null,
   "metadata": {
    "id": "4hCY2DgVhTVA",
    "outputId": "1a37abad-0a79-48d5-ffda-aaa4df83baa1"
   },
   "outputs": [
    {
     "data": {
      "text/plain": [
       "array([[1., 1., 1.],\n",
       "       [4., 2., 2.]])"
      ]
     },
     "execution_count": 59,
     "metadata": {},
     "output_type": "execute_result"
    }
   ],
   "source": [
    "# Divide using floor division\n",
    "a2 // a1"
   ]
  },
  {
   "cell_type": "code",
   "execution_count": null,
   "metadata": {
    "id": "N_86X24mhTVA",
    "outputId": "221cb7df-4cc6-4da0-acae-c8a4e70807d5"
   },
   "outputs": [
    {
     "data": {
      "text/plain": [
       "array([1, 4, 9])"
      ]
     },
     "execution_count": 60,
     "metadata": {},
     "output_type": "execute_result"
    }
   ],
   "source": [
    "# Take an array to a power\n",
    "a1 ** 2"
   ]
  },
  {
   "cell_type": "code",
   "execution_count": null,
   "metadata": {
    "id": "O3bOtVW-hTVB",
    "outputId": "08d592dc-ab57-428b-e302-234694b8858e"
   },
   "outputs": [
    {
     "data": {
      "text/plain": [
       "array([1, 4, 9])"
      ]
     },
     "execution_count": 61,
     "metadata": {},
     "output_type": "execute_result"
    }
   ],
   "source": [
    "# You can also use np.square()\n",
    "np.square(a1)"
   ]
  },
  {
   "cell_type": "code",
   "execution_count": null,
   "metadata": {
    "id": "kCCmPFMwhTVB",
    "outputId": "693440f5-8408-4095-f86f-fc2e7ff50388"
   },
   "outputs": [
    {
     "data": {
      "text/plain": [
       "array([1, 0, 1])"
      ]
     },
     "execution_count": 62,
     "metadata": {},
     "output_type": "execute_result"
    }
   ],
   "source": [
    "# Modulus divide (what's the remainder)\n",
    "a1 % 2"
   ]
  },
  {
   "cell_type": "markdown",
   "metadata": {
    "id": "EYK95EUthTVB"
   },
   "source": [
    "You can also find the log or exponential of an array using `np.log()` and `np.exp()`."
   ]
  },
  {
   "cell_type": "code",
   "execution_count": null,
   "metadata": {
    "id": "5Hl9GRSkhTVB",
    "outputId": "1bec782e-6c31-4815-c4fd-278906cf3500"
   },
   "outputs": [
    {
     "data": {
      "text/plain": [
       "array([0.        , 0.69314718, 1.09861229])"
      ]
     },
     "execution_count": 63,
     "metadata": {},
     "output_type": "execute_result"
    }
   ],
   "source": [
    "# Find the log of an array\n",
    "np.log(a1)"
   ]
  },
  {
   "cell_type": "code",
   "execution_count": null,
   "metadata": {
    "id": "B0Y-BIN8hTVC",
    "outputId": "a3455b1c-4751-41a9-c070-a35577cae76b"
   },
   "outputs": [
    {
     "data": {
      "text/plain": [
       "array([ 2.71828183,  7.3890561 , 20.08553692])"
      ]
     },
     "execution_count": 64,
     "metadata": {},
     "output_type": "execute_result"
    }
   ],
   "source": [
    "# Find the exponential of an array\n",
    "np.exp(a1)"
   ]
  },
  {
   "cell_type": "markdown",
   "metadata": {
    "id": "cRRMatXJhTVC"
   },
   "source": [
    "### Aggregation\n",
    "\n",
    "Aggregation - bringing things together, doing a similar thing on a number of things."
   ]
  },
  {
   "cell_type": "code",
   "execution_count": null,
   "metadata": {
    "id": "z63x2nkphTVC",
    "outputId": "55c8c19f-1f80-49bb-8b88-65b55b5726e2"
   },
   "outputs": [
    {
     "data": {
      "text/plain": [
       "np.int64(6)"
      ]
     },
     "execution_count": 65,
     "metadata": {},
     "output_type": "execute_result"
    }
   ],
   "source": [
    "sum(a1)"
   ]
  },
  {
   "cell_type": "code",
   "execution_count": null,
   "metadata": {
    "id": "1dWvNVjrhTVC",
    "outputId": "f16ee7c7-a9ce-4ab6-f0f2-c8866b719686"
   },
   "outputs": [
    {
     "data": {
      "text/plain": [
       "np.int64(6)"
      ]
     },
     "execution_count": 66,
     "metadata": {},
     "output_type": "execute_result"
    }
   ],
   "source": [
    "np.sum(a1)"
   ]
  },
  {
   "cell_type": "markdown",
   "metadata": {
    "id": "F3Oywmo1hTVC"
   },
   "source": [
    "**Tip:** Use NumPy's `np.sum()` on NumPy arrays and Python's `sum()` on Python `list`s."
   ]
  },
  {
   "cell_type": "code",
   "execution_count": null,
   "metadata": {
    "id": "8qxsBvNMhTVD",
    "outputId": "6fdc4988-274f-40a1-e298-e5f88f7ee3e5"
   },
   "outputs": [
    {
     "data": {
      "text/plain": [
       "(100000, numpy.ndarray)"
      ]
     },
     "execution_count": 67,
     "metadata": {},
     "output_type": "execute_result"
    }
   ],
   "source": [
    "massive_array = np.random.random(100000)\n",
    "massive_array.size, type(massive_array)"
   ]
  },
  {
   "cell_type": "code",
   "execution_count": null,
   "metadata": {
    "id": "22PbHhpChTVD",
    "outputId": "18f340c9-4f6d-4c47-b2b6-7204763a802b"
   },
   "outputs": [
    {
     "name": "stdout",
     "output_type": "stream",
     "text": [
      "3.93 ms ± 145 μs per loop (mean ± std. dev. of 7 runs, 100 loops each)\n",
      "20.5 μs ± 698 ns per loop (mean ± std. dev. of 7 runs, 10,000 loops each)\n"
     ]
    }
   ],
   "source": [
    "%timeit sum(massive_array) # Python sum()\n",
    "%timeit np.sum(massive_array) # NumPy np.sum()"
   ]
  },
  {
   "cell_type": "markdown",
   "metadata": {
    "id": "9zSIqF8GhTVD"
   },
   "source": [
    "Notice `np.sum()` is faster on the Numpy array (`numpy.ndarray`) than Python's `sum()`.\n",
    "\n",
    "Now let's try it out on a Python list."
   ]
  },
  {
   "cell_type": "code",
   "execution_count": null,
   "metadata": {
    "id": "JW9qj6MChTVD",
    "outputId": "32dbd008-9f14-4624-e5f2-f382843cd3f6"
   },
   "outputs": [
    {
     "data": {
      "text/plain": [
       "(100000, list)"
      ]
     },
     "execution_count": 69,
     "metadata": {},
     "output_type": "execute_result"
    }
   ],
   "source": [
    "import random\n",
    "massive_list = [random.randint(0, 10) for i in range(100000)]\n",
    "len(massive_list), type(massive_list)"
   ]
  },
  {
   "cell_type": "code",
   "execution_count": null,
   "metadata": {
    "id": "cqoIBacvhTVE",
    "outputId": "8af49c46-9f38-4778-a5b5-c5849a03475a"
   },
   "outputs": [
    {
     "data": {
      "text/plain": [
       "[8, 9, 1, 0, 0, 6, 2, 8, 6, 3]"
      ]
     },
     "execution_count": 70,
     "metadata": {},
     "output_type": "execute_result"
    }
   ],
   "source": [
    "massive_list[:10]"
   ]
  },
  {
   "cell_type": "code",
   "execution_count": null,
   "metadata": {
    "id": "phcaxhB3hTVE",
    "outputId": "c3c7822e-ae2e-406a-ee9c-579627695f85"
   },
   "outputs": [
    {
     "name": "stdout",
     "output_type": "stream",
     "text": [
      "419 μs ± 6.74 μs per loop (mean ± std. dev. of 7 runs, 1,000 loops each)\n",
      "2.72 ms ± 118 μs per loop (mean ± std. dev. of 7 runs, 100 loops each)\n"
     ]
    }
   ],
   "source": [
    "%timeit sum(massive_list)\n",
    "%timeit np.sum(massive_list)"
   ]
  },
  {
   "cell_type": "markdown",
   "metadata": {
    "id": "-6u_rnIfhTVE"
   },
   "source": [
    "NumPy's `np.sum()` is still fast but Python's `sum()` is faster on Python `list`s."
   ]
  },
  {
   "cell_type": "code",
   "execution_count": null,
   "metadata": {
    "id": "VrlTxz_AhTVE",
    "outputId": "33e1f8ac-8efb-450e-ddcc-dceabe131e92"
   },
   "outputs": [
    {
     "data": {
      "text/plain": [
       "array([[1. , 2. , 3.3],\n",
       "       [4. , 5. , 6.5]])"
      ]
     },
     "execution_count": 72,
     "metadata": {},
     "output_type": "execute_result"
    }
   ],
   "source": [
    "a2"
   ]
  },
  {
   "cell_type": "code",
   "execution_count": null,
   "metadata": {
    "id": "ExOoi82UhTVE",
    "outputId": "8aa2748e-5805-4068-99b1-d3150b7a0f2e"
   },
   "outputs": [
    {
     "data": {
      "text/plain": [
       "np.float64(3.6333333333333333)"
      ]
     },
     "execution_count": 73,
     "metadata": {},
     "output_type": "execute_result"
    }
   ],
   "source": [
    "# Find the mean\n",
    "np.mean(a2)"
   ]
  },
  {
   "cell_type": "code",
   "execution_count": null,
   "metadata": {
    "id": "Q1XKQplNhTVF",
    "outputId": "be59e1c8-0704-433b-e12d-54a3fd839493"
   },
   "outputs": [
    {
     "data": {
      "text/plain": [
       "np.float64(6.5)"
      ]
     },
     "execution_count": 74,
     "metadata": {},
     "output_type": "execute_result"
    }
   ],
   "source": [
    "# Find the max\n",
    "np.max(a2)"
   ]
  },
  {
   "cell_type": "code",
   "execution_count": null,
   "metadata": {
    "id": "Mg-JnGgvhTVF",
    "outputId": "aba844fc-2ca0-4cda-c477-78cdd440d17a"
   },
   "outputs": [
    {
     "data": {
      "text/plain": [
       "np.float64(1.0)"
      ]
     },
     "execution_count": 75,
     "metadata": {},
     "output_type": "execute_result"
    }
   ],
   "source": [
    "# Find the min\n",
    "np.min(a2)"
   ]
  },
  {
   "cell_type": "code",
   "execution_count": null,
   "metadata": {
    "id": "ZZDbxkCQhTVF",
    "outputId": "13ff11b0-faf7-492d-ad3b-a48c18316856"
   },
   "outputs": [
    {
     "data": {
      "text/plain": [
       "np.float64(1.8226964152656422)"
      ]
     },
     "execution_count": 76,
     "metadata": {},
     "output_type": "execute_result"
    }
   ],
   "source": [
    "# Find the standard deviation\n",
    "np.std(a2)"
   ]
  },
  {
   "cell_type": "code",
   "execution_count": null,
   "metadata": {
    "id": "S0yeisUehTVF",
    "outputId": "c6d34ef1-0571-4982-ff4c-05658b5be0af"
   },
   "outputs": [
    {
     "data": {
      "text/plain": [
       "np.float64(3.3222222222222224)"
      ]
     },
     "execution_count": 77,
     "metadata": {},
     "output_type": "execute_result"
    }
   ],
   "source": [
    "# Find the variance\n",
    "np.var(a2)"
   ]
  },
  {
   "cell_type": "code",
   "execution_count": null,
   "metadata": {
    "id": "uz7zceKYhTVG",
    "outputId": "4a424c82-82e5-4b75-d679-9ae4e98970f6"
   },
   "outputs": [
    {
     "data": {
      "text/plain": [
       "np.float64(1.8226964152656422)"
      ]
     },
     "execution_count": 78,
     "metadata": {},
     "output_type": "execute_result"
    }
   ],
   "source": [
    "# The standard deviation is the square root of the variance\n",
    "np.sqrt(np.var(a2))"
   ]
  },
  {
   "cell_type": "markdown",
   "metadata": {
    "id": "EBjHG7q8hTVG"
   },
   "source": [
    "**What's mean?**\n",
    "\n",
    "Mean is the same as average. You can find the average of a set of numbers by adding them up and dividing them by how many there are.\n",
    "\n",
    "**What's standard deviation?**\n",
    "\n",
    "[Standard deviation](https://www.mathsisfun.com/data/standard-deviation.html) is a measure of how spread out numbers are.\n",
    "\n",
    "**What's variance?**\n",
    "\n",
    "The [variance](https://www.mathsisfun.com/data/standard-deviation.html) is the averaged squared differences of the mean.\n",
    "\n",
    "To work it out, you:\n",
    "1. Work out the mean\n",
    "2. For each number, subtract the mean and square the result\n",
    "3. Find the average of the squared differences"
   ]
  },
  {
   "cell_type": "code",
   "execution_count": null,
   "metadata": {
    "id": "naX_4m3GhTVG",
    "outputId": "f726c243-91d6-411f-fae8-9d9f209f45cc"
   },
   "outputs": [
    {
     "data": {
      "text/plain": [
       "(np.float64(4296133.472222221), np.float64(8.0))"
      ]
     },
     "execution_count": 79,
     "metadata": {},
     "output_type": "execute_result"
    }
   ],
   "source": [
    "# Demo of variance\n",
    "high_var_array = np.array([1, 100, 200, 300, 4000, 5000])\n",
    "low_var_array = np.array([2, 4, 6, 8, 10])\n",
    "\n",
    "np.var(high_var_array), np.var(low_var_array)"
   ]
  },
  {
   "cell_type": "code",
   "execution_count": null,
   "metadata": {
    "id": "u0IWYbQ-hTVG",
    "outputId": "61348784-898b-431a-8e63-704000cbf306"
   },
   "outputs": [
    {
     "data": {
      "text/plain": [
       "(np.float64(2072.711623024829), np.float64(2.8284271247461903))"
      ]
     },
     "execution_count": 80,
     "metadata": {},
     "output_type": "execute_result"
    }
   ],
   "source": [
    "np.std(high_var_array), np.std(low_var_array)"
   ]
  },
  {
   "cell_type": "code",
   "execution_count": null,
   "metadata": {
    "id": "H3TqE19khTVG",
    "outputId": "8a27d563-7a08-4ad2-db47-f59e8d6b9fa4"
   },
   "outputs": [
    {
     "data": {
      "text/plain": [
       "np.float64(2072.711623024829)"
      ]
     },
     "execution_count": 81,
     "metadata": {},
     "output_type": "execute_result"
    }
   ],
   "source": [
    "# The standard deviation is the square root of the variance\n",
    "np.sqrt(np.var(high_var_array))"
   ]
  },
  {
   "cell_type": "code",
   "execution_count": null,
   "metadata": {
    "id": "kOFyE79NhTVH",
    "outputId": "f602c94f-bad4-4fac-ae14-6fa745d0e9d1"
   },
   "outputs": [
    {
     "data": {
      "image/png": "[encoded data removed]",
      "text/plain": [
       "<Figure size 640x480 with 1 Axes>"
      ]
     },
     "metadata": {},
     "output_type": "display_data"
    }
   ],
   "source": [
    "%matplotlib inline\n",
    "import matplotlib.pyplot as plt\n",
    "plt.hist(high_var_array)\n",
    "plt.show()"
   ]
  },
  {
   "cell_type": "code",
   "execution_count": null,
   "metadata": {
    "id": "ll08j21ZhTVH",
    "outputId": "3f4d23bb-c5f8-4f58-8381-6e7dd68b8e92"
   },
   "outputs": [
    {
     "data": {
      "image/png": "[encoded data removed]",
      "text/plain": [
       "<Figure size 640x480 with 1 Axes>"
      ]
     },
     "metadata": {},
     "output_type": "display_data"
    }
   ],
   "source": [
    "plt.hist(low_var_array)\n",
    "plt.show()"
   ]
  },
  {
   "cell_type": "markdown",
   "metadata": {
    "id": "1DoUZo4ZhTVH"
   },
   "source": [
    "### Reshaping"
   ]
  },
  {
   "cell_type": "code",
   "execution_count": null,
   "metadata": {
    "id": "26DjQH4QhTVH",
    "outputId": "acf22233-a98e-48a6-9037-abc9fff37b84"
   },
   "outputs": [
    {
     "data": {
      "text/plain": [
       "array([[1. , 2. , 3.3],\n",
       "       [4. , 5. , 6.5]])"
      ]
     },
     "execution_count": 84,
     "metadata": {},
     "output_type": "execute_result"
    }
   ],
   "source": [
    "a2"
   ]
  },
  {
   "cell_type": "code",
   "execution_count": null,
   "metadata": {
    "id": "sdxOtvI4hTVI",
    "outputId": "eef012ad-c816-47c0-e06d-ff9fd5f168c1"
   },
   "outputs": [
    {
     "data": {
      "text/plain": [
       "(2, 3)"
      ]
     },
     "execution_count": 85,
     "metadata": {},
     "output_type": "execute_result"
    }
   ],
   "source": [
    "a2.shape"
   ]
  },
  {
   "cell_type": "code",
   "execution_count": null,
   "metadata": {
    "id": "ynxOQf8VhTVI",
    "outputId": "437c447c-b3dc-48f3-b618-05fa0a2f82ed"
   },
   "outputs": [
    {
     "ename": "ValueError",
     "evalue": "operands could not be broadcast together with shapes (2,3) (2,3,3) ",
     "output_type": "error",
     "traceback": [
      "\u001b[0;31m---------------------------------------------------------------------------\u001b[0m",
      "\u001b[0;31mValueError\u001b[0m                                Traceback (most recent call last)",
      "Cell \u001b[0;32mIn[86], line 1\u001b[0m\n\u001b[0;32m----> 1\u001b[0m \u001b[43ma2\u001b[49m\u001b[43m \u001b[49m\u001b[38;5;241;43m+\u001b[39;49m\u001b[43m \u001b[49m\u001b[43ma3\u001b[49m\n",
      "\u001b[0;31mValueError\u001b[0m: operands could not be broadcast together with shapes (2,3) (2,3,3) "
     ]
    }
   ],
   "source": [
    "a2 + a3"
   ]
  },
  {
   "cell_type": "code",
   "execution_count": null,
   "metadata": {
    "id": "GtCSTra7hTVI"
   },
   "outputs": [],
   "source": [
    "a2.reshape(2, 3, 1)"
   ]
  },
  {
   "cell_type": "code",
   "execution_count": null,
   "metadata": {
    "id": "uAVvzgJuhTVI",
    "outputId": "ca363007-d5a1-4ba8-b12e-f3439280ff85"
   },
   "outputs": [
    {
     "data": {
      "text/plain": [
       "array([[[ 2. ,  3. ,  4. ],\n",
       "        [ 6. ,  7. ,  8. ],\n",
       "        [10.3, 11.3, 12.3]],\n",
       "\n",
       "       [[14. , 15. , 16. ],\n",
       "        [18. , 19. , 20. ],\n",
       "        [22.5, 23.5, 24.5]]])"
      ]
     },
     "execution_count": 87,
     "metadata": {},
     "output_type": "execute_result"
    }
   ],
   "source": [
    "a2.reshape(2, 3, 1) + a3"
   ]
  },
  {
   "cell_type": "markdown",
   "metadata": {
    "id": "J8z45b2qhTVI"
   },
   "source": [
    "### Transpose\n",
    "\n",
    "A tranpose reverses the order of the axes.\n",
    "\n",
    "For example, an array with shape `(2, 3)` becomes `(3, 2)`."
   ]
  },
  {
   "cell_type": "code",
   "execution_count": null,
   "metadata": {
    "id": "O5WAlgY-hTVJ",
    "outputId": "c2888502-e502-473d-e633-2f46b719bad4"
   },
   "outputs": [
    {
     "data": {
      "text/plain": [
       "(2, 3)"
      ]
     },
     "execution_count": 88,
     "metadata": {},
     "output_type": "execute_result"
    }
   ],
   "source": [
    "a2.shape"
   ]
  },
  {
   "cell_type": "code",
   "execution_count": null,
   "metadata": {
    "id": "zG3hhHhYhTVJ",
    "outputId": "4d53f5fd-e761-47ea-88d3-ec6d203ddef2"
   },
   "outputs": [
    {
     "data": {
      "text/plain": [
       "array([[1. , 4. ],\n",
       "       [2. , 5. ],\n",
       "       [3.3, 6.5]])"
      ]
     },
     "execution_count": 89,
     "metadata": {},
     "output_type": "execute_result"
    }
   ],
   "source": [
    "a2.T"
   ]
  },
  {
   "cell_type": "code",
   "execution_count": null,
   "metadata": {
    "id": "6cdn1nXZhTVJ",
    "outputId": "c3eed2e5-c493-4120-fd98-994f643b3a6d"
   },
   "outputs": [
    {
     "data": {
      "text/plain": [
       "array([[1. , 4. ],\n",
       "       [2. , 5. ],\n",
       "       [3.3, 6.5]])"
      ]
     },
     "execution_count": 90,
     "metadata": {},
     "output_type": "execute_result"
    }
   ],
   "source": [
    "a2.transpose()"
   ]
  },
  {
   "cell_type": "code",
   "execution_count": null,
   "metadata": {
    "id": "9TLmYBRJhTVJ",
    "outputId": "bb54e246-814c-4e59-dac3-3ec0940b61ac"
   },
   "outputs": [
    {
     "data": {
      "text/plain": [
       "(3, 2)"
      ]
     },
     "execution_count": 91,
     "metadata": {},
     "output_type": "execute_result"
    }
   ],
   "source": [
    "a2.T.shape"
   ]
  },
  {
   "cell_type": "markdown",
   "metadata": {
    "id": "86PqJvTQhTVK"
   },
   "source": [
    "For larger arrays, the default value of a tranpose is to swap the first and last axes.\n",
    "\n",
    "For example, `(5, 3, 3)` -> `(3, 3, 5)`."
   ]
  },
  {
   "cell_type": "code",
   "execution_count": null,
   "metadata": {
    "id": "qP-p4h1IhTVK",
    "outputId": "ac545046-124c-40fe-94df-a8275acc79d7"
   },
   "outputs": [
    {
     "data": {
      "text/plain": [
       "array([[[0.59816399, 0.17370251, 0.49752936],\n",
       "        [0.51231935, 0.41529741, 0.44150892],\n",
       "        [0.96844105, 0.23242417, 0.90336451]],\n",
       "\n",
       "       [[0.35172075, 0.56481088, 0.57771134],\n",
       "        [0.73115238, 0.88762934, 0.37368847],\n",
       "        [0.35104994, 0.11873224, 0.72324236]],\n",
       "\n",
       "       [[0.93202688, 0.09600718, 0.4330638 ],\n",
       "        [0.71979707, 0.06689016, 0.20815443],\n",
       "        [0.55415679, 0.08416165, 0.88953996]],\n",
       "\n",
       "       [[0.00301345, 0.30163886, 0.12337636],\n",
       "        [0.13435611, 0.51987339, 0.05418991],\n",
       "        [0.11426417, 0.19005404, 0.61364183]],\n",
       "\n",
       "       [[0.23385887, 0.13555752, 0.32546415],\n",
       "        [0.81922614, 0.94551446, 0.12975713],\n",
       "        [0.35431267, 0.37758386, 0.07987885]]])"
      ]
     },
     "execution_count": 92,
     "metadata": {},
     "output_type": "execute_result"
    }
   ],
   "source": [
    "matrix = np.random.random(size=(5, 3, 3))\n",
    "matrix"
   ]
  },
  {
   "cell_type": "code",
   "execution_count": null,
   "metadata": {
    "id": "rRXJnHk0hTVK",
    "outputId": "021d67f8-d6d3-4707-cc68-afb72299bf16"
   },
   "outputs": [
    {
     "data": {
      "text/plain": [
       "(5, 3, 3)"
      ]
     },
     "execution_count": 93,
     "metadata": {},
     "output_type": "execute_result"
    }
   ],
   "source": [
    "matrix.shape"
   ]
  },
  {
   "cell_type": "code",
   "execution_count": null,
   "metadata": {
    "id": "G7F1mDUYhTVK",
    "outputId": "308e241a-8f5c-452b-80d7-6807ce8f843a"
   },
   "outputs": [
    {
     "data": {
      "text/plain": [
       "array([[[0.59816399, 0.35172075, 0.93202688, 0.00301345, 0.23385887],\n",
       "        [0.51231935, 0.73115238, 0.71979707, 0.13435611, 0.81922614],\n",
       "        [0.96844105, 0.35104994, 0.55415679, 0.11426417, 0.35431267]],\n",
       "\n",
       "       [[0.17370251, 0.56481088, 0.09600718, 0.30163886, 0.13555752],\n",
       "        [0.41529741, 0.88762934, 0.06689016, 0.51987339, 0.94551446],\n",
       "        [0.23242417, 0.11873224, 0.08416165, 0.19005404, 0.37758386]],\n",
       "\n",
       "       [[0.49752936, 0.57771134, 0.4330638 , 0.12337636, 0.32546415],\n",
       "        [0.44150892, 0.37368847, 0.20815443, 0.05418991, 0.12975713],\n",
       "        [0.90336451, 0.72324236, 0.88953996, 0.61364183, 0.07987885]]])"
      ]
     },
     "execution_count": 94,
     "metadata": {},
     "output_type": "execute_result"
    }
   ],
   "source": [
    "matrix.T"
   ]
  },
  {
   "cell_type": "code",
   "execution_count": null,
   "metadata": {
    "id": "VuaM1ikYhTVL",
    "outputId": "e59fe489-4334-41d6-e723-30cbc95700c1"
   },
   "outputs": [
    {
     "data": {
      "text/plain": [
       "(3, 3, 5)"
      ]
     },
     "execution_count": 95,
     "metadata": {},
     "output_type": "execute_result"
    }
   ],
   "source": [
    "matrix.T.shape"
   ]
  },
  {
   "cell_type": "code",
   "execution_count": null,
   "metadata": {
    "id": "mbiwgH94hTVL",
    "outputId": "e0188d0e-ea07-40b5-9785-e77d76e140cf"
   },
   "outputs": [
    {
     "data": {
      "text/plain": [
       "True"
      ]
     },
     "execution_count": 96,
     "metadata": {},
     "output_type": "execute_result"
    }
   ],
   "source": [
    "# Check to see if the reverse shape is same as tranpose shape\n",
    "matrix.T.shape == matrix.shape[::-1]"
   ]
  },
  {
   "cell_type": "code",
   "execution_count": null,
   "metadata": {
    "id": "yG89urTlhTVL",
    "outputId": "16833cb6-227f-4855-aa11-1325538f64e7"
   },
   "outputs": [
    {
     "data": {
      "text/plain": [
       "array([[[ True,  True,  True,  True,  True],\n",
       "        [ True,  True,  True,  True,  True],\n",
       "        [ True,  True,  True,  True,  True]],\n",
       "\n",
       "       [[ True,  True,  True,  True,  True],\n",
       "        [ True,  True,  True,  True,  True],\n",
       "        [ True,  True,  True,  True,  True]],\n",
       "\n",
       "       [[ True,  True,  True,  True,  True],\n",
       "        [ True,  True,  True,  True,  True],\n",
       "        [ True,  True,  True,  True,  True]]])"
      ]
     },
     "execution_count": 97,
     "metadata": {},
     "output_type": "execute_result"
    }
   ],
   "source": [
    "# Check to see if the first and last axes are swapped\n",
    "matrix.T == matrix.swapaxes(0, -1) # swap first (0) and last (-1) axes"
   ]
  },
  {
   "cell_type": "markdown",
   "metadata": {
    "id": "e0ud4Qy5hTVL"
   },
   "source": [
    "You can see more advanced forms of tranposing in the NumPy documentation under [`numpy.transpose`](https://numpy.org/doc/stable/reference/generated/numpy.transpose.html)."
   ]
  },
  {
   "cell_type": "markdown",
   "metadata": {
    "id": "M-UmrwW8hTVM"
   },
   "source": [
    "### Dot product\n",
    "\n",
    "The main two rules for dot product to remember are:\n",
    "\n",
    "1. The **inner dimensions** must match:\n",
    "  * `(3, 2) @ (3, 2)` won't work\n",
    "  * `(2, 3) @ (3, 2)` will work\n",
    "  * `(3, 2) @ (2, 3)` will work\n",
    "  \n",
    "2. The resulting matrix has the shape of the **outer dimensions**:\n",
    " * `(2, 3) @ (3, 2)` -> `(2, 2)`\n",
    " * `(3, 2) @ (2, 3)` -> `(3, 3)`\n",
    "\n",
    "**Note:** In NumPy, `np.dot()` and `@` can be used to acheive the same result for 1-2 dimension arrays. However, their behaviour begins to differ at arrays with 3+ dimensions."
   ]
  },
  {
   "cell_type": "code",
   "execution_count": null,
   "metadata": {
    "id": "giknqKwjhTVM",
    "outputId": "2252949e-bac1-460a-9e16-f34c771580e0"
   },
   "outputs": [
    {
     "data": {
      "text/plain": [
       "((3, 3), (3, 2))"
      ]
     },
     "execution_count": 98,
     "metadata": {},
     "output_type": "execute_result"
    }
   ],
   "source": [
    "np.random.seed(0)\n",
    "mat1 = np.random.randint(10, size=(3, 3))\n",
    "mat2 = np.random.randint(10, size=(3, 2))\n",
    "\n",
    "mat1.shape, mat2.shape"
   ]
  },
  {
   "cell_type": "code",
   "execution_count": null,
   "metadata": {
    "id": "JgLYX1WKhTVM",
    "outputId": "07410967-3bd1-4f84-fabd-3020fb550697"
   },
   "outputs": [
    {
     "data": {
      "text/plain": [
       "array([[5, 0, 3],\n",
       "       [3, 7, 9],\n",
       "       [3, 5, 2]])"
      ]
     },
     "execution_count": 99,
     "metadata": {},
     "output_type": "execute_result"
    }
   ],
   "source": [
    "mat1"
   ]
  },
  {
   "cell_type": "code",
   "execution_count": null,
   "metadata": {
    "id": "kUpNXUlEhTVM",
    "outputId": "cd426d21-590c-4ad6-ba3f-eaca9d9f5588"
   },
   "outputs": [
    {
     "data": {
      "text/plain": [
       "array([[4, 7],\n",
       "       [6, 8],\n",
       "       [8, 1]])"
      ]
     },
     "execution_count": 100,
     "metadata": {},
     "output_type": "execute_result"
    }
   ],
   "source": [
    "mat2"
   ]
  },
  {
   "cell_type": "code",
   "execution_count": null,
   "metadata": {
    "id": "3vvIUBa6hTVN",
    "outputId": "def94203-db31-46f5-eff3-906254ca1a64"
   },
   "outputs": [
    {
     "data": {
      "text/plain": [
       "array([[ 44,  38],\n",
       "       [126,  86],\n",
       "       [ 58,  63]])"
      ]
     },
     "execution_count": 101,
     "metadata": {},
     "output_type": "execute_result"
    }
   ],
   "source": [
    "np.dot(mat1, mat2)"
   ]
  },
  {
   "cell_type": "code",
   "execution_count": null,
   "metadata": {
    "id": "SG27cflPhTVN",
    "outputId": "62fdf2ef-1171-405f-96c1-0a0d2ab5d4cf"
   },
   "outputs": [
    {
     "data": {
      "text/plain": [
       "array([[ 44,  38],\n",
       "       [126,  86],\n",
       "       [ 58,  63]])"
      ]
     },
     "execution_count": 102,
     "metadata": {},
     "output_type": "execute_result"
    }
   ],
   "source": [
    "# Can also achieve np.dot() with \"@\"\n",
    "# (however, they may behave differently at 3D+ arrays)\n",
    "mat1 @ mat2"
   ]
  },
  {
   "cell_type": "code",
   "execution_count": null,
   "metadata": {
    "id": "t8pR4AoShTVN",
    "outputId": "fe9166a3-ab46-456a-8e5b-3fd03d272c4f"
   },
   "outputs": [
    {
     "data": {
      "text/plain": [
       "array([[5, 0, 3],\n",
       "       [3, 7, 9],\n",
       "       [3, 5, 2],\n",
       "       [4, 7, 6]])"
      ]
     },
     "execution_count": 103,
     "metadata": {},
     "output_type": "execute_result"
    }
   ],
   "source": [
    "np.random.seed(0)\n",
    "mat3 = np.random.randint(10, size=(4,3))\n",
    "mat4 = np.random.randint(10, size=(4,3))\n",
    "mat3"
   ]
  },
  {
   "cell_type": "code",
   "execution_count": null,
   "metadata": {
    "id": "ksWkkxMhhTVN",
    "outputId": "fdbbcf79-4792-4644-b48a-f69766fd484f"
   },
   "outputs": [
    {
     "data": {
      "text/plain": [
       "array([[8, 8, 1],\n",
       "       [6, 7, 7],\n",
       "       [8, 1, 5],\n",
       "       [9, 8, 9]])"
      ]
     },
     "execution_count": 104,
     "metadata": {},
     "output_type": "execute_result"
    }
   ],
   "source": [
    "mat4"
   ]
  },
  {
   "cell_type": "code",
   "execution_count": null,
   "metadata": {
    "id": "7UheJwpYhTVN",
    "outputId": "87ed3502-bd2a-45d1-d03b-bced2a15260f"
   },
   "outputs": [
    {
     "ename": "ValueError",
     "evalue": "shapes (4,3) and (4,3) not aligned: 3 (dim 1) != 4 (dim 0)",
     "output_type": "error",
     "traceback": [
      "\u001b[0;31m---------------------------------------------------------------------------\u001b[0m",
      "\u001b[0;31mValueError\u001b[0m                                Traceback (most recent call last)",
      "Cell \u001b[0;32mIn[105], line 2\u001b[0m\n\u001b[1;32m      1\u001b[0m \u001b[38;5;66;03m# This will fail as the inner dimensions of the matrices do not match\u001b[39;00m\n\u001b[0;32m----> 2\u001b[0m \u001b[43mnp\u001b[49m\u001b[38;5;241;43m.\u001b[39;49m\u001b[43mdot\u001b[49m\u001b[43m(\u001b[49m\u001b[43mmat3\u001b[49m\u001b[43m,\u001b[49m\u001b[43m \u001b[49m\u001b[43mmat4\u001b[49m\u001b[43m)\u001b[49m\n",
      "\u001b[0;31mValueError\u001b[0m: shapes (4,3) and (4,3) not aligned: 3 (dim 1) != 4 (dim 0)"
     ]
    }
   ],
   "source": [
    "# This will fail as the inner dimensions of the matrices do not match\n",
    "np.dot(mat3, mat4)"
   ]
  },
  {
   "cell_type": "code",
   "execution_count": null,
   "metadata": {
    "id": "6_mY0FoJhTVO",
    "outputId": "5350e12c-4a71-416d-9e4c-1033564acaf0"
   },
   "outputs": [
    {
     "data": {
      "text/plain": [
       "(3, 4)"
      ]
     },
     "execution_count": 106,
     "metadata": {},
     "output_type": "execute_result"
    }
   ],
   "source": [
    "mat3.T.shape"
   ]
  },
  {
   "cell_type": "code",
   "execution_count": null,
   "metadata": {
    "id": "AV0sGA3_hTVO",
    "outputId": "f2ff25dc-7d85-4ce5-c1ed-f0bb1dea3577"
   },
   "outputs": [
    {
     "data": {
      "text/plain": [
       "array([[118,  96,  77],\n",
       "       [145, 110, 137],\n",
       "       [148, 137, 130]])"
      ]
     },
     "execution_count": 107,
     "metadata": {},
     "output_type": "execute_result"
    }
   ],
   "source": [
    "# Dot product\n",
    "np.dot(mat3.T, mat4)"
   ]
  },
  {
   "cell_type": "code",
   "execution_count": null,
   "metadata": {
    "id": "lQaLgNGthTVO",
    "outputId": "6dbb6e95-af31-477e-d797-730d83014767"
   },
   "outputs": [
    {
     "data": {
      "text/plain": [
       "array([[40,  0,  3],\n",
       "       [18, 49, 63],\n",
       "       [24,  5, 10],\n",
       "       [36, 56, 54]])"
      ]
     },
     "execution_count": 108,
     "metadata": {},
     "output_type": "execute_result"
    }
   ],
   "source": [
    "# Element-wise multiplication, also known as Hadamard product\n",
    "mat3 * mat4"
   ]
  },
  {
   "cell_type": "markdown",
   "metadata": {
    "id": "xVDUJNduhTVO"
   },
   "source": [
    "### Dot product practical example, nut butter sales"
   ]
  },
  {
   "cell_type": "code",
   "execution_count": null,
   "metadata": {
    "id": "EHh6xoY8hTVP",
    "outputId": "d02c39d7-d76e-42b6-ab57-12ddbcb3cf1c"
   },
   "outputs": [
    {
     "data": {
      "text/plain": [
       "array([[12, 15,  0],\n",
       "       [ 3,  3,  7],\n",
       "       [ 9, 19, 18],\n",
       "       [ 4,  6, 12],\n",
       "       [ 1,  6,  7]])"
      ]
     },
     "execution_count": 109,
     "metadata": {},
     "output_type": "execute_result"
    }
   ],
   "source": [
    "np.random.seed(0)\n",
    "sales_amounts = np.random.randint(20, size=(5, 3))\n",
    "sales_amounts"
   ]
  },
  {
   "cell_type": "code",
   "execution_count": null,
   "metadata": {
    "id": "Uf9BfnwJhTVP",
    "outputId": "4e9dd5be-d2b4-4864-9682-7bbc8bb0af2e"
   },
   "outputs": [
    {
     "data": {
      "text/html": [
       "<div>\n",
       "<style scoped>\n",
       "    .dataframe tbody tr th:only-of-type {\n",
       "        vertical-align: middle;\n",
       "    }\n",
       "\n",
       "    .dataframe tbody tr th {\n",
       "        vertical-align: top;\n",
       "    }\n",
       "\n",
       "    .dataframe thead th {\n",
       "        text-align: right;\n",
       "    }\n",
       "</style>\n",
       "<table border=\"1\" class=\"dataframe\">\n",
       "  <thead>\n",
       "    <tr style=\"text-align: right;\">\n",
       "      <th></th>\n",
       "      <th>Almond butter</th>\n",
       "      <th>Peanut butter</th>\n",
       "      <th>Cashew butter</th>\n",
       "    </tr>\n",
       "  </thead>\n",
       "  <tbody>\n",
       "    <tr>\n",
       "      <th>Mon</th>\n",
       "      <td>12</td>\n",
       "      <td>15</td>\n",
       "      <td>0</td>\n",
       "    </tr>\n",
       "    <tr>\n",
       "      <th>Tues</th>\n",
       "      <td>3</td>\n",
       "      <td>3</td>\n",
       "      <td>7</td>\n",
       "    </tr>\n",
       "    <tr>\n",
       "      <th>Wed</th>\n",
       "      <td>9</td>\n",
       "      <td>19</td>\n",
       "      <td>18</td>\n",
       "    </tr>\n",
       "    <tr>\n",
       "      <th>Thurs</th>\n",
       "      <td>4</td>\n",
       "      <td>6</td>\n",
       "      <td>12</td>\n",
       "    </tr>\n",
       "    <tr>\n",
       "      <th>Fri</th>\n",
       "      <td>1</td>\n",
       "      <td>6</td>\n",
       "      <td>7</td>\n",
       "    </tr>\n",
       "  </tbody>\n",
       "</table>\n",
       "</div>"
      ],
      "text/plain": [
       "       Almond butter  Peanut butter  Cashew butter\n",
       "Mon               12             15              0\n",
       "Tues               3              3              7\n",
       "Wed                9             19             18\n",
       "Thurs              4              6             12\n",
       "Fri                1              6              7"
      ]
     },
     "execution_count": 110,
     "metadata": {},
     "output_type": "execute_result"
    }
   ],
   "source": [
    "weekly_sales = pd.DataFrame(sales_amounts,\n",
    "                            index=[\"Mon\", \"Tues\", \"Wed\", \"Thurs\", \"Fri\"],\n",
    "                            columns=[\"Almond butter\", \"Peanut butter\", \"Cashew butter\"])\n",
    "weekly_sales"
   ]
  },
  {
   "cell_type": "code",
   "execution_count": null,
   "metadata": {
    "id": "-cehiWrUhTVP",
    "outputId": "3faa44bc-c112-4d58-da14-bfed1fe3bb5b"
   },
   "outputs": [
    {
     "data": {
      "text/plain": [
       "array([10,  8, 12])"
      ]
     },
     "execution_count": 111,
     "metadata": {},
     "output_type": "execute_result"
    }
   ],
   "source": [
    "prices = np.array([10, 8, 12])\n",
    "prices"
   ]
  },
  {
   "cell_type": "code",
   "execution_count": null,
   "metadata": {
    "id": "GoBSNRPdhTVP",
    "outputId": "9ec7619d-4dce-41f6-882e-658681f01dcc"
   },
   "outputs": [
    {
     "data": {
      "text/plain": [
       "(1, 3)"
      ]
     },
     "execution_count": 112,
     "metadata": {},
     "output_type": "execute_result"
    }
   ],
   "source": [
    "butter_prices = pd.DataFrame(prices.reshape(1, 3),\n",
    "                             index=[\"Price\"],\n",
    "                             columns=[\"Almond butter\", \"Peanut butter\", \"Cashew butter\"])\n",
    "butter_prices.shape"
   ]
  },
  {
   "cell_type": "code",
   "execution_count": null,
   "metadata": {
    "id": "8W4xeimNhTVQ",
    "outputId": "d4fbd0dc-5b4e-416a-fd76-33be743d96b7"
   },
   "outputs": [
    {
     "data": {
      "text/plain": [
       "(5, 3)"
      ]
     },
     "execution_count": 113,
     "metadata": {},
     "output_type": "execute_result"
    }
   ],
   "source": [
    "weekly_sales.shape"
   ]
  },
  {
   "cell_type": "code",
   "execution_count": null,
   "metadata": {
    "id": "DOkh26k6hTVQ",
    "outputId": "066c35a5-8cc6-4485-9641-c3d37e62bd15"
   },
   "outputs": [
    {
     "ename": "ValueError",
     "evalue": "shapes (3,) and (5,3) not aligned: 3 (dim 0) != 5 (dim 0)",
     "output_type": "error",
     "traceback": [
      "\u001b[0;31m---------------------------------------------------------------------------\u001b[0m",
      "\u001b[0;31mValueError\u001b[0m                                Traceback (most recent call last)",
      "Cell \u001b[0;32mIn[114], line 2\u001b[0m\n\u001b[1;32m      1\u001b[0m \u001b[38;5;66;03m# Find the total amount of sales for a whole day\u001b[39;00m\n\u001b[0;32m----> 2\u001b[0m total_sales \u001b[38;5;241m=\u001b[39m \u001b[43mprices\u001b[49m\u001b[38;5;241;43m.\u001b[39;49m\u001b[43mdot\u001b[49m\u001b[43m(\u001b[49m\u001b[43msales_amounts\u001b[49m\u001b[43m)\u001b[49m\n\u001b[1;32m      3\u001b[0m total_sales\n",
      "\u001b[0;31mValueError\u001b[0m: shapes (3,) and (5,3) not aligned: 3 (dim 0) != 5 (dim 0)"
     ]
    }
   ],
   "source": [
    "# Find the total amount of sales for a whole day\n",
    "total_sales = prices.dot(sales_amounts)\n",
    "total_sales"
   ]
  },
  {
   "cell_type": "markdown",
   "metadata": {
    "id": "szBkqIVuhTVQ"
   },
   "source": [
    "The shapes aren't aligned, we need the middle two numbers to be the same."
   ]
  },
  {
   "cell_type": "code",
   "execution_count": null,
   "metadata": {
    "id": "lvEDbT_0hTVQ",
    "outputId": "a94c4cd6-5fcb-4a94-d3fd-e61bd9c65cd0"
   },
   "outputs": [
    {
     "data": {
      "text/plain": [
       "array([10,  8, 12])"
      ]
     },
     "execution_count": 115,
     "metadata": {},
     "output_type": "execute_result"
    }
   ],
   "source": [
    "prices"
   ]
  },
  {
   "cell_type": "code",
   "execution_count": null,
   "metadata": {
    "id": "y9ytAS8phTVQ",
    "outputId": "2c6a5dd2-28ef-47e1-8303-d2b56b9fb277"
   },
   "outputs": [
    {
     "data": {
      "text/plain": [
       "(3, 5)"
      ]
     },
     "execution_count": 116,
     "metadata": {},
     "output_type": "execute_result"
    }
   ],
   "source": [
    "sales_amounts.T.shape"
   ]
  },
  {
   "cell_type": "code",
   "execution_count": null,
   "metadata": {
    "id": "N6jsWgiQhTVR",
    "outputId": "270a7831-6d0c-4401-84dc-9dd7a7d989be"
   },
   "outputs": [
    {
     "data": {
      "text/plain": [
       "array([240, 138, 458, 232, 142])"
      ]
     },
     "execution_count": 117,
     "metadata": {},
     "output_type": "execute_result"
    }
   ],
   "source": [
    "# To make the middle numbers the same, we can transpose\n",
    "total_sales = prices.dot(sales_amounts.T)\n",
    "total_sales"
   ]
  },
  {
   "cell_type": "code",
   "execution_count": null,
   "metadata": {
    "id": "kgrHRpyThTVR",
    "outputId": "1b4efa36-905a-4dad-87db-3ee712334a4e"
   },
   "outputs": [
    {
     "data": {
      "text/plain": [
       "((1, 3), (5, 3))"
      ]
     },
     "execution_count": 118,
     "metadata": {},
     "output_type": "execute_result"
    }
   ],
   "source": [
    "butter_prices.shape, weekly_sales.shape"
   ]
  },
  {
   "cell_type": "code",
   "execution_count": null,
   "metadata": {
    "id": "tZi7HZSFhTVR",
    "outputId": "b94810ff-bf54-49fe-9a13-e2a51eb4509b"
   },
   "outputs": [
    {
     "data": {
      "text/html": [
       "<div>\n",
       "<style scoped>\n",
       "    .dataframe tbody tr th:only-of-type {\n",
       "        vertical-align: middle;\n",
       "    }\n",
       "\n",
       "    .dataframe tbody tr th {\n",
       "        vertical-align: top;\n",
       "    }\n",
       "\n",
       "    .dataframe thead th {\n",
       "        text-align: right;\n",
       "    }\n",
       "</style>\n",
       "<table border=\"1\" class=\"dataframe\">\n",
       "  <thead>\n",
       "    <tr style=\"text-align: right;\">\n",
       "      <th></th>\n",
       "      <th>Mon</th>\n",
       "      <th>Tues</th>\n",
       "      <th>Wed</th>\n",
       "      <th>Thurs</th>\n",
       "      <th>Fri</th>\n",
       "    </tr>\n",
       "  </thead>\n",
       "  <tbody>\n",
       "    <tr>\n",
       "      <th>Price</th>\n",
       "      <td>240</td>\n",
       "      <td>138</td>\n",
       "      <td>458</td>\n",
       "      <td>232</td>\n",
       "      <td>142</td>\n",
       "    </tr>\n",
       "  </tbody>\n",
       "</table>\n",
       "</div>"
      ],
      "text/plain": [
       "       Mon  Tues  Wed  Thurs  Fri\n",
       "Price  240   138  458    232  142"
      ]
     },
     "execution_count": 119,
     "metadata": {},
     "output_type": "execute_result"
    }
   ],
   "source": [
    "daily_sales = butter_prices.dot(weekly_sales.T)\n",
    "daily_sales"
   ]
  },
  {
   "cell_type": "code",
   "execution_count": null,
   "metadata": {
    "id": "K26TcXIwhTVR",
    "outputId": "e3886ccc-4193-4b2f-ddf2-340b49e19ed7"
   },
   "outputs": [
    {
     "data": {
      "text/html": [
       "<div>\n",
       "<style scoped>\n",
       "    .dataframe tbody tr th:only-of-type {\n",
       "        vertical-align: middle;\n",
       "    }\n",
       "\n",
       "    .dataframe tbody tr th {\n",
       "        vertical-align: top;\n",
       "    }\n",
       "\n",
       "    .dataframe thead th {\n",
       "        text-align: right;\n",
       "    }\n",
       "</style>\n",
       "<table border=\"1\" class=\"dataframe\">\n",
       "  <thead>\n",
       "    <tr style=\"text-align: right;\">\n",
       "      <th></th>\n",
       "      <th>Almond butter</th>\n",
       "      <th>Peanut butter</th>\n",
       "      <th>Cashew butter</th>\n",
       "      <th>Total</th>\n",
       "    </tr>\n",
       "  </thead>\n",
       "  <tbody>\n",
       "    <tr>\n",
       "      <th>Mon</th>\n",
       "      <td>12</td>\n",
       "      <td>15</td>\n",
       "      <td>0</td>\n",
       "      <td>240</td>\n",
       "    </tr>\n",
       "    <tr>\n",
       "      <th>Tues</th>\n",
       "      <td>3</td>\n",
       "      <td>3</td>\n",
       "      <td>7</td>\n",
       "      <td>138</td>\n",
       "    </tr>\n",
       "    <tr>\n",
       "      <th>Wed</th>\n",
       "      <td>9</td>\n",
       "      <td>19</td>\n",
       "      <td>18</td>\n",
       "      <td>458</td>\n",
       "    </tr>\n",
       "    <tr>\n",
       "      <th>Thurs</th>\n",
       "      <td>4</td>\n",
       "      <td>6</td>\n",
       "      <td>12</td>\n",
       "      <td>232</td>\n",
       "    </tr>\n",
       "    <tr>\n",
       "      <th>Fri</th>\n",
       "      <td>1</td>\n",
       "      <td>6</td>\n",
       "      <td>7</td>\n",
       "      <td>142</td>\n",
       "    </tr>\n",
       "  </tbody>\n",
       "</table>\n",
       "</div>"
      ],
      "text/plain": [
       "       Almond butter  Peanut butter  Cashew butter  Total\n",
       "Mon               12             15              0    240\n",
       "Tues               3              3              7    138\n",
       "Wed                9             19             18    458\n",
       "Thurs              4              6             12    232\n",
       "Fri                1              6              7    142"
      ]
     },
     "execution_count": 120,
     "metadata": {},
     "output_type": "execute_result"
    }
   ],
   "source": [
    "# Need to transpose again\n",
    "weekly_sales[\"Total\"] = daily_sales.T\n",
    "weekly_sales"
   ]
  },
  {
   "cell_type": "markdown",
   "metadata": {
    "id": "KX94lN7RhTVS"
   },
   "source": [
    "### Comparison operators\n",
    "\n",
    "Finding out if one array is larger, smaller or equal to another."
   ]
  },
  {
   "cell_type": "code",
   "execution_count": null,
   "metadata": {
    "id": "sbpFfXfPhTVS",
    "outputId": "f22d01f7-9925-4461-adf4-ff343a21391c"
   },
   "outputs": [
    {
     "data": {
      "text/plain": [
       "array([1, 2, 3])"
      ]
     },
     "execution_count": 121,
     "metadata": {},
     "output_type": "execute_result"
    }
   ],
   "source": [
    "a1"
   ]
  },
  {
   "cell_type": "code",
   "execution_count": null,
   "metadata": {
    "id": "gJ2p3nX6hTVS",
    "outputId": "46d9117d-5cdc-48ab-fe31-22590390c1a2"
   },
   "outputs": [
    {
     "data": {
      "text/plain": [
       "array([[1. , 2. , 3.3],\n",
       "       [4. , 5. , 6.5]])"
      ]
     },
     "execution_count": 122,
     "metadata": {},
     "output_type": "execute_result"
    }
   ],
   "source": [
    "a2"
   ]
  },
  {
   "cell_type": "code",
   "execution_count": null,
   "metadata": {
    "id": "EmUZ9JDxhTVS",
    "outputId": "df7512a3-bca9-4087-bae7-d362cd2fdad0"
   },
   "outputs": [
    {
     "data": {
      "text/plain": [
       "array([[False, False, False],\n",
       "       [False, False, False]])"
      ]
     },
     "execution_count": 123,
     "metadata": {},
     "output_type": "execute_result"
    }
   ],
   "source": [
    "a1 > a2"
   ]
  },
  {
   "cell_type": "code",
   "execution_count": null,
   "metadata": {
    "id": "IyedUj6fhTVT",
    "outputId": "c03c092e-3e2d-442d-a65b-427caf634f7a"
   },
   "outputs": [
    {
     "data": {
      "text/plain": [
       "array([[ True,  True, False],\n",
       "       [False, False, False]])"
      ]
     },
     "execution_count": 124,
     "metadata": {},
     "output_type": "execute_result"
    }
   ],
   "source": [
    "a1 >= a2"
   ]
  },
  {
   "cell_type": "code",
   "execution_count": null,
   "metadata": {
    "id": "j8GWgmWahTVT",
    "outputId": "bd14185f-6754-4df7-a59a-1e55a8578f74"
   },
   "outputs": [
    {
     "data": {
      "text/plain": [
       "array([False, False, False])"
      ]
     },
     "execution_count": 125,
     "metadata": {},
     "output_type": "execute_result"
    }
   ],
   "source": [
    "a1 > 5"
   ]
  },
  {
   "cell_type": "code",
   "execution_count": null,
   "metadata": {
    "id": "JjevTjrChTVT",
    "outputId": "fad70e8a-ddee-4fe0-b142-4b9a15ac2f11"
   },
   "outputs": [
    {
     "data": {
      "text/plain": [
       "array([ True,  True,  True])"
      ]
     },
     "execution_count": 126,
     "metadata": {},
     "output_type": "execute_result"
    }
   ],
   "source": [
    "a1 == a1"
   ]
  },
  {
   "cell_type": "code",
   "execution_count": null,
   "metadata": {
    "id": "kpts-8BohTVT",
    "outputId": "d237332e-da6c-4130-a7f6-bec93bef0b86"
   },
   "outputs": [
    {
     "data": {
      "text/plain": [
       "array([[ True,  True, False],\n",
       "       [False, False, False]])"
      ]
     },
     "execution_count": 127,
     "metadata": {},
     "output_type": "execute_result"
    }
   ],
   "source": [
    "a1 == a2"
   ]
  },
  {
   "cell_type": "markdown",
   "metadata": {
    "id": "75l-PGjfhTVU"
   },
   "source": [
    "## 5. Sorting arrays\n",
    "\n",
    "* [`np.sort()`](https://numpy.org/doc/stable/reference/generated/numpy.sort.html) - sort values in a specified dimension of an array.\n",
    "* [`np.argsort()`](https://numpy.org/doc/stable/reference/generated/numpy.argsort.html) - return the indices to sort the array on a given axis.\n",
    "* [`np.argmax()`](https://numpy.org/doc/stable/reference/generated/numpy.argmax.html) - return the index/indicies which gives the highest value(s) along an axis.\n",
    "* [`np.argmin()`](https://numpy.org/doc/stable/reference/generated/numpy.argmin.html) - return the index/indices which gives the lowest value(s) along an axis."
   ]
  },
  {
   "cell_type": "code",
   "execution_count": null,
   "metadata": {
    "id": "2E-tA0h4hTVU",
    "outputId": "ed21ee9f-b06e-45c1-b376-91581217ab71"
   },
   "outputs": [
    {
     "data": {
      "text/plain": [
       "array([[8, 7, 6],\n",
       "       [4, 2, 7],\n",
       "       [6, 0, 6],\n",
       "       [0, 8, 5],\n",
       "       [6, 2, 9]])"
      ]
     },
     "execution_count": 128,
     "metadata": {},
     "output_type": "execute_result"
    }
   ],
   "source": [
    "random_array"
   ]
  },
  {
   "cell_type": "code",
   "execution_count": null,
   "metadata": {
    "id": "0k86FYJZhTVU",
    "outputId": "c2c9bac2-ccb7-4cbf-baa8-3b2bdba0a4db"
   },
   "outputs": [
    {
     "data": {
      "text/plain": [
       "array([[6, 7, 8],\n",
       "       [2, 4, 7],\n",
       "       [0, 6, 6],\n",
       "       [0, 5, 8],\n",
       "       [2, 6, 9]])"
      ]
     },
     "execution_count": 129,
     "metadata": {},
     "output_type": "execute_result"
    }
   ],
   "source": [
    "np.sort(random_array)"
   ]
  },
  {
   "cell_type": "code",
   "execution_count": null,
   "metadata": {
    "id": "SqT1baKphTVU",
    "outputId": "5c06c5fe-f5be-45e3-d6e6-d982e892327b"
   },
   "outputs": [
    {
     "data": {
      "text/plain": [
       "array([[2, 1, 0],\n",
       "       [1, 0, 2],\n",
       "       [1, 0, 2],\n",
       "       [0, 2, 1],\n",
       "       [1, 0, 2]])"
      ]
     },
     "execution_count": 130,
     "metadata": {},
     "output_type": "execute_result"
    }
   ],
   "source": [
    "np.argsort(random_array)"
   ]
  },
  {
   "cell_type": "code",
   "execution_count": null,
   "metadata": {
    "id": "1oXe_BTphTVU",
    "outputId": "5f70c993-a428-410a-d8e2-d04f26301f40"
   },
   "outputs": [
    {
     "data": {
      "text/plain": [
       "array([1, 2, 3])"
      ]
     },
     "execution_count": 131,
     "metadata": {},
     "output_type": "execute_result"
    }
   ],
   "source": [
    "a1"
   ]
  },
  {
   "cell_type": "code",
   "execution_count": null,
   "metadata": {
    "id": "d4IZE13dhTVV",
    "outputId": "8d46b1de-55c6-4f07-ab3e-429682a1dacc"
   },
   "outputs": [
    {
     "data": {
      "text/plain": [
       "array([0, 1, 2])"
      ]
     },
     "execution_count": 132,
     "metadata": {},
     "output_type": "execute_result"
    }
   ],
   "source": [
    "# Return the indices that would sort an array\n",
    "np.argsort(a1)"
   ]
  },
  {
   "cell_type": "code",
   "execution_count": null,
   "metadata": {
    "id": "fWxZQmtehTVV",
    "outputId": "29d4fd42-7c9c-42c2-f4d1-2053c1189140"
   },
   "outputs": [
    {
     "data": {
      "text/plain": [
       "np.int64(0)"
      ]
     },
     "execution_count": 133,
     "metadata": {},
     "output_type": "execute_result"
    }
   ],
   "source": [
    "# No axis\n",
    "np.argmin(a1)"
   ]
  },
  {
   "cell_type": "code",
   "execution_count": null,
   "metadata": {
    "id": "BED9Gz5zhTVV",
    "outputId": "46bbacf3-4f61-4831-bc49-c8ff73b3e68f"
   },
   "outputs": [
    {
     "data": {
      "text/plain": [
       "array([[8, 7, 6],\n",
       "       [4, 2, 7],\n",
       "       [6, 0, 6],\n",
       "       [0, 8, 5],\n",
       "       [6, 2, 9]])"
      ]
     },
     "execution_count": 134,
     "metadata": {},
     "output_type": "execute_result"
    }
   ],
   "source": [
    "random_array"
   ]
  },
  {
   "cell_type": "code",
   "execution_count": null,
   "metadata": {
    "id": "73eVfMrvhTVW",
    "outputId": "d16bd22c-ceb8-49f4-a085-be754d93f5bb"
   },
   "outputs": [
    {
     "data": {
      "text/plain": [
       "array([0, 2, 0, 1, 2])"
      ]
     },
     "execution_count": 135,
     "metadata": {},
     "output_type": "execute_result"
    }
   ],
   "source": [
    "# Down the vertical\n",
    "np.argmax(random_array, axis=1)"
   ]
  },
  {
   "cell_type": "code",
   "execution_count": null,
   "metadata": {
    "id": "qWU9LPiWhTVW",
    "outputId": "a640f4d8-247f-45c1-c663-efb509cdb58b"
   },
   "outputs": [
    {
     "data": {
      "text/plain": [
       "array([3, 2, 3])"
      ]
     },
     "execution_count": 136,
     "metadata": {},
     "output_type": "execute_result"
    }
   ],
   "source": [
    "# Across the horizontal\n",
    "np.argmin(random_array, axis=0)"
   ]
  },
  {
   "cell_type": "markdown",
   "metadata": {
    "id": "F2mGAEFwhTVW"
   },
   "source": [
    "## 6. Use case\n",
    "\n",
    "Turning an image into a NumPy array.\n",
    "\n",
    "Why?\n",
    "\n",
    "Because computers can use the numbers in the NumPy array to find patterns in the image and in turn use those patterns to figure out what's in the image.\n",
    "\n",
    "This is what happens in modern computer vision algorithms.\n",
    "\n",
    "Let's start with this beautiful image of a panda:\n",
    "\n",
    "<img src=\"https://github.com/mrdbourke/zero-to-mastery-ml/blob/master/images/numpy-panda.jpeg?raw=1\" alt=\"photo of a panda waving\" width=450/>"
   ]
  },
  {
   "cell_type": "code",
   "execution_count": null,
   "metadata": {
    "id": "VZJCnt3DhTVX",
    "outputId": "c750093d-253c-4342-a8ae-967fc639afa4"
   },
   "outputs": [
    {
     "name": "stdout",
     "output_type": "stream",
     "text": [
      "<class 'numpy.ndarray'>\n"
     ]
    }
   ],
   "source": [
    "from matplotlib.image import imread\n",
    "\n",
    "panda = imread('../images/numpy-panda.jpeg')\n",
    "print(type(panda))"
   ]
  },
  {
   "cell_type": "code",
   "execution_count": null,
   "metadata": {
    "id": "5qoJIrNHhTVX",
    "outputId": "f94fd6a3-dc8d-4b71-8536-4a5ab8700b57"
   },
   "outputs": [
    {
     "data": {
      "text/plain": [
       "(852, 1280, 3)"
      ]
     },
     "execution_count": 138,
     "metadata": {},
     "output_type": "execute_result"
    }
   ],
   "source": [
    "panda.shape"
   ]
  },
  {
   "cell_type": "code",
   "execution_count": null,
   "metadata": {
    "id": "bj4MqTWBhTVX",
    "outputId": "f0c16c7f-d9bb-4a2c-93a3-6aa9e76e7748"
   },
   "outputs": [
    {
     "data": {
      "text/plain": [
       "array([[[14, 27, 17],\n",
       "        [14, 27, 17],\n",
       "        [12, 28, 17],\n",
       "        ...,\n",
       "        [42, 36, 24],\n",
       "        [42, 35, 25],\n",
       "        [41, 34, 24]],\n",
       "\n",
       "       [[14, 27, 17],\n",
       "        [14, 27, 17],\n",
       "        [12, 28, 17],\n",
       "        ...,\n",
       "        [42, 36, 24],\n",
       "        [42, 35, 25],\n",
       "        [42, 35, 25]],\n",
       "\n",
       "       [[13, 26, 16],\n",
       "        [14, 27, 17],\n",
       "        [12, 28, 17],\n",
       "        ...,\n",
       "        [42, 36, 24],\n",
       "        [42, 35, 25],\n",
       "        [42, 35, 25]],\n",
       "\n",
       "       ...,\n",
       "\n",
       "       [[47, 32, 27],\n",
       "        [48, 33, 28],\n",
       "        [48, 33, 26],\n",
       "        ...,\n",
       "        [ 6,  6,  8],\n",
       "        [ 6,  6,  8],\n",
       "        [ 6,  6,  8]],\n",
       "\n",
       "       [[39, 24, 17],\n",
       "        [40, 25, 18],\n",
       "        [42, 27, 20],\n",
       "        ...,\n",
       "        [ 6,  6,  8],\n",
       "        [ 6,  6,  8],\n",
       "        [ 6,  6,  8]],\n",
       "\n",
       "       [[32, 17, 10],\n",
       "        [33, 18, 11],\n",
       "        [36, 21, 14],\n",
       "        ...,\n",
       "        [ 6,  6,  8],\n",
       "        [ 6,  6,  8],\n",
       "        [ 6,  6,  8]]], dtype=uint8)"
      ]
     },
     "execution_count": 139,
     "metadata": {},
     "output_type": "execute_result"
    }
   ],
   "source": [
    "panda"
   ]
  },
  {
   "cell_type": "markdown",
   "metadata": {
    "id": "V7MGNQ4ahTVX"
   },
   "source": [
    "<img src=\"https://github.com/mrdbourke/zero-to-mastery-ml/blob/master/images/numpy-car-photo.png?raw=1\" alt=\"photo of a car\"/>"
   ]
  },
  {
   "cell_type": "code",
   "execution_count": null,
   "metadata": {
    "id": "iYucgpIdhTVY",
    "outputId": "eac03202-44c6-4d39-d60e-0b336da70a61"
   },
   "outputs": [
    {
     "data": {
      "text/plain": [
       "(431, 575, 4)"
      ]
     },
     "execution_count": 140,
     "metadata": {},
     "output_type": "execute_result"
    }
   ],
   "source": [
    "car = imread(\"../images/numpy-car-photo.png\")\n",
    "car.shape"
   ]
  },
  {
   "cell_type": "code",
   "execution_count": null,
   "metadata": {
    "id": "7LcVElUxhTVY",
    "outputId": "027ab16e-1074-4f03-b727-8c31faf54651"
   },
   "outputs": [
    {
     "data": {
      "text/plain": [
       "(431, 575, 3)"
      ]
     },
     "execution_count": 141,
     "metadata": {},
     "output_type": "execute_result"
    }
   ],
   "source": [
    "car[:,:,:3].shape"
   ]
  },
  {
   "cell_type": "markdown",
   "metadata": {
    "id": "f33MylHrhTVY"
   },
   "source": [
    "<img src=\"https://github.com/mrdbourke/zero-to-mastery-ml/blob/master/images/numpy-dog-photo.png?raw=1\" alt=\"photo a dog\"/>"
   ]
  },
  {
   "cell_type": "code",
   "execution_count": null,
   "metadata": {
    "id": "OF25Ns-uhTVZ",
    "outputId": "f7db4296-f3db-4c51-96df-c413bab796cd"
   },
   "outputs": [
    {
     "data": {
      "text/plain": [
       "(432, 575, 4)"
      ]
     },
     "execution_count": 142,
     "metadata": {},
     "output_type": "execute_result"
    }
   ],
   "source": [
    "dog = imread(\"../images/numpy-dog-photo.png\")\n",
    "dog.shape"
   ]
  },
  {
   "cell_type": "code",
   "execution_count": null,
   "metadata": {
    "id": "fLlCFJOOhTVZ",
    "outputId": "7ec9ec05-83d8-4ef0-9689-adc49da321af"
   },
   "outputs": [
    {
     "data": {
      "text/plain": [
       "array([[[0.70980394, 0.80784315, 0.88235295, 1.        ],\n",
       "        [0.72156864, 0.8117647 , 0.8862745 , 1.        ],\n",
       "        [0.7411765 , 0.8156863 , 0.8862745 , 1.        ],\n",
       "        ...,\n",
       "        [0.49803922, 0.6862745 , 0.8392157 , 1.        ],\n",
       "        [0.49411765, 0.68235296, 0.8392157 , 1.        ],\n",
       "        [0.49411765, 0.68235296, 0.8352941 , 1.        ]],\n",
       "\n",
       "       [[0.69411767, 0.8039216 , 0.8862745 , 1.        ],\n",
       "        [0.7019608 , 0.8039216 , 0.88235295, 1.        ],\n",
       "        [0.7058824 , 0.80784315, 0.88235295, 1.        ],\n",
       "        ...,\n",
       "        [0.5019608 , 0.6862745 , 0.84705883, 1.        ],\n",
       "        [0.49411765, 0.68235296, 0.84313726, 1.        ],\n",
       "        [0.49411765, 0.68235296, 0.8392157 , 1.        ]],\n",
       "\n",
       "       [[0.6901961 , 0.8       , 0.88235295, 1.        ],\n",
       "        [0.69803923, 0.8039216 , 0.88235295, 1.        ],\n",
       "        [0.7058824 , 0.80784315, 0.88235295, 1.        ],\n",
       "        ...,\n",
       "        [0.5019608 , 0.6862745 , 0.84705883, 1.        ],\n",
       "        [0.49803922, 0.6862745 , 0.84313726, 1.        ],\n",
       "        [0.49803922, 0.6862745 , 0.84313726, 1.        ]],\n",
       "\n",
       "       ...,\n",
       "\n",
       "       [[0.9098039 , 0.81960785, 0.654902  , 1.        ],\n",
       "        [0.8352941 , 0.7490196 , 0.6509804 , 1.        ],\n",
       "        [0.72156864, 0.6313726 , 0.5372549 , 1.        ],\n",
       "        ...,\n",
       "        [0.01568628, 0.07058824, 0.02352941, 1.        ],\n",
       "        [0.03921569, 0.09411765, 0.03529412, 1.        ],\n",
       "        [0.03921569, 0.09019608, 0.05490196, 1.        ]],\n",
       "\n",
       "       [[0.9137255 , 0.83137256, 0.6784314 , 1.        ],\n",
       "        [0.8117647 , 0.7294118 , 0.627451  , 1.        ],\n",
       "        [0.65882355, 0.5686275 , 0.47843137, 1.        ],\n",
       "        ...,\n",
       "        [0.00392157, 0.05490196, 0.03529412, 1.        ],\n",
       "        [0.03137255, 0.09019608, 0.05490196, 1.        ],\n",
       "        [0.04705882, 0.10588235, 0.06666667, 1.        ]],\n",
       "\n",
       "       [[0.9137255 , 0.83137256, 0.68235296, 1.        ],\n",
       "        [0.76862746, 0.68235296, 0.5882353 , 1.        ],\n",
       "        [0.59607846, 0.5058824 , 0.44313726, 1.        ],\n",
       "        ...,\n",
       "        [0.03921569, 0.10196079, 0.07058824, 1.        ],\n",
       "        [0.02745098, 0.08235294, 0.05882353, 1.        ],\n",
       "        [0.05098039, 0.11372549, 0.07058824, 1.        ]]], dtype=float32)"
      ]
     },
     "execution_count": 143,
     "metadata": {},
     "output_type": "execute_result"
    }
   ],
   "source": [
    "dog"
   ]
  }
 ],
 "metadata": {
  "colab": {
   "provenance": []
  },
  "kernelspec": {
   "display_name": "Python 3 (ipykernel)",
   "language": "python",
   "name": "python3"
  },
  "language_info": {
   "codemirror_mode": {
    "name": "ipython",
    "version": 3
   },
   "file_extension": ".py",
   "mimetype": "text/x-python",
   "name": "python",
   "nbconvert_exporter": "python",
   "pygments_lexer": "ipython3",
   "version": "3.11.5"
  }
 },
 "nbformat": 4,
 "nbformat_minor": 1
}
