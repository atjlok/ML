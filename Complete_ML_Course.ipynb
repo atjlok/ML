{
 "cells": [
  {
   "cell_type": "markdown",
   "id": "82079063",
   "metadata": {},
   "source": [
    "# Introduction to Machine Learning\n",
    "\n",
    "Welcome to the first session on Machine Learning!\n",
    "\n",
    "### What is Machine Learning?\n",
    "Machine Learning (ML) is a branch of Artificial Intelligence (AI) that enables computers to learn from data and make decisions without explicit programming.\n",
    "\n",
    "### Types of Machine Learning:\n",
    "1. **Supervised Learning** – Learning from labeled data.\n",
    "2. **Unsupervised Learning** – Finding patterns in unlabeled data.\n",
    "3. **Reinforcement Learning** – Learning through rewards and penalties.\n",
    "\n",
    "### Applications of ML in India:\n",
    "- **E-commerce**: Product recommendations (Amazon, Flipkart).\n",
    "- **Finance**: Fraud detection and stock market prediction.\n",
    "- **Healthcare**: Disease prediction and medical image analysis.\n",
    "- **Agriculture**: Crop yield prediction and soil analysis.\n",
    "\n",
    "---\n",
    "Let's get started with setting up our environment in the next session!\n"
   ]
  },
  {
   "cell_type": "markdown",
   "id": "92e4af50",
   "metadata": {},
   "source": [
    "# Setting Up the Environment\n",
    "\n",
    "To begin with Machine Learning, we need to install and import some essential libraries."
   ]
  },
  {
   "cell_type": "code",
   "execution_count": 1,
   "id": "7023b428",
   "metadata": {},
   "outputs": [
    {
     "name": "stdout",
     "output_type": "stream",
     "text": [
      "Libraries imported successfully!\n"
     ]
    }
   ],
   "source": [
    "import pandas as pd\n",
    "import numpy as np\n",
    "import matplotlib.pyplot as plt\n",
    "import seaborn as sns\n",
    "from sklearn.model_selection import train_test_split\n",
    "from sklearn.preprocessing import LabelEncoder, StandardScaler\n",
    "from sklearn.linear_model import LinearRegression\n",
    "from sklearn.metrics import mean_absolute_error, mean_squared_error, r2_score\n",
    "\n",
    "# Print confirmation\n",
    "print('Libraries imported successfully!')\n"
   ]
  },
  {
   "cell_type": "markdown",
   "id": "bf736848",
   "metadata": {},
   "source": [
    "Now that we have our environment ready, let's understand our dataset in the next session."
   ]
  },
  {
   "cell_type": "markdown",
   "id": "da48b3bb",
   "metadata": {},
   "source": [
    "# Understanding the Dataset\n",
    "\n",
    "For our case study, we will use a dataset of **house prices in India**.\n",
    "\n",
    "### Features in the dataset:\n",
    "- `Location`: The city where the house is located.\n",
    "- `Area`: The total area of the house in square feet.\n",
    "- `BHK`: The number of bedrooms, hall, and kitchen.\n",
    "- `Price`: The actual price of the house (Target variable).\n",
    "\n",
    "Let's load the dataset and explore it."
   ]
  },
  {
   "cell_type": "code",
   "execution_count": 2,
   "id": "40debc83",
   "metadata": {},
   "outputs": [
    {
     "data": {
      "text/html": [
       "<div>\n",
       "<style scoped>\n",
       "    .dataframe tbody tr th:only-of-type {\n",
       "        vertical-align: middle;\n",
       "    }\n",
       "\n",
       "    .dataframe tbody tr th {\n",
       "        vertical-align: top;\n",
       "    }\n",
       "\n",
       "    .dataframe thead th {\n",
       "        text-align: right;\n",
       "    }\n",
       "</style>\n",
       "<table border=\"1\" class=\"dataframe\">\n",
       "  <thead>\n",
       "    <tr style=\"text-align: right;\">\n",
       "      <th></th>\n",
       "      <th>Location</th>\n",
       "      <th>Area</th>\n",
       "      <th>BHK</th>\n",
       "      <th>Price</th>\n",
       "    </tr>\n",
       "  </thead>\n",
       "  <tbody>\n",
       "    <tr>\n",
       "      <th>0</th>\n",
       "      <td>Mumbai</td>\n",
       "      <td>1200</td>\n",
       "      <td>2</td>\n",
       "      <td>8500000</td>\n",
       "    </tr>\n",
       "    <tr>\n",
       "      <th>1</th>\n",
       "      <td>Delhi</td>\n",
       "      <td>1500</td>\n",
       "      <td>3</td>\n",
       "      <td>12500000</td>\n",
       "    </tr>\n",
       "    <tr>\n",
       "      <th>2</th>\n",
       "      <td>Bangalore</td>\n",
       "      <td>1100</td>\n",
       "      <td>2</td>\n",
       "      <td>7800000</td>\n",
       "    </tr>\n",
       "    <tr>\n",
       "      <th>3</th>\n",
       "      <td>Chennai</td>\n",
       "      <td>1800</td>\n",
       "      <td>4</td>\n",
       "      <td>15000000</td>\n",
       "    </tr>\n",
       "    <tr>\n",
       "      <th>4</th>\n",
       "      <td>Hyderabad</td>\n",
       "      <td>1300</td>\n",
       "      <td>3</td>\n",
       "      <td>9700000</td>\n",
       "    </tr>\n",
       "  </tbody>\n",
       "</table>\n",
       "</div>"
      ],
      "text/plain": [
       "    Location  Area  BHK     Price\n",
       "0     Mumbai  1200    2   8500000\n",
       "1      Delhi  1500    3  12500000\n",
       "2  Bangalore  1100    2   7800000\n",
       "3    Chennai  1800    4  15000000\n",
       "4  Hyderabad  1300    3   9700000"
      ]
     },
     "execution_count": 2,
     "metadata": {},
     "output_type": "execute_result"
    }
   ],
   "source": [
    "# Load dataset (Replace with actual file path if using a CSV)\n",
    "data = {\n",
    "    'Location': ['Mumbai', 'Delhi', 'Bangalore', 'Chennai', 'Hyderabad'],\n",
    "    'Area': [1200, 1500, 1100, 1800, 1300],\n",
    "    'BHK': [2, 3, 2, 4, 3],\n",
    "    'Price': [8500000, 12500000, 7800000, 15000000, 9700000]\n",
    "}\n",
    "df = pd.DataFrame(data)\n",
    "\n",
    "# Display the dataset\n",
    "df.head()\n"
   ]
  },
  {
   "cell_type": "markdown",
   "id": "867681df",
   "metadata": {},
   "source": [
    "Now that we have loaded the dataset, let's move on to **data cleaning and preprocessing** in the next session."
   ]
  },
  {
   "cell_type": "markdown",
   "id": "329dfd87",
   "metadata": {},
   "source": [
    "# Data Cleaning and Preprocessing\n",
    "\n",
    "Before training our model, we need to clean the data and prepare it for analysis."
   ]
  },
  {
   "cell_type": "code",
   "execution_count": 3,
   "id": "73642731",
   "metadata": {},
   "outputs": [
    {
     "name": "stdout",
     "output_type": "stream",
     "text": [
      "Location    0\n",
      "Area        0\n",
      "BHK         0\n",
      "Price       0\n",
      "dtype: int64\n"
     ]
    },
    {
     "data": {
      "text/html": [
       "<div>\n",
       "<style scoped>\n",
       "    .dataframe tbody tr th:only-of-type {\n",
       "        vertical-align: middle;\n",
       "    }\n",
       "\n",
       "    .dataframe tbody tr th {\n",
       "        vertical-align: top;\n",
       "    }\n",
       "\n",
       "    .dataframe thead th {\n",
       "        text-align: right;\n",
       "    }\n",
       "</style>\n",
       "<table border=\"1\" class=\"dataframe\">\n",
       "  <thead>\n",
       "    <tr style=\"text-align: right;\">\n",
       "      <th></th>\n",
       "      <th>Location</th>\n",
       "      <th>Area</th>\n",
       "      <th>BHK</th>\n",
       "      <th>Price</th>\n",
       "    </tr>\n",
       "  </thead>\n",
       "  <tbody>\n",
       "    <tr>\n",
       "      <th>0</th>\n",
       "      <td>4</td>\n",
       "      <td>-0.725241</td>\n",
       "      <td>-1.069045</td>\n",
       "      <td>-0.820119</td>\n",
       "    </tr>\n",
       "    <tr>\n",
       "      <th>1</th>\n",
       "      <td>2</td>\n",
       "      <td>0.483494</td>\n",
       "      <td>0.267261</td>\n",
       "      <td>0.671007</td>\n",
       "    </tr>\n",
       "    <tr>\n",
       "      <th>2</th>\n",
       "      <td>0</td>\n",
       "      <td>-1.128152</td>\n",
       "      <td>-1.069045</td>\n",
       "      <td>-1.081067</td>\n",
       "    </tr>\n",
       "    <tr>\n",
       "      <th>3</th>\n",
       "      <td>1</td>\n",
       "      <td>1.692228</td>\n",
       "      <td>1.603567</td>\n",
       "      <td>1.602961</td>\n",
       "    </tr>\n",
       "    <tr>\n",
       "      <th>4</th>\n",
       "      <td>3</td>\n",
       "      <td>-0.322329</td>\n",
       "      <td>0.267261</td>\n",
       "      <td>-0.372782</td>\n",
       "    </tr>\n",
       "  </tbody>\n",
       "</table>\n",
       "</div>"
      ],
      "text/plain": [
       "   Location      Area       BHK     Price\n",
       "0         4 -0.725241 -1.069045 -0.820119\n",
       "1         2  0.483494  0.267261  0.671007\n",
       "2         0 -1.128152 -1.069045 -1.081067\n",
       "3         1  1.692228  1.603567  1.602961\n",
       "4         3 -0.322329  0.267261 -0.372782"
      ]
     },
     "execution_count": 3,
     "metadata": {},
     "output_type": "execute_result"
    }
   ],
   "source": [
    "# Check for missing values\n",
    "print(df.isnull().sum())\n",
    "\n",
    "# Convert categorical values into numerical format\n",
    "encoder = LabelEncoder()\n",
    "df['Location'] = encoder.fit_transform(df['Location'])\n",
    "\n",
    "# Normalize the numerical data\n",
    "scaler = StandardScaler()\n",
    "df[['Area', 'BHK', 'Price']] = scaler.fit_transform(df[['Area', 'BHK', 'Price']])\n",
    "\n",
    "# Display the cleaned data\n",
    "df.head()\n"
   ]
  },
  {
   "cell_type": "markdown",
   "id": "42a2d690",
   "metadata": {},
   "source": [
    "With a clean dataset, we can now perform **Exploratory Data Analysis (EDA)** in the next session."
   ]
  },
  {
   "cell_type": "markdown",
   "id": "3cb7a908",
   "metadata": {},
   "source": [
    "# Exploratory Data Analysis (EDA)\n",
    "\n",
    "Let's analyze our dataset visually."
   ]
  },
  {
   "cell_type": "code",
   "execution_count": 5,
   "id": "37b7f8a5",
   "metadata": {},
   "outputs": [
    {
     "name": "stderr",
     "output_type": "stream",
     "text": [
      "C:\\Users\\SUPER\\anaconda3\\Lib\\site-packages\\seaborn\\_oldcore.py:1119: FutureWarning: use_inf_as_na option is deprecated and will be removed in a future version. Convert inf values to NaN before operating instead.\n",
      "  with pd.option_context('mode.use_inf_as_na', True):\n"
     ]
    },
    {
     "data": {
      "text/plain": [
       "Text(0.5, 1.0, 'House Price Distribution')"
      ]
     },
     "execution_count": 5,
     "metadata": {},
     "output_type": "execute_result"
    },
    {
     "data": {
      "image/png": "[encoded data removed]",
      "text/plain": [
       "<Figure size 640x480 with 1 Axes>"
      ]
     },
     "metadata": {},
     "output_type": "display_data"
    }
   ],
   "source": [
    "# Visualize price distribution\n",
    "sns.histplot(df['Price'], bins=20, kde=True)\n",
    "plt.title('House Price Distribution')"
   ]
  },
  {
   "cell_type": "code",
   "execution_count": 6,
   "id": "04c3c4ce",
   "metadata": {},
   "outputs": [],
   "source": [
    "plt.show()"
   ]
  },
  {
   "cell_type": "code",
   "execution_count": 7,
   "id": "0e0167a3",
   "metadata": {},
   "outputs": [
    {
     "name": "stderr",
     "output_type": "stream",
     "text": [
      "C:\\Users\\SUPER\\anaconda3\\Lib\\site-packages\\seaborn\\_oldcore.py:1119: FutureWarning: use_inf_as_na option is deprecated and will be removed in a future version. Convert inf values to NaN before operating instead.\n",
      "  with pd.option_context('mode.use_inf_as_na', True):\n",
      "C:\\Users\\SUPER\\anaconda3\\Lib\\site-packages\\seaborn\\_oldcore.py:1119: FutureWarning: use_inf_as_na option is deprecated and will be removed in a future version. Convert inf values to NaN before operating instead.\n",
      "  with pd.option_context('mode.use_inf_as_na', True):\n",
      "C:\\Users\\SUPER\\anaconda3\\Lib\\site-packages\\seaborn\\_oldcore.py:1119: FutureWarning: use_inf_as_na option is deprecated and will be removed in a future version. Convert inf values to NaN before operating instead.\n",
      "  with pd.option_context('mode.use_inf_as_na', True):\n",
      "C:\\Users\\SUPER\\anaconda3\\Lib\\site-packages\\seaborn\\_oldcore.py:1119: FutureWarning: use_inf_as_na option is deprecated and will be removed in a future version. Convert inf values to NaN before operating instead.\n",
      "  with pd.option_context('mode.use_inf_as_na', True):\n"
     ]
    },
    {
     "data": {
      "text/plain": [
       "<seaborn.axisgrid.PairGrid at 0x17bea1b2a50>"
      ]
     },
     "execution_count": 7,
     "metadata": {},
     "output_type": "execute_result"
    },
    {
     "data": {
      "image/png": "[encoded data removed]",
      "text/plain": [
       "<Figure size 1000x1000 with 20 Axes>"
      ]
     },
     "metadata": {},
     "output_type": "display_data"
    }
   ],
   "source": [
    "# Pairplot for feature relationships\n",
    "sns.pairplot(df)"
   ]
  },
  {
   "cell_type": "code",
   "execution_count": null,
   "id": "4b4261f4",
   "metadata": {},
   "outputs": [],
   "source": [
    "plt.show()"
   ]
  },
  {
   "cell_type": "markdown",
   "id": "d96bf507",
   "metadata": {},
   "source": [
    "Now that we understand our data better, we can split it and train a model in the next session."
   ]
  },
  {
   "cell_type": "markdown",
   "id": "96f0ce97",
   "metadata": {},
   "source": [
    "# Splitting Data and Choosing a Model\n",
    "\n",
    "We split our dataset into **training (80%) and testing (20%)** sets."
   ]
  },
  {
   "cell_type": "code",
   "execution_count": 8,
   "id": "b44c3e7d",
   "metadata": {},
   "outputs": [
    {
     "name": "stdout",
     "output_type": "stream",
     "text": [
      "Data split successfully!\n"
     ]
    }
   ],
   "source": [
    "# Split data into training and test sets\n",
    "X = df[['Location', 'Area', 'BHK']]\n",
    "y = df['Price']\n",
    "\n",
    "X_train, X_test, y_train, y_test = train_test_split(X, y, test_size=0.2, random_state=42)\n",
    "print('Data split successfully!')\n"
   ]
  },
  {
   "cell_type": "markdown",
   "id": "2932ba2c",
   "metadata": {},
   "source": [
    "Next, we will train our model."
   ]
  },
  {
   "cell_type": "markdown",
   "id": "062ce855",
   "metadata": {},
   "source": [
    "# Training and Testing the Model\n",
    "\n",
    "Let's train a **Linear Regression model**."
   ]
  },
  {
   "cell_type": "code",
   "execution_count": 9,
   "id": "0d53f571",
   "metadata": {},
   "outputs": [
    {
     "name": "stdout",
     "output_type": "stream",
     "text": [
      "Model trained successfully!\n"
     ]
    }
   ],
   "source": [
    "# Train a Linear Regression model\n",
    "model = LinearRegression()\n",
    "model.fit(X_train, y_train)\n",
    "\n",
    "# Make predictions\n",
    "y_pred = model.predict(X_test)\n",
    "\n",
    "print('Model trained successfully!')\n"
   ]
  },
  {
   "cell_type": "markdown",
   "id": "7dc3408e",
   "metadata": {},
   "source": [
    "Next, we will evaluate the model's performance."
   ]
  },
  {
   "cell_type": "markdown",
   "id": "e161318c",
   "metadata": {},
   "source": [
    "# Evaluating the Model\n",
    "\n",
    "Let's check how well our model performed."
   ]
  },
  {
   "cell_type": "code",
   "execution_count": 10,
   "id": "79885bf1",
   "metadata": {},
   "outputs": [
    {
     "name": "stdout",
     "output_type": "stream",
     "text": [
      "MAE: 0.26533275817306634\n",
      "MSE: 0.0704014725597269\n",
      "R² Score: nan\n"
     ]
    },
    {
     "name": "stderr",
     "output_type": "stream",
     "text": [
      "C:\\Users\\SUPER\\anaconda3\\Lib\\site-packages\\sklearn\\metrics\\_regression.py:1187: UndefinedMetricWarning: R^2 score is not well-defined with less than two samples.\n",
      "  warnings.warn(msg, UndefinedMetricWarning)\n"
     ]
    }
   ],
   "source": [
    "# Evaluate performance\n",
    "mae = mean_absolute_error(y_test, y_pred)\n",
    "mse = mean_squared_error(y_test, y_pred)\n",
    "r2 = r2_score(y_test, y_pred)\n",
    "\n",
    "print(f'MAE: {mae}')\n",
    "print(f'MSE: {mse}')\n",
    "print(f'R² Score: {r2}')\n"
   ]
  },
  {
   "cell_type": "markdown",
   "id": "892a4ee6",
   "metadata": {},
   "source": [
    "Next, we will try improving the model."
   ]
  },
  {
   "cell_type": "markdown",
   "id": "ff95d821",
   "metadata": {},
   "source": [
    "# Improving the Model\n",
    "\n",
    "Let's enhance our model using **feature engineering and hyperparameter tuning**."
   ]
  },
  {
   "cell_type": "code",
   "execution_count": 11,
   "id": "482050c9",
   "metadata": {},
   "outputs": [
    {
     "name": "stdout",
     "output_type": "stream",
     "text": [
      "Model improved with polynomial features!\n"
     ]
    }
   ],
   "source": [
    "# Try adding polynomial features\n",
    "from sklearn.preprocessing import PolynomialFeatures\n",
    "poly = PolynomialFeatures(degree=2)\n",
    "X_train_poly = poly.fit_transform(X_train)\n",
    "X_test_poly = poly.transform(X_test)\n",
    "\n",
    "# Train again with new features\n",
    "model_poly = LinearRegression()\n",
    "model_poly.fit(X_train_poly, y_train)\n",
    "\n",
    "print('Model improved with polynomial features!')\n"
   ]
  },
  {
   "cell_type": "markdown",
   "id": "0d721a8f",
   "metadata": {},
   "source": [
    "Finally, let's summarize our learnings."
   ]
  },
  {
   "cell_type": "markdown",
   "id": "9b45f9fb",
   "metadata": {},
   "source": [
    "# Conclusion and Next Steps\n",
    "\n",
    "### Key Takeaways:\n",
    "✅ Machine Learning helps analyze data and make predictions.\n",
    "✅ Data preprocessing is crucial for accurate results.\n",
    "✅ Model evaluation guides us to improve performance.\n",
    "\n",
    "### What's Next?\n",
    "📌 Try using different datasets.\n",
    "📌 Experiment with other ML algorithms.\n",
    "📌 Learn about Deep Learning and AI!\n",
    "\n",
    "Thank you for learning with us! 🚀"
   ]
  }
 ],
 "metadata": {
  "kernelspec": {
   "display_name": "Python 3 (ipykernel)",
   "language": "python",
   "name": "python3"
  },
  "language_info": {
   "codemirror_mode": {
    "name": "ipython",
    "version": 3
   },
   "file_extension": ".py",
   "mimetype": "text/x-python",
   "name": "python",
   "nbconvert_exporter": "python",
   "pygments_lexer": "ipython3",
   "version": "3.11.5"
  }
 },
 "nbformat": 4,
 "nbformat_minor": 5
}
